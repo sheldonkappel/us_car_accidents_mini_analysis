{
  "nbformat": 4,
  "nbformat_minor": 0,
  "metadata": {
    "colab": {
      "name": "us-accidents-EDA.ipynb",
      "provenance": [],
      "collapsed_sections": []
    },
    "kernelspec": {
      "display_name": "Python 3",
      "name": "python3"
    },
    "language_info": {
      "name": "python"
    }
  },
  "cells": [
    {
      "cell_type": "markdown",
      "metadata": {
        "id": "9Vo6sv6nTPuO"
      },
      "source": [
        "# US Accidents Exploratory Data Analysis\n",
        "\n",
        "- **About this File** (Copied from kaggle)\n",
        "\n",
        "\"This is a countrywide car accident dataset, which covers 49 states of the USA. The accident data are collected from February 2016 to Dec 2020, using multiple APIs that provide streaming traffic incident (or event) data. These APIs broadcast traffic data captured by a variety of entities, such as the US and state departments of transportation, law enforcement agencies, traffic cameras, and traffic sensors within the road-networks. Currently, there are about 1.5 million accident records in this dataset. Check here to learn more about this dataset.\"\n",
        "\n",
        "- **Data Removal** (Updated Dataset)\n",
        "\n",
        "\"Please note that we removed a portion of the data due to a request from one of the main traffic data providers.\"\n",
        "\n",
        "*Unfortunately, no information was given concerning <u>which</u> API this was exactly and to what specific areas it caputured data from so this this will introduce some error into the analysis. However, we do know that the previous number of accidents in this record was approximately 4.2 million and that this one has around 1.5 million accidents in the record, which is plenty enough for our analysis.*"
      ]
    },
    {
      "cell_type": "code",
      "metadata": {
        "id": "Qwo92VgRFGRF"
      },
      "source": [
        "# this block is just so that I can later display the plotly outputs in a png format so that they are viewable on github\n",
        "\n",
        "!pip install plotly>=4.7.1 &> /dev/null\n",
        "!wget https://github.com/plotly/orca/releases/download/v1.2.1/orca-1.2.1-x86_64.AppImage -O /usr/local/bin/orca &> /dev/null\n",
        "!chmod +x /usr/local/bin/orca &> /dev/null\n",
        "!apt-get install xvfb libgtk2.0-0 libgconf-2-4 &> /dev/null"
      ],
      "execution_count": 1,
      "outputs": []
    },
    {
      "cell_type": "code",
      "metadata": {
        "id": "WaM67xkFILFu",
        "colab": {
          "base_uri": "https://localhost:8080/"
        },
        "outputId": "e2cdbf75-fcf7-45a8-9194-36babfae434f"
      },
      "source": [
        "pip install -U kaleido --quiet"
      ],
      "execution_count": 2,
      "outputs": [
        {
          "output_type": "stream",
          "name": "stdout",
          "text": [
            "\u001b[K     |████████████████████████████████| 79.9 MB 50 kB/s \n",
            "\u001b[?25h"
          ]
        }
      ]
    },
    {
      "cell_type": "code",
      "metadata": {
        "id": "UROPiSzpNyqp"
      },
      "source": [
        "pip install opendatasets --quiet"
      ],
      "execution_count": 3,
      "outputs": []
    },
    {
      "cell_type": "code",
      "metadata": {
        "id": "2_p2rfweJ_gO"
      },
      "source": [
        "pip install plotly --quiet"
      ],
      "execution_count": 4,
      "outputs": []
    },
    {
      "cell_type": "code",
      "metadata": {
        "id": "MyQd4elH6JzU"
      },
      "source": [
        "import plotly.express as px\n",
        "import plotly.graph_objects as go\n"
      ],
      "execution_count": 5,
      "outputs": []
    },
    {
      "cell_type": "code",
      "metadata": {
        "id": "hGK6eqbLSQvm"
      },
      "source": [
        "import warnings\n",
        "warnings.filterwarnings('ignore')"
      ],
      "execution_count": 6,
      "outputs": []
    },
    {
      "cell_type": "code",
      "metadata": {
        "colab": {
          "base_uri": "https://localhost:8080/"
        },
        "id": "JI9X0WKiTLkr",
        "outputId": "a080e68b-b982-45dc-d7c7-c24ebeb39192"
      },
      "source": [
        "import opendatasets as od\n",
        "\n",
        "download_url = 'https://www.kaggle.com/sobhanmoosavi/us-accidents'\n",
        "\n",
        "od.download(download_url)"
      ],
      "execution_count": 7,
      "outputs": [
        {
          "output_type": "stream",
          "name": "stdout",
          "text": [
            "Please provide your Kaggle credentials to download this dataset. Learn more: http://bit.ly/kaggle-creds\n",
            "Your Kaggle username: swagster9000\n",
            "Your Kaggle Key: ··········\n",
            "Downloading us-accidents.zip to ./us-accidents\n"
          ]
        },
        {
          "output_type": "stream",
          "name": "stderr",
          "text": [
            "100%|██████████| 117M/117M [00:00<00:00, 134MB/s]\n"
          ]
        },
        {
          "output_type": "stream",
          "name": "stdout",
          "text": [
            "\n"
          ]
        }
      ]
    },
    {
      "cell_type": "code",
      "metadata": {
        "id": "g1eFBLBRTfgK"
      },
      "source": [
        "data_filename = './us-accidents/US_Accidents_Dec20_updated.csv'"
      ],
      "execution_count": 8,
      "outputs": []
    },
    {
      "cell_type": "markdown",
      "metadata": {
        "id": "-_5J5XrdUB2F"
      },
      "source": [
        "## Data Preparation and Cleaning\n",
        "\n",
        "1. Load the file using Pandas\n",
        "\n",
        "2. Look at some information about the data and the columns\n",
        "\n",
        "3. Fix any missing or incorrect values"
      ]
    },
    {
      "cell_type": "code",
      "metadata": {
        "id": "R_x-CBR7T5zi"
      },
      "source": [
        "import pandas as pd\n",
        "import numpy as np\n",
        "import matplotlib.pyplot as plt"
      ],
      "execution_count": 9,
      "outputs": []
    },
    {
      "cell_type": "code",
      "metadata": {
        "id": "nLq4FV6TUKcC"
      },
      "source": [
        "df = pd.read_csv(data_filename)"
      ],
      "execution_count": 10,
      "outputs": []
    },
    {
      "cell_type": "code",
      "metadata": {
        "colab": {
          "base_uri": "https://localhost:8080/",
          "height": 428
        },
        "id": "UiNVJXErUVQw",
        "outputId": "f6ea09c7-6103-4652-f3bd-776f521fe83b"
      },
      "source": [
        "df.head()"
      ],
      "execution_count": 11,
      "outputs": [
        {
          "output_type": "execute_result",
          "data": {
            "text/html": [
              "<div>\n",
              "<style scoped>\n",
              "    .dataframe tbody tr th:only-of-type {\n",
              "        vertical-align: middle;\n",
              "    }\n",
              "\n",
              "    .dataframe tbody tr th {\n",
              "        vertical-align: top;\n",
              "    }\n",
              "\n",
              "    .dataframe thead th {\n",
              "        text-align: right;\n",
              "    }\n",
              "</style>\n",
              "<table border=\"1\" class=\"dataframe\">\n",
              "  <thead>\n",
              "    <tr style=\"text-align: right;\">\n",
              "      <th></th>\n",
              "      <th>ID</th>\n",
              "      <th>Severity</th>\n",
              "      <th>Start_Time</th>\n",
              "      <th>End_Time</th>\n",
              "      <th>Start_Lat</th>\n",
              "      <th>Start_Lng</th>\n",
              "      <th>End_Lat</th>\n",
              "      <th>End_Lng</th>\n",
              "      <th>Distance(mi)</th>\n",
              "      <th>Description</th>\n",
              "      <th>Number</th>\n",
              "      <th>Street</th>\n",
              "      <th>Side</th>\n",
              "      <th>City</th>\n",
              "      <th>County</th>\n",
              "      <th>State</th>\n",
              "      <th>Zipcode</th>\n",
              "      <th>Country</th>\n",
              "      <th>Timezone</th>\n",
              "      <th>Airport_Code</th>\n",
              "      <th>Weather_Timestamp</th>\n",
              "      <th>Temperature(F)</th>\n",
              "      <th>Wind_Chill(F)</th>\n",
              "      <th>Humidity(%)</th>\n",
              "      <th>Pressure(in)</th>\n",
              "      <th>Visibility(mi)</th>\n",
              "      <th>Wind_Direction</th>\n",
              "      <th>Wind_Speed(mph)</th>\n",
              "      <th>Precipitation(in)</th>\n",
              "      <th>Weather_Condition</th>\n",
              "      <th>Amenity</th>\n",
              "      <th>Bump</th>\n",
              "      <th>Crossing</th>\n",
              "      <th>Give_Way</th>\n",
              "      <th>Junction</th>\n",
              "      <th>No_Exit</th>\n",
              "      <th>Railway</th>\n",
              "      <th>Roundabout</th>\n",
              "      <th>Station</th>\n",
              "      <th>Stop</th>\n",
              "      <th>Traffic_Calming</th>\n",
              "      <th>Traffic_Signal</th>\n",
              "      <th>Turning_Loop</th>\n",
              "      <th>Sunrise_Sunset</th>\n",
              "      <th>Civil_Twilight</th>\n",
              "      <th>Nautical_Twilight</th>\n",
              "      <th>Astronomical_Twilight</th>\n",
              "    </tr>\n",
              "  </thead>\n",
              "  <tbody>\n",
              "    <tr>\n",
              "      <th>0</th>\n",
              "      <td>A-2716600</td>\n",
              "      <td>3</td>\n",
              "      <td>2016-02-08 00:37:08</td>\n",
              "      <td>2016-02-08 06:37:08</td>\n",
              "      <td>40.10891</td>\n",
              "      <td>-83.09286</td>\n",
              "      <td>40.11206</td>\n",
              "      <td>-83.03187</td>\n",
              "      <td>3.230</td>\n",
              "      <td>Between Sawmill Rd/Exit 20 and OH-315/Olentang...</td>\n",
              "      <td>NaN</td>\n",
              "      <td>Outerbelt E</td>\n",
              "      <td>R</td>\n",
              "      <td>Dublin</td>\n",
              "      <td>Franklin</td>\n",
              "      <td>OH</td>\n",
              "      <td>43017</td>\n",
              "      <td>US</td>\n",
              "      <td>US/Eastern</td>\n",
              "      <td>KOSU</td>\n",
              "      <td>2016-02-08 00:53:00</td>\n",
              "      <td>42.1</td>\n",
              "      <td>36.1</td>\n",
              "      <td>58.0</td>\n",
              "      <td>29.76</td>\n",
              "      <td>10.0</td>\n",
              "      <td>SW</td>\n",
              "      <td>10.4</td>\n",
              "      <td>0.00</td>\n",
              "      <td>Light Rain</td>\n",
              "      <td>False</td>\n",
              "      <td>False</td>\n",
              "      <td>False</td>\n",
              "      <td>False</td>\n",
              "      <td>False</td>\n",
              "      <td>False</td>\n",
              "      <td>False</td>\n",
              "      <td>False</td>\n",
              "      <td>False</td>\n",
              "      <td>False</td>\n",
              "      <td>False</td>\n",
              "      <td>False</td>\n",
              "      <td>False</td>\n",
              "      <td>Night</td>\n",
              "      <td>Night</td>\n",
              "      <td>Night</td>\n",
              "      <td>Night</td>\n",
              "    </tr>\n",
              "    <tr>\n",
              "      <th>1</th>\n",
              "      <td>A-2716601</td>\n",
              "      <td>2</td>\n",
              "      <td>2016-02-08 05:56:20</td>\n",
              "      <td>2016-02-08 11:56:20</td>\n",
              "      <td>39.86542</td>\n",
              "      <td>-84.06280</td>\n",
              "      <td>39.86501</td>\n",
              "      <td>-84.04873</td>\n",
              "      <td>0.747</td>\n",
              "      <td>At OH-4/OH-235/Exit 41 - Accident.</td>\n",
              "      <td>NaN</td>\n",
              "      <td>I-70 E</td>\n",
              "      <td>R</td>\n",
              "      <td>Dayton</td>\n",
              "      <td>Montgomery</td>\n",
              "      <td>OH</td>\n",
              "      <td>45424</td>\n",
              "      <td>US</td>\n",
              "      <td>US/Eastern</td>\n",
              "      <td>KFFO</td>\n",
              "      <td>2016-02-08 05:58:00</td>\n",
              "      <td>36.9</td>\n",
              "      <td>NaN</td>\n",
              "      <td>91.0</td>\n",
              "      <td>29.68</td>\n",
              "      <td>10.0</td>\n",
              "      <td>Calm</td>\n",
              "      <td>NaN</td>\n",
              "      <td>0.02</td>\n",
              "      <td>Light Rain</td>\n",
              "      <td>False</td>\n",
              "      <td>False</td>\n",
              "      <td>False</td>\n",
              "      <td>False</td>\n",
              "      <td>False</td>\n",
              "      <td>False</td>\n",
              "      <td>False</td>\n",
              "      <td>False</td>\n",
              "      <td>False</td>\n",
              "      <td>False</td>\n",
              "      <td>False</td>\n",
              "      <td>False</td>\n",
              "      <td>False</td>\n",
              "      <td>Night</td>\n",
              "      <td>Night</td>\n",
              "      <td>Night</td>\n",
              "      <td>Night</td>\n",
              "    </tr>\n",
              "    <tr>\n",
              "      <th>2</th>\n",
              "      <td>A-2716602</td>\n",
              "      <td>2</td>\n",
              "      <td>2016-02-08 06:15:39</td>\n",
              "      <td>2016-02-08 12:15:39</td>\n",
              "      <td>39.10266</td>\n",
              "      <td>-84.52468</td>\n",
              "      <td>39.10209</td>\n",
              "      <td>-84.52396</td>\n",
              "      <td>0.055</td>\n",
              "      <td>At I-71/US-50/Exit 1 - Accident.</td>\n",
              "      <td>NaN</td>\n",
              "      <td>I-75 S</td>\n",
              "      <td>R</td>\n",
              "      <td>Cincinnati</td>\n",
              "      <td>Hamilton</td>\n",
              "      <td>OH</td>\n",
              "      <td>45203</td>\n",
              "      <td>US</td>\n",
              "      <td>US/Eastern</td>\n",
              "      <td>KLUK</td>\n",
              "      <td>2016-02-08 05:53:00</td>\n",
              "      <td>36.0</td>\n",
              "      <td>NaN</td>\n",
              "      <td>97.0</td>\n",
              "      <td>29.70</td>\n",
              "      <td>10.0</td>\n",
              "      <td>Calm</td>\n",
              "      <td>NaN</td>\n",
              "      <td>0.02</td>\n",
              "      <td>Overcast</td>\n",
              "      <td>False</td>\n",
              "      <td>False</td>\n",
              "      <td>False</td>\n",
              "      <td>False</td>\n",
              "      <td>True</td>\n",
              "      <td>False</td>\n",
              "      <td>False</td>\n",
              "      <td>False</td>\n",
              "      <td>False</td>\n",
              "      <td>False</td>\n",
              "      <td>False</td>\n",
              "      <td>False</td>\n",
              "      <td>False</td>\n",
              "      <td>Night</td>\n",
              "      <td>Night</td>\n",
              "      <td>Night</td>\n",
              "      <td>Day</td>\n",
              "    </tr>\n",
              "    <tr>\n",
              "      <th>3</th>\n",
              "      <td>A-2716603</td>\n",
              "      <td>2</td>\n",
              "      <td>2016-02-08 06:15:39</td>\n",
              "      <td>2016-02-08 12:15:39</td>\n",
              "      <td>39.10148</td>\n",
              "      <td>-84.52341</td>\n",
              "      <td>39.09841</td>\n",
              "      <td>-84.52241</td>\n",
              "      <td>0.219</td>\n",
              "      <td>At I-71/US-50/Exit 1 - Accident.</td>\n",
              "      <td>NaN</td>\n",
              "      <td>US-50 E</td>\n",
              "      <td>R</td>\n",
              "      <td>Cincinnati</td>\n",
              "      <td>Hamilton</td>\n",
              "      <td>OH</td>\n",
              "      <td>45202</td>\n",
              "      <td>US</td>\n",
              "      <td>US/Eastern</td>\n",
              "      <td>KLUK</td>\n",
              "      <td>2016-02-08 05:53:00</td>\n",
              "      <td>36.0</td>\n",
              "      <td>NaN</td>\n",
              "      <td>97.0</td>\n",
              "      <td>29.70</td>\n",
              "      <td>10.0</td>\n",
              "      <td>Calm</td>\n",
              "      <td>NaN</td>\n",
              "      <td>0.02</td>\n",
              "      <td>Overcast</td>\n",
              "      <td>False</td>\n",
              "      <td>False</td>\n",
              "      <td>False</td>\n",
              "      <td>False</td>\n",
              "      <td>True</td>\n",
              "      <td>False</td>\n",
              "      <td>False</td>\n",
              "      <td>False</td>\n",
              "      <td>False</td>\n",
              "      <td>False</td>\n",
              "      <td>False</td>\n",
              "      <td>False</td>\n",
              "      <td>False</td>\n",
              "      <td>Night</td>\n",
              "      <td>Night</td>\n",
              "      <td>Night</td>\n",
              "      <td>Day</td>\n",
              "    </tr>\n",
              "    <tr>\n",
              "      <th>4</th>\n",
              "      <td>A-2716604</td>\n",
              "      <td>2</td>\n",
              "      <td>2016-02-08 06:51:45</td>\n",
              "      <td>2016-02-08 12:51:45</td>\n",
              "      <td>41.06213</td>\n",
              "      <td>-81.53784</td>\n",
              "      <td>41.06217</td>\n",
              "      <td>-81.53547</td>\n",
              "      <td>0.123</td>\n",
              "      <td>At Dart Ave/Exit 21 - Accident.</td>\n",
              "      <td>NaN</td>\n",
              "      <td>I-77 N</td>\n",
              "      <td>R</td>\n",
              "      <td>Akron</td>\n",
              "      <td>Summit</td>\n",
              "      <td>OH</td>\n",
              "      <td>44311</td>\n",
              "      <td>US</td>\n",
              "      <td>US/Eastern</td>\n",
              "      <td>KAKR</td>\n",
              "      <td>2016-02-08 06:54:00</td>\n",
              "      <td>39.0</td>\n",
              "      <td>NaN</td>\n",
              "      <td>55.0</td>\n",
              "      <td>29.65</td>\n",
              "      <td>10.0</td>\n",
              "      <td>Calm</td>\n",
              "      <td>NaN</td>\n",
              "      <td>NaN</td>\n",
              "      <td>Overcast</td>\n",
              "      <td>False</td>\n",
              "      <td>False</td>\n",
              "      <td>False</td>\n",
              "      <td>False</td>\n",
              "      <td>False</td>\n",
              "      <td>False</td>\n",
              "      <td>False</td>\n",
              "      <td>False</td>\n",
              "      <td>False</td>\n",
              "      <td>False</td>\n",
              "      <td>False</td>\n",
              "      <td>False</td>\n",
              "      <td>False</td>\n",
              "      <td>Night</td>\n",
              "      <td>Night</td>\n",
              "      <td>Day</td>\n",
              "      <td>Day</td>\n",
              "    </tr>\n",
              "  </tbody>\n",
              "</table>\n",
              "</div>"
            ],
            "text/plain": [
              "          ID  Severity  ... Nautical_Twilight Astronomical_Twilight\n",
              "0  A-2716600         3  ...             Night                 Night\n",
              "1  A-2716601         2  ...             Night                 Night\n",
              "2  A-2716602         2  ...             Night                   Day\n",
              "3  A-2716603         2  ...             Night                   Day\n",
              "4  A-2716604         2  ...               Day                   Day\n",
              "\n",
              "[5 rows x 47 columns]"
            ]
          },
          "metadata": {},
          "execution_count": 11
        }
      ]
    },
    {
      "cell_type": "code",
      "metadata": {
        "colab": {
          "base_uri": "https://localhost:8080/"
        },
        "id": "KpK_HMYeUiRB",
        "outputId": "bd3c265a-d054-41a3-c690-629dbc408141"
      },
      "source": [
        "# data type info about the columns\n",
        "df.info()"
      ],
      "execution_count": 51,
      "outputs": [
        {
          "output_type": "stream",
          "name": "stdout",
          "text": [
            "<class 'pandas.core.frame.DataFrame'>\n",
            "RangeIndex: 1516064 entries, 0 to 1516063\n",
            "Data columns (total 47 columns):\n",
            " #   Column                 Non-Null Count    Dtype         \n",
            "---  ------                 --------------    -----         \n",
            " 0   ID                     1516064 non-null  object        \n",
            " 1   Severity               1516064 non-null  int64         \n",
            " 2   Start_Time             1516064 non-null  datetime64[ns]\n",
            " 3   End_Time               1516064 non-null  datetime64[ns]\n",
            " 4   Start_Lat              1516064 non-null  float64       \n",
            " 5   Start_Lng              1516064 non-null  float64       \n",
            " 6   End_Lat                1516064 non-null  float64       \n",
            " 7   End_Lng                1516064 non-null  float64       \n",
            " 8   Distance(mi)           1516064 non-null  float64       \n",
            " 9   Description            1516064 non-null  object        \n",
            " 10  Number                 469969 non-null   float64       \n",
            " 11  Street                 1516064 non-null  object        \n",
            " 12  Side                   1516064 non-null  object        \n",
            " 13  City                   1515981 non-null  object        \n",
            " 14  County                 1516064 non-null  object        \n",
            " 15  State                  1516064 non-null  object        \n",
            " 16  Zipcode                1515129 non-null  object        \n",
            " 17  Country                1516064 non-null  object        \n",
            " 18  Timezone               1513762 non-null  object        \n",
            " 19  Airport_Code           1511816 non-null  object        \n",
            " 20  Weather_Timestamp      1485800 non-null  datetime64[ns]\n",
            " 21  Temperature(F)         1473031 non-null  float64       \n",
            " 22  Wind_Chill(F)          1066748 non-null  float64       \n",
            " 23  Humidity(%)            1470555 non-null  float64       \n",
            " 24  Pressure(in)           1479790 non-null  float64       \n",
            " 25  Visibility(mi)         1471853 non-null  float64       \n",
            " 26  Wind_Direction         1474206 non-null  object        \n",
            " 27  Wind_Speed(mph)        1387202 non-null  float64       \n",
            " 28  Precipitation(in)      1005515 non-null  float64       \n",
            " 29  Weather_Condition      1472057 non-null  object        \n",
            " 30  Amenity                1516064 non-null  bool          \n",
            " 31  Bump                   1516064 non-null  bool          \n",
            " 32  Crossing               1516064 non-null  bool          \n",
            " 33  Give_Way               1516064 non-null  bool          \n",
            " 34  Junction               1516064 non-null  bool          \n",
            " 35  No_Exit                1516064 non-null  bool          \n",
            " 36  Railway                1516064 non-null  bool          \n",
            " 37  Roundabout             1516064 non-null  bool          \n",
            " 38  Station                1516064 non-null  bool          \n",
            " 39  Stop                   1516064 non-null  bool          \n",
            " 40  Traffic_Calming        1516064 non-null  bool          \n",
            " 41  Traffic_Signal         1516064 non-null  bool          \n",
            " 42  Turning_Loop           1516064 non-null  bool          \n",
            " 43  Sunrise_Sunset         1515981 non-null  object        \n",
            " 44  Civil_Twilight         1515981 non-null  object        \n",
            " 45  Nautical_Twilight      1515981 non-null  object        \n",
            " 46  Astronomical_Twilight  1515981 non-null  object        \n",
            "dtypes: bool(13), datetime64[ns](3), float64(13), int64(1), object(17)\n",
            "memory usage: 412.1+ MB\n"
          ]
        }
      ]
    },
    {
      "cell_type": "markdown",
      "metadata": {
        "id": "BZtu5j5-Vmgk"
      },
      "source": [
        "There are a total of 47 columns in this dataframe with various types of data types."
      ]
    },
    {
      "cell_type": "code",
      "metadata": {
        "colab": {
          "base_uri": "https://localhost:8080/",
          "height": 297
        },
        "id": "53yPM8duUooJ",
        "outputId": "1c9d529b-cb30-451b-c1b7-eabdc2efba95"
      },
      "source": [
        "df.describe()"
      ],
      "execution_count": 13,
      "outputs": [
        {
          "output_type": "execute_result",
          "data": {
            "text/html": [
              "<div>\n",
              "<style scoped>\n",
              "    .dataframe tbody tr th:only-of-type {\n",
              "        vertical-align: middle;\n",
              "    }\n",
              "\n",
              "    .dataframe tbody tr th {\n",
              "        vertical-align: top;\n",
              "    }\n",
              "\n",
              "    .dataframe thead th {\n",
              "        text-align: right;\n",
              "    }\n",
              "</style>\n",
              "<table border=\"1\" class=\"dataframe\">\n",
              "  <thead>\n",
              "    <tr style=\"text-align: right;\">\n",
              "      <th></th>\n",
              "      <th>Severity</th>\n",
              "      <th>Start_Lat</th>\n",
              "      <th>Start_Lng</th>\n",
              "      <th>End_Lat</th>\n",
              "      <th>End_Lng</th>\n",
              "      <th>Distance(mi)</th>\n",
              "      <th>Number</th>\n",
              "      <th>Temperature(F)</th>\n",
              "      <th>Wind_Chill(F)</th>\n",
              "      <th>Humidity(%)</th>\n",
              "      <th>Pressure(in)</th>\n",
              "      <th>Visibility(mi)</th>\n",
              "      <th>Wind_Speed(mph)</th>\n",
              "      <th>Precipitation(in)</th>\n",
              "    </tr>\n",
              "  </thead>\n",
              "  <tbody>\n",
              "    <tr>\n",
              "      <th>count</th>\n",
              "      <td>1.516064e+06</td>\n",
              "      <td>1.516064e+06</td>\n",
              "      <td>1.516064e+06</td>\n",
              "      <td>1.516064e+06</td>\n",
              "      <td>1.516064e+06</td>\n",
              "      <td>1.516064e+06</td>\n",
              "      <td>4.699690e+05</td>\n",
              "      <td>1.473031e+06</td>\n",
              "      <td>1.066748e+06</td>\n",
              "      <td>1.470555e+06</td>\n",
              "      <td>1.479790e+06</td>\n",
              "      <td>1.471853e+06</td>\n",
              "      <td>1.387202e+06</td>\n",
              "      <td>1.005515e+06</td>\n",
              "    </tr>\n",
              "    <tr>\n",
              "      <th>mean</th>\n",
              "      <td>2.238630e+00</td>\n",
              "      <td>3.690056e+01</td>\n",
              "      <td>-9.859919e+01</td>\n",
              "      <td>3.690061e+01</td>\n",
              "      <td>-9.859901e+01</td>\n",
              "      <td>5.872617e-01</td>\n",
              "      <td>8.907533e+03</td>\n",
              "      <td>5.958460e+01</td>\n",
              "      <td>5.510976e+01</td>\n",
              "      <td>6.465960e+01</td>\n",
              "      <td>2.955495e+01</td>\n",
              "      <td>9.131755e+00</td>\n",
              "      <td>7.630812e+00</td>\n",
              "      <td>8.477855e-03</td>\n",
              "    </tr>\n",
              "    <tr>\n",
              "      <th>std</th>\n",
              "      <td>6.081481e-01</td>\n",
              "      <td>5.165653e+00</td>\n",
              "      <td>1.849602e+01</td>\n",
              "      <td>5.165629e+00</td>\n",
              "      <td>1.849590e+01</td>\n",
              "      <td>1.632659e+00</td>\n",
              "      <td>2.242190e+04</td>\n",
              "      <td>1.827316e+01</td>\n",
              "      <td>2.112735e+01</td>\n",
              "      <td>2.325986e+01</td>\n",
              "      <td>1.016756e+00</td>\n",
              "      <td>2.889112e+00</td>\n",
              "      <td>5.637364e+00</td>\n",
              "      <td>1.293168e-01</td>\n",
              "    </tr>\n",
              "    <tr>\n",
              "      <th>min</th>\n",
              "      <td>1.000000e+00</td>\n",
              "      <td>2.457022e+01</td>\n",
              "      <td>-1.244976e+02</td>\n",
              "      <td>2.457011e+01</td>\n",
              "      <td>-1.244978e+02</td>\n",
              "      <td>0.000000e+00</td>\n",
              "      <td>0.000000e+00</td>\n",
              "      <td>-8.900000e+01</td>\n",
              "      <td>-8.900000e+01</td>\n",
              "      <td>1.000000e+00</td>\n",
              "      <td>0.000000e+00</td>\n",
              "      <td>0.000000e+00</td>\n",
              "      <td>0.000000e+00</td>\n",
              "      <td>0.000000e+00</td>\n",
              "    </tr>\n",
              "    <tr>\n",
              "      <th>25%</th>\n",
              "      <td>2.000000e+00</td>\n",
              "      <td>3.385422e+01</td>\n",
              "      <td>-1.182076e+02</td>\n",
              "      <td>3.385420e+01</td>\n",
              "      <td>-1.182077e+02</td>\n",
              "      <td>0.000000e+00</td>\n",
              "      <td>1.212000e+03</td>\n",
              "      <td>4.700000e+01</td>\n",
              "      <td>4.080000e+01</td>\n",
              "      <td>4.800000e+01</td>\n",
              "      <td>2.944000e+01</td>\n",
              "      <td>1.000000e+01</td>\n",
              "      <td>4.600000e+00</td>\n",
              "      <td>0.000000e+00</td>\n",
              "    </tr>\n",
              "    <tr>\n",
              "      <th>50%</th>\n",
              "      <td>2.000000e+00</td>\n",
              "      <td>3.735113e+01</td>\n",
              "      <td>-9.438100e+01</td>\n",
              "      <td>3.735134e+01</td>\n",
              "      <td>-9.437987e+01</td>\n",
              "      <td>1.780000e-01</td>\n",
              "      <td>4.000000e+03</td>\n",
              "      <td>6.100000e+01</td>\n",
              "      <td>5.700000e+01</td>\n",
              "      <td>6.800000e+01</td>\n",
              "      <td>2.988000e+01</td>\n",
              "      <td>1.000000e+01</td>\n",
              "      <td>7.000000e+00</td>\n",
              "      <td>0.000000e+00</td>\n",
              "    </tr>\n",
              "    <tr>\n",
              "      <th>75%</th>\n",
              "      <td>2.000000e+00</td>\n",
              "      <td>4.072593e+01</td>\n",
              "      <td>-8.087469e+01</td>\n",
              "      <td>4.072593e+01</td>\n",
              "      <td>-8.087449e+01</td>\n",
              "      <td>5.940000e-01</td>\n",
              "      <td>1.010000e+04</td>\n",
              "      <td>7.300000e+01</td>\n",
              "      <td>7.100000e+01</td>\n",
              "      <td>8.400000e+01</td>\n",
              "      <td>3.004000e+01</td>\n",
              "      <td>1.000000e+01</td>\n",
              "      <td>1.040000e+01</td>\n",
              "      <td>0.000000e+00</td>\n",
              "    </tr>\n",
              "    <tr>\n",
              "      <th>max</th>\n",
              "      <td>4.000000e+00</td>\n",
              "      <td>4.900058e+01</td>\n",
              "      <td>-6.711317e+01</td>\n",
              "      <td>4.907500e+01</td>\n",
              "      <td>-6.710924e+01</td>\n",
              "      <td>1.551860e+02</td>\n",
              "      <td>9.999997e+06</td>\n",
              "      <td>1.706000e+02</td>\n",
              "      <td>1.130000e+02</td>\n",
              "      <td>1.000000e+02</td>\n",
              "      <td>5.804000e+01</td>\n",
              "      <td>1.400000e+02</td>\n",
              "      <td>9.840000e+02</td>\n",
              "      <td>2.400000e+01</td>\n",
              "    </tr>\n",
              "  </tbody>\n",
              "</table>\n",
              "</div>"
            ],
            "text/plain": [
              "           Severity     Start_Lat  ...  Wind_Speed(mph)  Precipitation(in)\n",
              "count  1.516064e+06  1.516064e+06  ...     1.387202e+06       1.005515e+06\n",
              "mean   2.238630e+00  3.690056e+01  ...     7.630812e+00       8.477855e-03\n",
              "std    6.081481e-01  5.165653e+00  ...     5.637364e+00       1.293168e-01\n",
              "min    1.000000e+00  2.457022e+01  ...     0.000000e+00       0.000000e+00\n",
              "25%    2.000000e+00  3.385422e+01  ...     4.600000e+00       0.000000e+00\n",
              "50%    2.000000e+00  3.735113e+01  ...     7.000000e+00       0.000000e+00\n",
              "75%    2.000000e+00  4.072593e+01  ...     1.040000e+01       0.000000e+00\n",
              "max    4.000000e+00  4.900058e+01  ...     9.840000e+02       2.400000e+01\n",
              "\n",
              "[8 rows x 14 columns]"
            ]
          },
          "metadata": {},
          "execution_count": 13
        }
      ]
    },
    {
      "cell_type": "markdown",
      "metadata": {
        "id": "liCrJAKLVz1s"
      },
      "source": [
        "Let's look at how many columns in this dataframe are numeric."
      ]
    },
    {
      "cell_type": "code",
      "metadata": {
        "colab": {
          "base_uri": "https://localhost:8080/"
        },
        "id": "o96ThE-EVfz0",
        "outputId": "f0d7146f-a8eb-494a-e612-914656af1b2c"
      },
      "source": [
        "numerics = ['int16', 'int32', 'int64', 'float16', 'float32', 'float64']\n",
        "\n",
        "numeric_df = df.select_dtypes(include = numerics)\n",
        "len(numeric_df.columns)"
      ],
      "execution_count": 14,
      "outputs": [
        {
          "output_type": "execute_result",
          "data": {
            "text/plain": [
              "14"
            ]
          },
          "metadata": {},
          "execution_count": 14
        }
      ]
    },
    {
      "cell_type": "markdown",
      "metadata": {
        "id": "fOgh1IHfWB3k"
      },
      "source": [
        "Now let's look at the percentage of missing values per column."
      ]
    },
    {
      "cell_type": "code",
      "metadata": {
        "colab": {
          "base_uri": "https://localhost:8080/"
        },
        "id": "W1k-y_caV-0Z",
        "outputId": "0911acf0-9cb9-4dec-b0ba-ad7b47d1fc09"
      },
      "source": [
        "missing_percentages = df.isna().sum().sort_values(ascending = False) / len(df)\n",
        "missing_percentages"
      ],
      "execution_count": 15,
      "outputs": [
        {
          "output_type": "execute_result",
          "data": {
            "text/plain": [
              "Number                   0.690007\n",
              "Precipitation(in)        0.336760\n",
              "Wind_Chill(F)            0.296370\n",
              "Wind_Speed(mph)          0.084998\n",
              "Humidity(%)              0.030018\n",
              "Visibility(mi)           0.029162\n",
              "Weather_Condition        0.029027\n",
              "Temperature(F)           0.028385\n",
              "Wind_Direction           0.027610\n",
              "Pressure(in)             0.023926\n",
              "Weather_Timestamp        0.019962\n",
              "Airport_Code             0.002802\n",
              "Timezone                 0.001518\n",
              "Zipcode                  0.000617\n",
              "City                     0.000055\n",
              "Nautical_Twilight        0.000055\n",
              "Astronomical_Twilight    0.000055\n",
              "Civil_Twilight           0.000055\n",
              "Sunrise_Sunset           0.000055\n",
              "Amenity                  0.000000\n",
              "Bump                     0.000000\n",
              "Severity                 0.000000\n",
              "Start_Time               0.000000\n",
              "End_Time                 0.000000\n",
              "Start_Lat                0.000000\n",
              "Start_Lng                0.000000\n",
              "End_Lat                  0.000000\n",
              "End_Lng                  0.000000\n",
              "Distance(mi)             0.000000\n",
              "Description              0.000000\n",
              "Street                   0.000000\n",
              "Side                     0.000000\n",
              "County                   0.000000\n",
              "State                    0.000000\n",
              "Turning_Loop             0.000000\n",
              "Country                  0.000000\n",
              "Traffic_Signal           0.000000\n",
              "Traffic_Calming          0.000000\n",
              "Stop                     0.000000\n",
              "Station                  0.000000\n",
              "Roundabout               0.000000\n",
              "Railway                  0.000000\n",
              "No_Exit                  0.000000\n",
              "Junction                 0.000000\n",
              "Give_Way                 0.000000\n",
              "Crossing                 0.000000\n",
              "ID                       0.000000\n",
              "dtype: float64"
            ]
          },
          "metadata": {},
          "execution_count": 15
        }
      ]
    },
    {
      "cell_type": "markdown",
      "metadata": {
        "id": "zS5uWfOdWpQk"
      },
      "source": [
        "See how many columns have no missing data vs those that have some."
      ]
    },
    {
      "cell_type": "code",
      "metadata": {
        "colab": {
          "base_uri": "https://localhost:8080/"
        },
        "id": "6BvvEEW9WJoI",
        "outputId": "298d054f-0695-4959-d101-5fd7b67458f8"
      },
      "source": [
        "columns_with_missing = len(missing_percentages[missing_percentages != 0])\n",
        "columns_without_missing = len(missing_percentages[missing_percentages == 0])\n",
        "\n",
        "print('There are {} columns with missing data and {} without missing data.'.format(columns_with_missing, columns_without_missing))"
      ],
      "execution_count": 16,
      "outputs": [
        {
          "output_type": "stream",
          "name": "stdout",
          "text": [
            "There are 19 columns with missing data and 28 without missing data.\n"
          ]
        }
      ]
    },
    {
      "cell_type": "markdown",
      "metadata": {
        "id": "wN6X0V5NfYAX"
      },
      "source": [
        "This dataset contains accident info from 49 states (missing Alaska)."
      ]
    },
    {
      "cell_type": "code",
      "metadata": {
        "colab": {
          "base_uri": "https://localhost:8080/"
        },
        "id": "Q-oiP7pafjEX",
        "outputId": "797e2f77-75b3-46b6-9fb0-e70b43eb92af"
      },
      "source": [
        "len(df['State'].unique())"
      ],
      "execution_count": 17,
      "outputs": [
        {
          "output_type": "execute_result",
          "data": {
            "text/plain": [
              "49"
            ]
          },
          "metadata": {},
          "execution_count": 17
        }
      ]
    },
    {
      "cell_type": "code",
      "metadata": {
        "colab": {
          "base_uri": "https://localhost:8080/"
        },
        "id": "uKG2Zj42dDQW",
        "outputId": "4b73cce6-09eb-4145-fe10-4106f50885aa"
      },
      "source": [
        "'AK' in list(df['State'])"
      ],
      "execution_count": 18,
      "outputs": [
        {
          "output_type": "execute_result",
          "data": {
            "text/plain": [
              "False"
            ]
          },
          "metadata": {},
          "execution_count": 18
        }
      ]
    },
    {
      "cell_type": "code",
      "metadata": {
        "colab": {
          "base_uri": "https://localhost:8080/"
        },
        "id": "2OngDJM5g3hL",
        "outputId": "b9d24618-fc1e-47ee-ce40-3cc472cba14e"
      },
      "source": [
        "df['City'].value_counts()"
      ],
      "execution_count": 19,
      "outputs": [
        {
          "output_type": "execute_result",
          "data": {
            "text/plain": [
              "Los Angeles    39984\n",
              "Miami          36233\n",
              "Charlotte      22203\n",
              "Houston        20843\n",
              "Dallas         19497\n",
              "               ...  \n",
              "Alcoa              1\n",
              "Old Monroe         1\n",
              "Geraldine          1\n",
              "Karns City         1\n",
              "Trilla             1\n",
              "Name: City, Length: 10657, dtype: int64"
            ]
          },
          "metadata": {},
          "execution_count": 19
        }
      ]
    },
    {
      "cell_type": "markdown",
      "metadata": {
        "id": "SXCOcbH3RT0g"
      },
      "source": [
        "Los Angeles and Miami are the two states with the most accidents based off of this data."
      ]
    },
    {
      "cell_type": "code",
      "metadata": {
        "colab": {
          "base_uri": "https://localhost:8080/"
        },
        "id": "xI9jt7uw48do",
        "outputId": "58f4e1da-cd7e-4e19-be71-fd0aed70d3c0"
      },
      "source": [
        "df[['Start_Time', 'End_Time', 'Weather_Timestamp']].dtypes"
      ],
      "execution_count": 20,
      "outputs": [
        {
          "output_type": "execute_result",
          "data": {
            "text/plain": [
              "Start_Time           object\n",
              "End_Time             object\n",
              "Weather_Timestamp    object\n",
              "dtype: object"
            ]
          },
          "metadata": {},
          "execution_count": 20
        }
      ]
    },
    {
      "cell_type": "markdown",
      "metadata": {
        "id": "BBaCmZubRfz9"
      },
      "source": [
        "The dates in this dataset are not in a pandas \"datetime\" format so let's do that here."
      ]
    },
    {
      "cell_type": "code",
      "metadata": {
        "colab": {
          "base_uri": "https://localhost:8080/"
        },
        "id": "EiaTnVDa_woU",
        "outputId": "47e79100-7d3f-4cab-e1a3-a43460cc1667"
      },
      "source": [
        "df['Start_Time'] = pd.to_datetime(df['Start_Time'])\n",
        "df['End_Time'] = pd.to_datetime(df['End_Time'])\n",
        "df['Weather_Timestamp'] = pd.to_datetime(df['Weather_Timestamp'])\n",
        "\n",
        "df[['Start_Time', 'End_Time', 'Weather_Timestamp']].dtypes"
      ],
      "execution_count": 21,
      "outputs": [
        {
          "output_type": "execute_result",
          "data": {
            "text/plain": [
              "Start_Time           datetime64[ns]\n",
              "End_Time             datetime64[ns]\n",
              "Weather_Timestamp    datetime64[ns]\n",
              "dtype: object"
            ]
          },
          "metadata": {},
          "execution_count": 21
        }
      ]
    },
    {
      "cell_type": "markdown",
      "metadata": {
        "id": "XBL5-LHGDDU2"
      },
      "source": [
        "***"
      ]
    },
    {
      "cell_type": "code",
      "metadata": {
        "colab": {
          "base_uri": "https://localhost:8080/",
          "height": 428
        },
        "id": "IYxwDT0DHWHc",
        "outputId": "90d978b2-b40b-46bd-b06c-aedb1649550a"
      },
      "source": [
        "df.head()"
      ],
      "execution_count": 22,
      "outputs": [
        {
          "output_type": "execute_result",
          "data": {
            "text/html": [
              "<div>\n",
              "<style scoped>\n",
              "    .dataframe tbody tr th:only-of-type {\n",
              "        vertical-align: middle;\n",
              "    }\n",
              "\n",
              "    .dataframe tbody tr th {\n",
              "        vertical-align: top;\n",
              "    }\n",
              "\n",
              "    .dataframe thead th {\n",
              "        text-align: right;\n",
              "    }\n",
              "</style>\n",
              "<table border=\"1\" class=\"dataframe\">\n",
              "  <thead>\n",
              "    <tr style=\"text-align: right;\">\n",
              "      <th></th>\n",
              "      <th>ID</th>\n",
              "      <th>Severity</th>\n",
              "      <th>Start_Time</th>\n",
              "      <th>End_Time</th>\n",
              "      <th>Start_Lat</th>\n",
              "      <th>Start_Lng</th>\n",
              "      <th>End_Lat</th>\n",
              "      <th>End_Lng</th>\n",
              "      <th>Distance(mi)</th>\n",
              "      <th>Description</th>\n",
              "      <th>Number</th>\n",
              "      <th>Street</th>\n",
              "      <th>Side</th>\n",
              "      <th>City</th>\n",
              "      <th>County</th>\n",
              "      <th>State</th>\n",
              "      <th>Zipcode</th>\n",
              "      <th>Country</th>\n",
              "      <th>Timezone</th>\n",
              "      <th>Airport_Code</th>\n",
              "      <th>Weather_Timestamp</th>\n",
              "      <th>Temperature(F)</th>\n",
              "      <th>Wind_Chill(F)</th>\n",
              "      <th>Humidity(%)</th>\n",
              "      <th>Pressure(in)</th>\n",
              "      <th>Visibility(mi)</th>\n",
              "      <th>Wind_Direction</th>\n",
              "      <th>Wind_Speed(mph)</th>\n",
              "      <th>Precipitation(in)</th>\n",
              "      <th>Weather_Condition</th>\n",
              "      <th>Amenity</th>\n",
              "      <th>Bump</th>\n",
              "      <th>Crossing</th>\n",
              "      <th>Give_Way</th>\n",
              "      <th>Junction</th>\n",
              "      <th>No_Exit</th>\n",
              "      <th>Railway</th>\n",
              "      <th>Roundabout</th>\n",
              "      <th>Station</th>\n",
              "      <th>Stop</th>\n",
              "      <th>Traffic_Calming</th>\n",
              "      <th>Traffic_Signal</th>\n",
              "      <th>Turning_Loop</th>\n",
              "      <th>Sunrise_Sunset</th>\n",
              "      <th>Civil_Twilight</th>\n",
              "      <th>Nautical_Twilight</th>\n",
              "      <th>Astronomical_Twilight</th>\n",
              "    </tr>\n",
              "  </thead>\n",
              "  <tbody>\n",
              "    <tr>\n",
              "      <th>0</th>\n",
              "      <td>A-2716600</td>\n",
              "      <td>3</td>\n",
              "      <td>2016-02-08 00:37:08</td>\n",
              "      <td>2016-02-08 06:37:08</td>\n",
              "      <td>40.10891</td>\n",
              "      <td>-83.09286</td>\n",
              "      <td>40.11206</td>\n",
              "      <td>-83.03187</td>\n",
              "      <td>3.230</td>\n",
              "      <td>Between Sawmill Rd/Exit 20 and OH-315/Olentang...</td>\n",
              "      <td>NaN</td>\n",
              "      <td>Outerbelt E</td>\n",
              "      <td>R</td>\n",
              "      <td>Dublin</td>\n",
              "      <td>Franklin</td>\n",
              "      <td>OH</td>\n",
              "      <td>43017</td>\n",
              "      <td>US</td>\n",
              "      <td>US/Eastern</td>\n",
              "      <td>KOSU</td>\n",
              "      <td>2016-02-08 00:53:00</td>\n",
              "      <td>42.1</td>\n",
              "      <td>36.1</td>\n",
              "      <td>58.0</td>\n",
              "      <td>29.76</td>\n",
              "      <td>10.0</td>\n",
              "      <td>SW</td>\n",
              "      <td>10.4</td>\n",
              "      <td>0.00</td>\n",
              "      <td>Light Rain</td>\n",
              "      <td>False</td>\n",
              "      <td>False</td>\n",
              "      <td>False</td>\n",
              "      <td>False</td>\n",
              "      <td>False</td>\n",
              "      <td>False</td>\n",
              "      <td>False</td>\n",
              "      <td>False</td>\n",
              "      <td>False</td>\n",
              "      <td>False</td>\n",
              "      <td>False</td>\n",
              "      <td>False</td>\n",
              "      <td>False</td>\n",
              "      <td>Night</td>\n",
              "      <td>Night</td>\n",
              "      <td>Night</td>\n",
              "      <td>Night</td>\n",
              "    </tr>\n",
              "    <tr>\n",
              "      <th>1</th>\n",
              "      <td>A-2716601</td>\n",
              "      <td>2</td>\n",
              "      <td>2016-02-08 05:56:20</td>\n",
              "      <td>2016-02-08 11:56:20</td>\n",
              "      <td>39.86542</td>\n",
              "      <td>-84.06280</td>\n",
              "      <td>39.86501</td>\n",
              "      <td>-84.04873</td>\n",
              "      <td>0.747</td>\n",
              "      <td>At OH-4/OH-235/Exit 41 - Accident.</td>\n",
              "      <td>NaN</td>\n",
              "      <td>I-70 E</td>\n",
              "      <td>R</td>\n",
              "      <td>Dayton</td>\n",
              "      <td>Montgomery</td>\n",
              "      <td>OH</td>\n",
              "      <td>45424</td>\n",
              "      <td>US</td>\n",
              "      <td>US/Eastern</td>\n",
              "      <td>KFFO</td>\n",
              "      <td>2016-02-08 05:58:00</td>\n",
              "      <td>36.9</td>\n",
              "      <td>NaN</td>\n",
              "      <td>91.0</td>\n",
              "      <td>29.68</td>\n",
              "      <td>10.0</td>\n",
              "      <td>Calm</td>\n",
              "      <td>NaN</td>\n",
              "      <td>0.02</td>\n",
              "      <td>Light Rain</td>\n",
              "      <td>False</td>\n",
              "      <td>False</td>\n",
              "      <td>False</td>\n",
              "      <td>False</td>\n",
              "      <td>False</td>\n",
              "      <td>False</td>\n",
              "      <td>False</td>\n",
              "      <td>False</td>\n",
              "      <td>False</td>\n",
              "      <td>False</td>\n",
              "      <td>False</td>\n",
              "      <td>False</td>\n",
              "      <td>False</td>\n",
              "      <td>Night</td>\n",
              "      <td>Night</td>\n",
              "      <td>Night</td>\n",
              "      <td>Night</td>\n",
              "    </tr>\n",
              "    <tr>\n",
              "      <th>2</th>\n",
              "      <td>A-2716602</td>\n",
              "      <td>2</td>\n",
              "      <td>2016-02-08 06:15:39</td>\n",
              "      <td>2016-02-08 12:15:39</td>\n",
              "      <td>39.10266</td>\n",
              "      <td>-84.52468</td>\n",
              "      <td>39.10209</td>\n",
              "      <td>-84.52396</td>\n",
              "      <td>0.055</td>\n",
              "      <td>At I-71/US-50/Exit 1 - Accident.</td>\n",
              "      <td>NaN</td>\n",
              "      <td>I-75 S</td>\n",
              "      <td>R</td>\n",
              "      <td>Cincinnati</td>\n",
              "      <td>Hamilton</td>\n",
              "      <td>OH</td>\n",
              "      <td>45203</td>\n",
              "      <td>US</td>\n",
              "      <td>US/Eastern</td>\n",
              "      <td>KLUK</td>\n",
              "      <td>2016-02-08 05:53:00</td>\n",
              "      <td>36.0</td>\n",
              "      <td>NaN</td>\n",
              "      <td>97.0</td>\n",
              "      <td>29.70</td>\n",
              "      <td>10.0</td>\n",
              "      <td>Calm</td>\n",
              "      <td>NaN</td>\n",
              "      <td>0.02</td>\n",
              "      <td>Overcast</td>\n",
              "      <td>False</td>\n",
              "      <td>False</td>\n",
              "      <td>False</td>\n",
              "      <td>False</td>\n",
              "      <td>True</td>\n",
              "      <td>False</td>\n",
              "      <td>False</td>\n",
              "      <td>False</td>\n",
              "      <td>False</td>\n",
              "      <td>False</td>\n",
              "      <td>False</td>\n",
              "      <td>False</td>\n",
              "      <td>False</td>\n",
              "      <td>Night</td>\n",
              "      <td>Night</td>\n",
              "      <td>Night</td>\n",
              "      <td>Day</td>\n",
              "    </tr>\n",
              "    <tr>\n",
              "      <th>3</th>\n",
              "      <td>A-2716603</td>\n",
              "      <td>2</td>\n",
              "      <td>2016-02-08 06:15:39</td>\n",
              "      <td>2016-02-08 12:15:39</td>\n",
              "      <td>39.10148</td>\n",
              "      <td>-84.52341</td>\n",
              "      <td>39.09841</td>\n",
              "      <td>-84.52241</td>\n",
              "      <td>0.219</td>\n",
              "      <td>At I-71/US-50/Exit 1 - Accident.</td>\n",
              "      <td>NaN</td>\n",
              "      <td>US-50 E</td>\n",
              "      <td>R</td>\n",
              "      <td>Cincinnati</td>\n",
              "      <td>Hamilton</td>\n",
              "      <td>OH</td>\n",
              "      <td>45202</td>\n",
              "      <td>US</td>\n",
              "      <td>US/Eastern</td>\n",
              "      <td>KLUK</td>\n",
              "      <td>2016-02-08 05:53:00</td>\n",
              "      <td>36.0</td>\n",
              "      <td>NaN</td>\n",
              "      <td>97.0</td>\n",
              "      <td>29.70</td>\n",
              "      <td>10.0</td>\n",
              "      <td>Calm</td>\n",
              "      <td>NaN</td>\n",
              "      <td>0.02</td>\n",
              "      <td>Overcast</td>\n",
              "      <td>False</td>\n",
              "      <td>False</td>\n",
              "      <td>False</td>\n",
              "      <td>False</td>\n",
              "      <td>True</td>\n",
              "      <td>False</td>\n",
              "      <td>False</td>\n",
              "      <td>False</td>\n",
              "      <td>False</td>\n",
              "      <td>False</td>\n",
              "      <td>False</td>\n",
              "      <td>False</td>\n",
              "      <td>False</td>\n",
              "      <td>Night</td>\n",
              "      <td>Night</td>\n",
              "      <td>Night</td>\n",
              "      <td>Day</td>\n",
              "    </tr>\n",
              "    <tr>\n",
              "      <th>4</th>\n",
              "      <td>A-2716604</td>\n",
              "      <td>2</td>\n",
              "      <td>2016-02-08 06:51:45</td>\n",
              "      <td>2016-02-08 12:51:45</td>\n",
              "      <td>41.06213</td>\n",
              "      <td>-81.53784</td>\n",
              "      <td>41.06217</td>\n",
              "      <td>-81.53547</td>\n",
              "      <td>0.123</td>\n",
              "      <td>At Dart Ave/Exit 21 - Accident.</td>\n",
              "      <td>NaN</td>\n",
              "      <td>I-77 N</td>\n",
              "      <td>R</td>\n",
              "      <td>Akron</td>\n",
              "      <td>Summit</td>\n",
              "      <td>OH</td>\n",
              "      <td>44311</td>\n",
              "      <td>US</td>\n",
              "      <td>US/Eastern</td>\n",
              "      <td>KAKR</td>\n",
              "      <td>2016-02-08 06:54:00</td>\n",
              "      <td>39.0</td>\n",
              "      <td>NaN</td>\n",
              "      <td>55.0</td>\n",
              "      <td>29.65</td>\n",
              "      <td>10.0</td>\n",
              "      <td>Calm</td>\n",
              "      <td>NaN</td>\n",
              "      <td>NaN</td>\n",
              "      <td>Overcast</td>\n",
              "      <td>False</td>\n",
              "      <td>False</td>\n",
              "      <td>False</td>\n",
              "      <td>False</td>\n",
              "      <td>False</td>\n",
              "      <td>False</td>\n",
              "      <td>False</td>\n",
              "      <td>False</td>\n",
              "      <td>False</td>\n",
              "      <td>False</td>\n",
              "      <td>False</td>\n",
              "      <td>False</td>\n",
              "      <td>False</td>\n",
              "      <td>Night</td>\n",
              "      <td>Night</td>\n",
              "      <td>Day</td>\n",
              "      <td>Day</td>\n",
              "    </tr>\n",
              "  </tbody>\n",
              "</table>\n",
              "</div>"
            ],
            "text/plain": [
              "          ID  Severity  ... Nautical_Twilight Astronomical_Twilight\n",
              "0  A-2716600         3  ...             Night                 Night\n",
              "1  A-2716601         2  ...             Night                 Night\n",
              "2  A-2716602         2  ...             Night                   Day\n",
              "3  A-2716603         2  ...             Night                   Day\n",
              "4  A-2716604         2  ...               Day                   Day\n",
              "\n",
              "[5 rows x 47 columns]"
            ]
          },
          "metadata": {},
          "execution_count": 22
        }
      ]
    },
    {
      "cell_type": "code",
      "metadata": {
        "colab": {
          "base_uri": "https://localhost:8080/"
        },
        "id": "RKNlTjqsIOe9",
        "outputId": "21f52f53-27b9-464e-ab8d-02011a577fa1"
      },
      "source": [
        "accidents_per_state = df['State'].value_counts()\n",
        "accidents_per_state.head()"
      ],
      "execution_count": 23,
      "outputs": [
        {
          "output_type": "execute_result",
          "data": {
            "text/plain": [
              "CA    448833\n",
              "FL    153007\n",
              "OR     87484\n",
              "TX     75142\n",
              "NY     60974\n",
              "Name: State, dtype: int64"
            ]
          },
          "metadata": {},
          "execution_count": 23
        }
      ]
    },
    {
      "cell_type": "markdown",
      "metadata": {
        "id": "Nujn7C4X742h"
      },
      "source": [
        "The states with the highest number of accidents ranging from Febraury 2016 to December 2020 are from greatest to least:\n",
        "\n",
        "1. California\n",
        "\n",
        "2. Florida\n",
        "\n",
        "3. Oregon\n",
        "\n",
        "4. Texas\n",
        "\n",
        "5. New York"
      ]
    },
    {
      "cell_type": "markdown",
      "metadata": {
        "id": "8lgK81uWRuCW"
      },
      "source": [
        "### Let's visualize this information."
      ]
    },
    {
      "cell_type": "code",
      "metadata": {
        "colab": {
          "base_uri": "https://localhost:8080/",
          "height": 1000
        },
        "id": "FT4Vj4u7binC",
        "outputId": "130de3da-57c8-4f40-e1a0-9f89e1b311c6"
      },
      "source": [
        "import folium\n",
        "from folium.plugins import HeatMap\n",
        "\n",
        "sample_df = df.sample(int(0.001 * len(df)))\n",
        "lat_lon_pairs = list(zip(list(sample_df.Start_Lat), list(sample_df.Start_Lng)))\n",
        "\n",
        "map = folium.Map(location=[48, -102], zoom_start=4.4)\n",
        "HeatMap(lat_lon_pairs).add_to(map)\n",
        "map"
      ],
      "execution_count": 24,
      "outputs": [
        {
          "output_type": "execute_result",
          "data": {
            "text/html": [
              "<div style=\"width:100%;\"><div style=\"position:relative;width:100%;height:0;padding-bottom:60%;\"><span style=\"color:#565656\">Make this Notebook Trusted to load map: File -> Trust Notebook</span><iframe src=\"about:blank\" style=\"position:absolute;width:100%;height:100%;left:0;top:0;border:none !important;\" data-html=%3C%21DOCTYPE%20html%3E%0A%3Chead%3E%20%20%20%20%0A%20%20%20%20%3Cmeta%20http-equiv%3D%22content-type%22%20content%3D%22text/html%3B%20charset%3DUTF-8%22%20/%3E%0A%20%20%20%20%3Cscript%3EL_PREFER_CANVAS%3Dfalse%3B%20L_NO_TOUCH%3Dfalse%3B%20L_DISABLE_3D%3Dfalse%3B%3C/script%3E%0A%20%20%20%20%3Cscript%20src%3D%22https%3A//cdn.jsdelivr.net/npm/leaflet%401.4.0/dist/leaflet.js%22%3E%3C/script%3E%0A%20%20%20%20%3Cscript%20src%3D%22https%3A//code.jquery.com/jquery-1.12.4.min.js%22%3E%3C/script%3E%0A%20%20%20%20%3Cscript%20src%3D%22https%3A//maxcdn.bootstrapcdn.com/bootstrap/3.2.0/js/bootstrap.min.js%22%3E%3C/script%3E%0A%20%20%20%20%3Cscript%20src%3D%22https%3A//cdnjs.cloudflare.com/ajax/libs/Leaflet.awesome-markers/2.0.2/leaflet.awesome-markers.js%22%3E%3C/script%3E%0A%20%20%20%20%3Clink%20rel%3D%22stylesheet%22%20href%3D%22https%3A//cdn.jsdelivr.net/npm/leaflet%401.4.0/dist/leaflet.css%22/%3E%0A%20%20%20%20%3Clink%20rel%3D%22stylesheet%22%20href%3D%22https%3A//maxcdn.bootstrapcdn.com/bootstrap/3.2.0/css/bootstrap.min.css%22/%3E%0A%20%20%20%20%3Clink%20rel%3D%22stylesheet%22%20href%3D%22https%3A//maxcdn.bootstrapcdn.com/bootstrap/3.2.0/css/bootstrap-theme.min.css%22/%3E%0A%20%20%20%20%3Clink%20rel%3D%22stylesheet%22%20href%3D%22https%3A//maxcdn.bootstrapcdn.com/font-awesome/4.6.3/css/font-awesome.min.css%22/%3E%0A%20%20%20%20%3Clink%20rel%3D%22stylesheet%22%20href%3D%22https%3A//cdnjs.cloudflare.com/ajax/libs/Leaflet.awesome-markers/2.0.2/leaflet.awesome-markers.css%22/%3E%0A%20%20%20%20%3Clink%20rel%3D%22stylesheet%22%20href%3D%22https%3A//rawcdn.githack.com/python-visualization/folium/master/folium/templates/leaflet.awesome.rotate.css%22/%3E%0A%20%20%20%20%3Cstyle%3Ehtml%2C%20body%20%7Bwidth%3A%20100%25%3Bheight%3A%20100%25%3Bmargin%3A%200%3Bpadding%3A%200%3B%7D%3C/style%3E%0A%20%20%20%20%3Cstyle%3E%23map%20%7Bposition%3Aabsolute%3Btop%3A0%3Bbottom%3A0%3Bright%3A0%3Bleft%3A0%3B%7D%3C/style%3E%0A%20%20%20%20%0A%20%20%20%20%3Cmeta%20name%3D%22viewport%22%20content%3D%22width%3Ddevice-width%2C%0A%20%20%20%20%20%20%20%20initial-scale%3D1.0%2C%20maximum-scale%3D1.0%2C%20user-scalable%3Dno%22%20/%3E%0A%20%20%20%20%3Cstyle%3E%23map_c43ebe538ec740669f0da0affd5a20d8%20%7B%0A%20%20%20%20%20%20%20%20position%3A%20relative%3B%0A%20%20%20%20%20%20%20%20width%3A%20100.0%25%3B%0A%20%20%20%20%20%20%20%20height%3A%20100.0%25%3B%0A%20%20%20%20%20%20%20%20left%3A%200.0%25%3B%0A%20%20%20%20%20%20%20%20top%3A%200.0%25%3B%0A%20%20%20%20%20%20%20%20%7D%0A%20%20%20%20%3C/style%3E%0A%20%20%20%20%3Cscript%20src%3D%22https%3A//leaflet.github.io/Leaflet.heat/dist/leaflet-heat.js%22%3E%3C/script%3E%0A%3C/head%3E%0A%3Cbody%3E%20%20%20%20%0A%20%20%20%20%0A%20%20%20%20%3Cdiv%20class%3D%22folium-map%22%20id%3D%22map_c43ebe538ec740669f0da0affd5a20d8%22%20%3E%3C/div%3E%0A%3C/body%3E%0A%3Cscript%3E%20%20%20%20%0A%20%20%20%20%0A%20%20%20%20%0A%20%20%20%20%20%20%20%20var%20bounds%20%3D%20null%3B%0A%20%20%20%20%0A%0A%20%20%20%20var%20map_c43ebe538ec740669f0da0affd5a20d8%20%3D%20L.map%28%0A%20%20%20%20%20%20%20%20%27map_c43ebe538ec740669f0da0affd5a20d8%27%2C%20%7B%0A%20%20%20%20%20%20%20%20center%3A%20%5B48%2C%20-102%5D%2C%0A%20%20%20%20%20%20%20%20zoom%3A%204.4%2C%0A%20%20%20%20%20%20%20%20maxBounds%3A%20bounds%2C%0A%20%20%20%20%20%20%20%20layers%3A%20%5B%5D%2C%0A%20%20%20%20%20%20%20%20worldCopyJump%3A%20false%2C%0A%20%20%20%20%20%20%20%20crs%3A%20L.CRS.EPSG3857%2C%0A%20%20%20%20%20%20%20%20zoomControl%3A%20true%2C%0A%20%20%20%20%20%20%20%20%7D%29%3B%0A%0A%0A%20%20%20%20%0A%20%20%20%20var%20tile_layer_959831901037425c96ae46faad3aa01f%20%3D%20L.tileLayer%28%0A%20%20%20%20%20%20%20%20%27https%3A//%7Bs%7D.tile.openstreetmap.org/%7Bz%7D/%7Bx%7D/%7By%7D.png%27%2C%0A%20%20%20%20%20%20%20%20%7B%0A%20%20%20%20%20%20%20%20%22attribution%22%3A%20null%2C%0A%20%20%20%20%20%20%20%20%22detectRetina%22%3A%20false%2C%0A%20%20%20%20%20%20%20%20%22maxNativeZoom%22%3A%2018%2C%0A%20%20%20%20%20%20%20%20%22maxZoom%22%3A%2018%2C%0A%20%20%20%20%20%20%20%20%22minZoom%22%3A%200%2C%0A%20%20%20%20%20%20%20%20%22noWrap%22%3A%20false%2C%0A%20%20%20%20%20%20%20%20%22opacity%22%3A%201%2C%0A%20%20%20%20%20%20%20%20%22subdomains%22%3A%20%22abc%22%2C%0A%20%20%20%20%20%20%20%20%22tms%22%3A%20false%0A%7D%29.addTo%28map_c43ebe538ec740669f0da0affd5a20d8%29%3B%0A%20%20%20%20%0A%20%20%20%20%20%20%20%20%20%20%20%20var%20heat_map_dcad92adbb34408dad1364a4fc15dbfb%20%3D%20L.heatLayer%28%0A%20%20%20%20%20%20%20%20%20%20%20%20%20%20%20%20%5B%5B45.50792%2C%20-122.77887%5D%2C%20%5B33.835541%2C%20-117.941498%5D%2C%20%5B39.95993%2C%20-75.17912%5D%2C%20%5B36.79937%2C%20-119.80402099999999%5D%2C%20%5B34.035719%2C%20-118.22086499999999%5D%2C%20%5B38.661037%2C%20-121.355148%5D%2C%20%5B34.00801%2C%20-117.96824%5D%2C%20%5B34.831906%2C%20-92.177256%5D%2C%20%5B35.90725%2C%20-78.89968%5D%2C%20%5B33.883652000000005%2C%20-117.640496%5D%2C%20%5B38.660775%2C%20-121.346852%5D%2C%20%5B33.798719%2C%20-117.231835%5D%2C%20%5B28.606196999999998%2C%20-81.29965899999999%5D%2C%20%5B35.832879999999996%2C%20-78.63731999999999%5D%2C%20%5B37.70171%2C%20-121.76941000000001%5D%2C%20%5B36.02362%2C%20-115.09368%5D%2C%20%5B33.828275%2C%20-118.28746399999999%5D%2C%20%5B36.007653000000005%2C%20-119.301998%5D%2C%20%5B39.725371%2C%20-104.82464%5D%2C%20%5B27.258190000000003%2C%20-80.41959%5D%2C%20%5B33.831590000000006%2C%20-118.28726%5D%2C%20%5B44.853099%2C%20-93.298023%5D%2C%20%5B36.033772%2C%20-78.967003%5D%2C%20%5B36.14798%2C%20-95.90462%5D%2C%20%5B34.0723%2C%20-118.05543999999999%5D%2C%20%5B34.861990000000006%2C%20-120.437053%5D%2C%20%5B46.172761%2C%20-123.550881%5D%2C%20%5B25.869289000000002%2C%20-80.330483%5D%2C%20%5B40.950347%2C%20-111.89260800000001%5D%2C%20%5B25.716704999999997%2C%20-80.334924%5D%2C%20%5B33.86322%2C%20-117.53918999999999%5D%2C%20%5B38.866034%2C%20-76.991833%5D%2C%20%5B42.5771%2C%20-114.29623000000001%5D%2C%20%5B41.76005%2C%20-87.86737%5D%2C%20%5B42.405440000000006%2C%20-82.95906%5D%2C%20%5B28.552391999999998%2C%20-81.448734%5D%2C%20%5B39.95698%2C%20-75.15608%5D%2C%20%5B33.760445000000004%2C%20-79.020076%5D%2C%20%5B25.734217%2C%20-80.335882%5D%2C%20%5B34.485508%2C%20-120.228946%5D%2C%20%5B33.97081%2C%20-117.33061000000001%5D%2C%20%5B33.666025%2C%20-112.00021299999999%5D%2C%20%5B34.121590000000005%2C%20-117.69676000000001%5D%2C%20%5B40.629669%2C%20-77.227455%5D%2C%20%5B33.668385%2C%20-112.065449%5D%2C%20%5B35.20213%2C%20-80.78862%5D%2C%20%5B41.69566%2C%20-92.669099%5D%2C%20%5B32.71313%2C%20-117.13378999999999%5D%2C%20%5B33.98323%2C%20-84.34119%5D%2C%20%5B46.753503%2C%20-92.137112%5D%2C%20%5B38.67966%2C%20-121.34021000000001%5D%2C%20%5B38.597706%2C%20-77.96191%5D%2C%20%5B34.10925%2C%20-118.33313000000001%5D%2C%20%5B32.95415%2C%20-96.819581%5D%2C%20%5B38.042788%2C%20-120.261752%5D%2C%20%5B25.934495000000002%2C%20-80.204893%5D%2C%20%5B34.030317%2C%20-117.69748999999999%5D%2C%20%5B37.751652%2C%20-122.391976%5D%2C%20%5B44.866238%2C%20-122.79173700000001%5D%2C%20%5B34.135459999999995%2C%20-117.96663000000001%5D%2C%20%5B25.804023%2C%20-80.320995%5D%2C%20%5B38.484943%2C%20-121.33476%5D%2C%20%5B33.941751000000004%2C%20-118.046403%5D%2C%20%5B47.84466%2C%20-122.25858999999998%5D%2C%20%5B44.999520000000004%2C%20-92.98472%5D%2C%20%5B40.80966%2C%20-73.90284%5D%2C%20%5B40.68289%2C%20-111.46323999999998%5D%2C%20%5B25.537675%2C%20-80.374674%5D%2C%20%5B35.1308%2C%20-80.92313%5D%2C%20%5B37.401291%2C%20-77.700144%5D%2C%20%5B29.747946000000002%2C%20-81.346762%5D%2C%20%5B40.682241999999995%2C%20-73.663394%5D%2C%20%5B37.23612%2C%20-76.62885%5D%2C%20%5B28.451043%2C%20-81.36371%5D%2C%20%5B37.827569%2C%20-121.21723200000001%5D%2C%20%5B38.92825%2C%20-94.52655%5D%2C%20%5B42.43489%2C%20-122.88798999999999%5D%2C%20%5B35.06327%2C%20-90.02275999999999%5D%2C%20%5B40.169959999999996%2C%20-105.415761%5D%2C%20%5B29.7299%2C%20-95.4273%5D%2C%20%5B33.12895%2C%20-117.09891999999999%5D%2C%20%5B33.975108%2C%20-118.38436899999999%5D%2C%20%5B34.12534%2C%20-118.47652%5D%2C%20%5B28.429689%2C%20-81.407533%5D%2C%20%5B42.237274%2C%20-88.112492%5D%2C%20%5B34.0065%2C%20-118.15531999999999%5D%2C%20%5B40.19885%2C%20-104.97993999999998%5D%2C%20%5B33.829584000000004%2C%20-117.929406%5D%2C%20%5B41.512976%2C%20-87.31993100000001%5D%2C%20%5B40.710679999999996%2C%20-74.00272%5D%2C%20%5B25.928570999999998%2C%20-80.19029%5D%2C%20%5B34.414871000000005%2C%20-118.578933%5D%2C%20%5B46.10159%2C%20-123.16515%5D%2C%20%5B34.025646%2C%20-118.465324%5D%2C%20%5B37.72079%2C%20-121.65521000000001%5D%2C%20%5B34.06935%2C%20-117.79795%5D%2C%20%5B39.278079999999996%2C%20-77.32361999999999%5D%2C%20%5B35.73513%2C%20-78.79669%5D%2C%20%5B41.138535%2C%20-111.80814699999999%5D%2C%20%5B40.42781%2C%20-111.88699%5D%2C%20%5B38.958040000000004%2C%20-76.90578000000001%5D%2C%20%5B36.99921%2C%20-121.52505%5D%2C%20%5B30.069002%2C%20-83.559919%5D%2C%20%5B40.666813%2C%20-74.18146800000001%5D%2C%20%5B33.804439%2C%20-118.20751000000001%5D%2C%20%5B30.402163%2C%20-97.657374%5D%2C%20%5B43.83625%2C%20-101.65565%5D%2C%20%5B35.187474%2C%20-80.822051%5D%2C%20%5B33.938601%2C%20-78.73327900000001%5D%2C%20%5B35.56904%2C%20-80.56059%5D%2C%20%5B35.203540999999994%2C%20-80.846793%5D%2C%20%5B25.451425%2C%20-80.491404%5D%2C%20%5B38.968059999999994%2C%20-77.17961%5D%2C%20%5B40.88213%2C%20-73.9475%5D%2C%20%5B35.888090000000005%2C%20-78.84510999999999%5D%2C%20%5B37.382185%2C%20-121.89546599999998%5D%2C%20%5B25.889742000000002%2C%20-80.209265%5D%2C%20%5B36.909416%2C%20-76.259804%5D%2C%20%5B30.358629999999998%2C%20-81.55448%5D%2C%20%5B26.663982%2C%20-81.948902%5D%2C%20%5B43.157005%2C%20-77.550687%5D%2C%20%5B34.781379%2C%20-80.627922%5D%2C%20%5B41.770309000000005%2C%20-72.681888%5D%2C%20%5B38.03982%2C%20-121.25851000000002%5D%2C%20%5B46.098707%2C%20-94.329761%5D%2C%20%5B36.96673%2C%20-76.294566%5D%2C%20%5B34.089915000000005%2C%20-80.92735%5D%2C%20%5B40.63909%2C%20-73.95425%5D%2C%20%5B34.276790000000005%2C%20-118.60172%5D%2C%20%5B34.899072%2C%20-82.46418299999999%5D%2C%20%5B25.782747%2C%20-80.37980400000001%5D%2C%20%5B33.879723999999996%2C%20-117.56543400000001%5D%2C%20%5B28.026840999999997%2C%20-82.192829%5D%2C%20%5B42.516853000000005%2C%20-83.655452%5D%2C%20%5B44.087458000000005%2C%20-123.063966%5D%2C%20%5B45.200909%2C%20-123.83738899999999%5D%2C%20%5B35.655361%2C%20-120.533956%5D%2C%20%5B40.093856%2C%20-75.365434%5D%2C%20%5B38.617945%2C%20-121.41762299999999%5D%2C%20%5B42.27203%2C%20-122.80538999999999%5D%2C%20%5B29.448663%2C%20-98.51535799999999%5D%2C%20%5B46.714942%2C%20-112.063347%5D%2C%20%5B34.06684%2C%20-117.453787%5D%2C%20%5B41.956967999999996%2C%20-73.894211%5D%2C%20%5B41.81413%2C%20-71.3671%5D%2C%20%5B35.29356%2C%20-80.74016999999999%5D%2C%20%5B39.04708%2C%20-94.43899%5D%2C%20%5B32.29079%2C%20-86.469%5D%2C%20%5B35.039289000000004%2C%20-85.687937%5D%2C%20%5B34.030401%2C%20-117.62305%5D%2C%20%5B40.762077000000005%2C%20-73.729258%5D%2C%20%5B38.389455%2C%20-81.833617%5D%2C%20%5B43.016914%2C%20-74.8133%5D%2C%20%5B28.15435%2C%20-81.4401%5D%2C%20%5B39.25027%2C%20-121.652304%5D%2C%20%5B34.308203999999996%2C%20-111.10878500000001%5D%2C%20%5B32.976096000000005%2C%20-96.715618%5D%2C%20%5B34.159414%2C%20-118.637293%5D%2C%20%5B41.984901%2C%20-87.75055%5D%2C%20%5B33.865431%2C%20-118.048878%5D%2C%20%5B37.373482%2C%20-77.502146%5D%2C%20%5B37.480644%2C%20-120.011436%5D%2C%20%5B33.560965%2C%20-84.543273%5D%2C%20%5B28.00283%2C%20-82.320438%5D%2C%20%5B37.686603000000005%2C%20-121.05693600000001%5D%2C%20%5B30.273975%2C%20-81.768976%5D%2C%20%5B31.58878%2C%20-106.20799%5D%2C%20%5B41.75417%2C%20-71.48567%5D%2C%20%5B35.391009999999994%2C%20-97.54786999999999%5D%2C%20%5B33.942863%2C%20-118.027616%5D%2C%20%5B42.08116%2C%20-122.59958999999999%5D%2C%20%5B30.261664%2C%20-81.60674300000001%5D%2C%20%5B34.257284999999996%2C%20-118.467234%5D%2C%20%5B48.35148%2C%20-114.181068%5D%2C%20%5B41.17025%2C%20-79.09339%5D%2C%20%5B32.943796%2C%20-117.21413100000001%5D%2C%20%5B42.428470000000004%2C%20-83.0942%5D%2C%20%5B37.59645%2C%20-122.05921000000001%5D%2C%20%5B34.0722%2C%20-117.75606%5D%2C%20%5B29.99233%2C%20-95.42433%5D%2C%20%5B39.1532%2C%20-84.53919%5D%2C%20%5B34.579890999999996%2C%20-117.857693%5D%2C%20%5B47.111711%2C%20-117.379053%5D%2C%20%5B36.07232%2C%20-86.69174%5D%2C%20%5B40.6903%2C%20-73.99865%5D%2C%20%5B33.91272%2C%20-118.28639%5D%2C%20%5B37.52809%2C%20-122.35976000000001%5D%2C%20%5B38.15982%2C%20-84.67308%5D%2C%20%5B45.472254%2C%20-122.67745900000001%5D%2C%20%5B43.590090999999994%2C%20-123.25048100000001%5D%2C%20%5B40.843990000000005%2C%20-73.27953000000001%5D%2C%20%5B27.96495%2C%20-82.44360999999999%5D%2C%20%5B40.0747%2C%20-75.5114%5D%2C%20%5B40.560718%2C%20-74.321216%5D%2C%20%5B32.70834%2C%20-117.09761%5D%2C%20%5B43.17416%2C%20-87.91601%5D%2C%20%5B47.21358%2C%20-122.34204%5D%2C%20%5B39.398371000000004%2C%20-76.403926%5D%2C%20%5B33.995176%2C%20-117.36173899999999%5D%2C%20%5B26.65062%2C%20-80.06841%5D%2C%20%5B38.961721000000004%2C%20-77.18741700000001%5D%2C%20%5B40.8607%2C%20-73.82807%5D%2C%20%5B36.582057%2C%20-121.71666699999999%5D%2C%20%5B44.984973%2C%20-122.73613%5D%2C%20%5B34.033252000000005%2C%20-118.130623%5D%2C%20%5B41.714188%2C%20-83.68847%5D%2C%20%5B38.113009999999996%2C%20-122.10605%5D%2C%20%5B39.586758%2C%20-110.80908400000001%5D%2C%20%5B34.14112%2C%20-118.17971999999999%5D%2C%20%5B38.80252%2C%20-77.076054%5D%2C%20%5B34.3108%2C%20-77.82174%5D%2C%20%5B35.023701%2C%20-85.297259%5D%2C%20%5B43.657090000000004%2C%20-70.28357%5D%2C%20%5B34.17228%2C%20-118.516302%5D%2C%20%5B38.737629999999996%2C%20-90.63481%5D%2C%20%5B42.15378%2C%20-88.0387%5D%2C%20%5B25.929312%2C%20-80.210511%5D%2C%20%5B44.294796000000005%2C%20-121.356176%5D%2C%20%5B45.45892%2C%20-122.57911000000001%5D%2C%20%5B34.056233%2C%20-118.24136899999999%5D%2C%20%5B41.099649%2C%20-73.950937%5D%2C%20%5B43.596736%2C%20-116.35248200000001%5D%2C%20%5B27.278539000000002%2C%20-82.53084799999999%5D%2C%20%5B37.560377%2C%20-121.90920200000001%5D%2C%20%5B42.195069000000004%2C%20-87.98943%5D%2C%20%5B37.757252%2C%20-79.409297%5D%2C%20%5B37.112346%2C%20-122.11478799999999%5D%2C%20%5B33.971416999999995%2C%20-117.54266799999999%5D%2C%20%5B39.21127%2C%20-84.58431%5D%2C%20%5B41.289398999999996%2C%20-73.928664%5D%2C%20%5B25.846146%2C%20-80.240804%5D%2C%20%5B35.78745%2C%20-78.69804%5D%2C%20%5B32.714101%2C%20-117.11801000000001%5D%2C%20%5B33.9817%2C%20-80.95403%5D%2C%20%5B43.783221000000005%2C%20-121.448945%5D%2C%20%5B46.167320000000004%2C%20-94.36021%5D%2C%20%5B33.831034%2C%20-118.255108%5D%2C%20%5B33.68574%2C%20-117.86346999999999%5D%2C%20%5B30.197640000000003%2C%20-81.74031%5D%2C%20%5B27.33792%2C%20-82.46370999999999%5D%2C%20%5B33.776746%2C%20-117.84003100000001%5D%2C%20%5B41.828379999999996%2C%20-86.67278%5D%2C%20%5B38.657407%2C%20-121.38291299999999%5D%2C%20%5B25.572286%2C%20-80.377155%5D%2C%20%5B29.717803000000004%2C%20-95.278242%5D%2C%20%5B39.2254%2C%20-84.38915%5D%2C%20%5B36.736509999999996%2C%20-77.520185%5D%2C%20%5B32.86015%2C%20-96.77017%5D%2C%20%5B33.901813%2C%20-117.46671200000002%5D%2C%20%5B34.876944%2C%20-118.894722%5D%2C%20%5B40.12206%2C%20-75.07866%5D%2C%20%5B34.027229999999996%2C%20-118.23281000000001%5D%2C%20%5B32.618394%2C%20-83.682771%5D%2C%20%5B33.46248%2C%20-112.21458%5D%2C%20%5B37.99073%2C%20-122.09556%5D%2C%20%5B32.85485%2C%20-97.31282%5D%2C%20%5B38.771887%2C%20-76.057723%5D%2C%20%5B44.8897%2C%20-93.3502%5D%2C%20%5B40.01778%2C%20-76.234746%5D%2C%20%5B39.29973%2C%20-76.74301%5D%2C%20%5B25.81225%2C%20-80.21084%5D%2C%20%5B35.237840000000006%2C%20-118.91445%5D%2C%20%5B38.62488%2C%20-121.51711999999999%5D%2C%20%5B35.332213%2C%20-119.00308000000001%5D%2C%20%5B25.942301%2C%20-80.30958299999999%5D%2C%20%5B43.464462%2C%20-71.579279%5D%2C%20%5B35.136390000000006%2C%20-118.87768100000001%5D%2C%20%5B40.699146999999996%2C%20-105.247824%5D%2C%20%5B37.608711%2C%20-122.068184%5D%2C%20%5B36.74504%2C%20-119.820779%5D%2C%20%5B39.413869%2C%20-76.608265%5D%2C%20%5B30.166929999999997%2C%20-97.78506%5D%2C%20%5B33.663278000000005%2C%20-117.795227%5D%2C%20%5B40.640212%2C%20-74.204243%5D%2C%20%5B40.515209999999996%2C%20-76.11316%5D%2C%20%5B41.79894%2C%20-87.63169%5D%2C%20%5B34.064944%2C%20-79.761954%5D%2C%20%5B33.475592999999996%2C%20-84.215641%5D%2C%20%5B37.347364%2C%20-121.84156200000001%5D%2C%20%5B38.6241%2C%20-121.41711000000001%5D%2C%20%5B33.65421%2C%20-117.29158000000001%5D%2C%20%5B35.748813%2C%20-78.649047%5D%2C%20%5B44.767261%2C%20-92.855336%5D%2C%20%5B45.264264000000004%2C%20-123.023379%5D%2C%20%5B42.35053%2C%20-71.09515999999999%5D%2C%20%5B34.05106%2C%20-118.21388999999999%5D%2C%20%5B30.234068%2C%20-97.722765%5D%2C%20%5B40.696172%2C%20-73.804464%5D%2C%20%5B38.652799%2C%20-121.272306%5D%2C%20%5B31.757212%2C%20-106.33039%5D%2C%20%5B25.8406%2C%20-80.37527%5D%2C%20%5B38.549349%2C%20-121.4738%5D%2C%20%5B39.006820000000005%2C%20-76.98016%5D%2C%20%5B37.66795%2C%20-122.42993999999999%5D%2C%20%5B33.86056%2C%20-118.31343000000001%5D%2C%20%5B32.85667%2C%20-96.64959%5D%2C%20%5B33.68575%2C%20-85.25703%5D%2C%20%5B33.291739%2C%20-111.91861499999999%5D%2C%20%5B46.41803%2C%20-93.51513%5D%2C%20%5B41.66563%2C%20-71.16181999999999%5D%2C%20%5B41.25312%2C%20-72.99955%5D%2C%20%5B43.351420000000005%2C%20-123.32825%5D%2C%20%5B32.76709%2C%20-96.83693000000001%5D%2C%20%5B38.942788%2C%20-78.138145%5D%2C%20%5B40.84297%2C%20-73.83761%5D%2C%20%5B41.084071%2C%20-73.66527099999999%5D%2C%20%5B44.785990999999996%2C%20-93.219498%5D%2C%20%5B41.49576%2C%20-94.45614%5D%2C%20%5B43.662290000000006%2C%20-84.00709%5D%2C%20%5B38.65268%2C%20-77.31655%5D%2C%20%5B47.65413%2C%20-122.3226%5D%2C%20%5B42.15379%2C%20-88.0386%5D%2C%20%5B44.951314%2C%20-93.027767%5D%2C%20%5B29.939220000000002%2C%20-95.34383000000001%5D%2C%20%5B37.50243%2C%20-77.52011%5D%2C%20%5B44.988244%2C%20-117.895799%5D%2C%20%5B39.17569%2C%20-94.622551%5D%2C%20%5B41.8759%2C%20-87.64766%5D%2C%20%5B36.17933%2C%20-80.19662%5D%2C%20%5B33.98561%2C%20-117.3457%5D%2C%20%5B42.320652%2C%20-122.958343%5D%2C%20%5B36.170215%2C%20-86.76832399999999%5D%2C%20%5B33.66917%2C%20-112.05912%5D%2C%20%5B41.624047%2C%20-73.77154%5D%2C%20%5B38.831394%2C%20-121.171444%5D%2C%20%5B30.533453%2C%20-87.28186%5D%2C%20%5B38.85241%2C%20-76.95259%5D%2C%20%5B40.819904%2C%20-73.890417%5D%2C%20%5B26.188356%2C%20-80.165873%5D%2C%20%5B25.82475%2C%20-80.32574100000001%5D%2C%20%5B45.007870000000004%2C%20-93.05744%5D%2C%20%5B38.576353999999995%2C%20-121.381003%5D%2C%20%5B36.771177%2C%20-121.733508%5D%2C%20%5B30.34805%2C%20-97.712295%5D%2C%20%5B33.987424%2C%20-117.88931000000001%5D%2C%20%5B30.379490000000004%2C%20-91.06732%5D%2C%20%5B32.774563%2C%20-117.125072%5D%2C%20%5B34.88319%2C%20-82.60316999999999%5D%2C%20%5B28.130255%2C%20-82.14816%5D%2C%20%5B28.217029999999998%2C%20-82.69281%5D%2C%20%5B40.216357%2C%20-123.81491799999999%5D%2C%20%5B40.98786%2C%20-73.67614%5D%2C%20%5B34.74252%2C%20-92.26302%5D%2C%20%5B26.152793%2C%20-80.21941%5D%2C%20%5B32.93495%2C%20-96.75236%5D%2C%20%5B43.861511%2C%20-123.01578899999998%5D%2C%20%5B26.206246%2C%20-80.14123199999999%5D%2C%20%5B42.22736%2C%20-122.73886%5D%2C%20%5B47.6935%2C%20-117.43642%5D%2C%20%5B34.985209999999995%2C%20-80.38524%5D%2C%20%5B38.84261%2C%20-76.86494%5D%2C%20%5B39.94525%2C%20-74.20841999999999%5D%2C%20%5B35.168834000000004%2C%20-80.756024%5D%2C%20%5B40.847091999999996%2C%20-73.933364%5D%2C%20%5B37.907309999999995%2C%20-122.31508000000001%5D%2C%20%5B35.777429%2C%20-121.328148%5D%2C%20%5B27.436187%2C%20-82.505361%5D%2C%20%5B39.537103%2C%20-104.86861%5D%2C%20%5B47.889409%2C%20-122.224511%5D%2C%20%5B34.104040000000005%2C%20-118.319696%5D%2C%20%5B35.263492%2C%20-78.62086500000001%5D%2C%20%5B34.269870000000004%2C%20-118.43222%5D%2C%20%5B32.89059%2C%20-117.20643999999999%5D%2C%20%5B34.321412%2C%20-118.496747%5D%2C%20%5B32.715193%2C%20-117.12418100000001%5D%2C%20%5B45.436568%2C%20-118.366358%5D%2C%20%5B34.020221%2C%20-118.18824%5D%2C%20%5B41.38681%2C%20-87.32655%5D%2C%20%5B38.87442%2C%20-104.81969000000001%5D%2C%20%5B41.51834%2C%20-81.6743%5D%2C%20%5B44.95965%2C%20-93.20473%5D%2C%20%5B34.08747%2C%20-117.64563999999999%5D%2C%20%5B40.07912%2C%20-76.76335999999999%5D%2C%20%5B41.57114%2C%20-87.43828%5D%2C%20%5B34.04013%2C%20-118.57905%5D%2C%20%5B42.269736%2C%20-73.728808%5D%2C%20%5B35.044959000000006%2C%20-85.15313%5D%2C%20%5B30.482451%2C%20-91.04316999999999%5D%2C%20%5B29.971328999999997%2C%20-90.104148%5D%2C%20%5B36.546202%2C%20-119.43040900000001%5D%2C%20%5B33.87385%2C%20-117.88054%5D%2C%20%5B44.962871%2C%20-116.17373899999998%5D%2C%20%5B40.83602%2C%20-73.87061%5D%2C%20%5B41.82498%2C%20-87.71865%5D%2C%20%5B34.082782%2C%20-118.227275%5D%2C%20%5B37.604805%2C%20-121.87231899999999%5D%2C%20%5B40.65462%2C%20-80.38258%5D%2C%20%5B35.85289%2C%20-78.80256999999999%5D%2C%20%5B40.832834999999996%2C%20-74.178888%5D%2C%20%5B33.737473%2C%20-117.98624099999999%5D%2C%20%5B34.183048%2C%20-117.16832%5D%2C%20%5B35.564308000000004%2C%20-121.081565%5D%2C%20%5B37.86796%2C%20-122.19631000000001%5D%2C%20%5B44.664884%2C%20-117.616249%5D%2C%20%5B25.943108%2C%20-80.358005%5D%2C%20%5B42.31732%2C%20-83.44283%5D%2C%20%5B36.181481%2C%20-115.06226000000001%5D%2C%20%5B42.7679%2C%20-73.76195%5D%2C%20%5B40.22692%2C%20-75.23527%5D%2C%20%5B37.346959999999996%2C%20-121.85888999999999%5D%2C%20%5B27.00729%2C%20-82.13396999999999%5D%2C%20%5B33.97957%2C%20-85.257449%5D%2C%20%5B42.40635%2C%20-83.16209%5D%2C%20%5B43.955%2C%20-92.150584%5D%2C%20%5B25.90354%2C%20-80.21027%5D%2C%20%5B34.1211%2C%20-118.47972%5D%2C%20%5B37.12628%2C%20-79.76319000000001%5D%2C%20%5B33.152929%2C%20-117.20138600000001%5D%2C%20%5B45.04412%2C%20-117.93615%5D%2C%20%5B43.144781%2C%20-123.364631%5D%2C%20%5B37.651416999999995%2C%20-122.40676100000002%5D%2C%20%5B42.66362%2C%20-73.72636899999999%5D%2C%20%5B32.757133%2C%20-117.22317%5D%2C%20%5B45.277887%2C%20-122.94466100000001%5D%2C%20%5B39.746359999999996%2C%20-105.02521999999999%5D%2C%20%5B35.50667%2C%20-79.16265%5D%2C%20%5B39.688569%2C%20-75.583201%5D%2C%20%5B32.75951%2C%20-97.06062%5D%2C%20%5B37.952867%2C%20-122.32799399999999%5D%2C%20%5B48.182018%2C%20-114.413315%5D%2C%20%5B26.16219%2C%20-80.16230999999999%5D%2C%20%5B40.753842999999996%2C%20-73.744396%5D%2C%20%5B28.62609%2C%20-81.758719%5D%2C%20%5B40.69057%2C%20-73.99886%5D%2C%20%5B34.004272%2C%20-117.40778600000002%5D%2C%20%5B30.44355%2C%20-91.178682%5D%2C%20%5B42.377793%2C%20-83.037215%5D%2C%20%5B44.859634%2C%20-93.365753%5D%2C%20%5B25.588787%2C%20-80.359162%5D%2C%20%5B33.870779999999996%2C%20-118.05648000000001%5D%2C%20%5B43.210370000000005%2C%20-77.60091%5D%2C%20%5B38.64315%2C%20-121.43413000000001%5D%2C%20%5B41.019290000000005%2C%20-73.628815%5D%2C%20%5B40.692581%2C%20-74.012298%5D%2C%20%5B40.053525%2C%20-75.52796%5D%2C%20%5B33.77922%2C%20-117.87716999999999%5D%2C%20%5B28.547309999999996%2C%20-81.43032%5D%2C%20%5B45.527577%2C%20-122.609618%5D%2C%20%5B36.546977000000005%2C%20-119.589542%5D%2C%20%5B25.842024%2C%20-80.249818%5D%2C%20%5B37.029771999999994%2C%20-81.11625500000001%5D%2C%20%5B25.899614%2C%20-80.182822%5D%2C%20%5B40.77347%2C%20-73.67532%5D%2C%20%5B46.15958%2C%20-123.806238%5D%2C%20%5B43.04343%2C%20-78.98886999999999%5D%2C%20%5B45.69785%2C%20-122.65893%5D%2C%20%5B33.790504%2C%20-117.22608899999999%5D%2C%20%5B39.323319%2C%20-77.356892%5D%2C%20%5B28.577665000000003%2C%20-81.476148%5D%2C%20%5B30.529911%2C%20-87.2211%5D%2C%20%5B35.135871%2C%20-80.90328199999999%5D%2C%20%5B35.739549%2C%20-78.78893599999999%5D%2C%20%5B37.847970000000004%2C%20-122.02766000000001%5D%2C%20%5B33.88179%2C%20-117.58371000000001%5D%2C%20%5B39.85937%2C%20-75.0761%5D%2C%20%5B37.83675%2C%20-122.29598%5D%2C%20%5B44.888748%2C%20-93.001143%5D%2C%20%5B40.75638%2C%20-73.5513%5D%2C%20%5B27.881109999999996%2C%20-82.787174%5D%2C%20%5B38.948732%2C%20-76.991743%5D%2C%20%5B34.067465000000006%2C%20-117.541918%5D%2C%20%5B34.139682%2C%20-80.964699%5D%2C%20%5B35.24785%2C%20-80.84564%5D%2C%20%5B37.537890000000004%2C%20-77.43805%5D%2C%20%5B40.969852%2C%20-74.079533%5D%2C%20%5B33.46213%2C%20-112.15798000000001%5D%2C%20%5B38.862429%2C%20-121.951729%5D%2C%20%5B25.787776%2C%20-80.203124%5D%2C%20%5B45.61795%2C%20-121.21035%5D%2C%20%5B35.255001%2C%20-80.88959399999999%5D%2C%20%5B38.053398%2C%20-78.52121700000001%5D%2C%20%5B33.98175%2C%20-84.34219%5D%2C%20%5B34.0302%2C%20-117.68056999999999%5D%2C%20%5B40.744178000000005%2C%20-74.21379%5D%2C%20%5B33.973440000000004%2C%20-117.33282%5D%2C%20%5B37.16425%2C%20-121.99051899999999%5D%2C%20%5B36.751834%2C%20-119.790535%5D%2C%20%5B35.894082%2C%20-78.754913%5D%2C%20%5B36.666221%2C%20-121.627545%5D%2C%20%5B28.322596%2C%20-81.403715%5D%2C%20%5B37.56864%2C%20-122.31147%5D%2C%20%5B37.38655%2C%20-121.90555%5D%2C%20%5B40.13858%2C%20-75.17035%5D%2C%20%5B44.922290999999994%2C%20-93.401545%5D%2C%20%5B45.043983000000004%2C%20-123.953581%5D%2C%20%5B38.230699%2C%20-122.11384%5D%2C%20%5B33.6776%2C%20-84.39809%5D%2C%20%5B32.934751%2C%20-96.813548%5D%2C%20%5B41.11653%2C%20-73.99394000000001%5D%2C%20%5B34.07029%2C%20-117.86429%5D%2C%20%5B41.789021000000005%2C%20-87.936337%5D%2C%20%5B40.879965999999996%2C%20-111.937798%5D%2C%20%5B46.164778000000005%2C%20-123.892547%5D%2C%20%5B33.871461%2C%20-117.739609%5D%2C%20%5B34.029719%2C%20-118.403062%5D%2C%20%5B40.834277%2C%20-73.931436%5D%2C%20%5B33.930913000000004%2C%20-118.17868%5D%2C%20%5B41.18077%2C%20-73.75877%5D%2C%20%5B32.79177%2C%20-96.73262%5D%2C%20%5B38.849495000000005%2C%20-77.41516700000001%5D%2C%20%5B40.707879999999996%2C%20-111.90366999999999%5D%2C%20%5B33.854002%2C%20-117.94183400000001%5D%2C%20%5B35.533421999999995%2C%20-119.19184299999999%5D%2C%20%5B38.59428%2C%20-90.21573000000001%5D%2C%20%5B43.05879%2C%20-76.09929%5D%2C%20%5B33.868457%2C%20-118.002358%5D%2C%20%5B30.435184999999997%2C%20-85.390927%5D%2C%20%5B34.030609999999996%2C%20-117.62383%5D%2C%20%5B32.729955%2C%20-117.107638%5D%2C%20%5B40.602266%2C%20-112.029445%5D%2C%20%5B25.678620000000002%2C%20-80.38871%5D%2C%20%5B37.739365%2C%20-121.59071100000001%5D%2C%20%5B32.826378999999996%2C%20-96.872709%5D%2C%20%5B34.03693%2C%20-118.43876999999999%5D%2C%20%5B40.60784%2C%20-74.13616999999999%5D%2C%20%5B33.778682%2C%20-117.89523600000001%5D%2C%20%5B44.6813%2C%20-93.29361%5D%2C%20%5B35.20167%2C%20-80.76059000000001%5D%2C%20%5B38.581453%2C%20-121.463397%5D%2C%20%5B29.652179999999998%2C%20-95.38712%5D%2C%20%5B45.664097%2C%20-111.18573799999999%5D%2C%20%5B41.06188%2C%20-74.48155%5D%2C%20%5B45.320609999999995%2C%20-123.09031%5D%2C%20%5B33.395481%2C%20-111.78841899999999%5D%2C%20%5B33.068472%2C%20-117.29341799999999%5D%2C%20%5B34.084671%2C%20-117.488946%5D%2C%20%5B30.44647%2C%20-91.17996%5D%2C%20%5B43.43394%2C%20-83.91660999999999%5D%2C%20%5B33.956691%2C%20-81.092759%5D%2C%20%5B26.02809%2C%20-80.16566999999999%5D%2C%20%5B41.17625%2C%20-83.64952%5D%2C%20%5B48.042533%2C%20-122.8864%5D%2C%20%5B39.4193%2C%20-76.652743%5D%2C%20%5B44.944438%2C%20-93.45633000000001%5D%2C%20%5B29.225518%2C%20-95.46831800000001%5D%2C%20%5B31.78759%2C%20-89.0552%5D%2C%20%5B34.020235%2C%20-118.18396000000001%5D%2C%20%5B35.205740999999996%2C%20-111.602668%5D%2C%20%5B41.892520000000005%2C%20-87.65287%5D%2C%20%5B25.785157%2C%20-80.36859100000001%5D%2C%20%5B42.956252%2C%20-78.912042%5D%2C%20%5B31.76701%2C%20-106.49035%5D%2C%20%5B41.31813%2C%20-72.89907%5D%2C%20%5B29.783809%2C%20-95.560837%5D%2C%20%5B38.576785%2C%20-77.326809%5D%2C%20%5B41.98737%2C%20-87.75135999999999%5D%2C%20%5B35.772289%2C%20-78.741577%5D%2C%20%5B34.053894%2C%20-117.986723%5D%2C%20%5B35.804003%2C%20-78.69385600000001%5D%2C%20%5B37.36068%2C%20-121.84182%5D%2C%20%5B33.872572%2C%20-118.27539499999999%5D%2C%20%5B38.552139000000004%2C%20-121.41575%5D%2C%20%5B32.22784%2C%20-81.030885%5D%2C%20%5B35.06256%2C%20-80.81459%5D%2C%20%5B40.26358%2C%20-76.81438%5D%2C%20%5B30.208368%2C%20-85.614074%5D%2C%20%5B36.528985999999996%2C%20-119.29574299999999%5D%2C%20%5B33.687214000000004%2C%20-117.872459%5D%2C%20%5B36.884817%2C%20-121.772425%5D%2C%20%5B33.79681%2C%20-118.10792%5D%2C%20%5B34.066722999999996%2C%20-117.22088000000001%5D%2C%20%5B28.509970000000003%2C%20-81.256442%5D%2C%20%5B30.501466999999998%2C%20-87.257261%5D%2C%20%5B40.253208%2C%20-75.34813199999999%5D%2C%20%5B39.127008000000004%2C%20-94.497905%5D%2C%20%5B32.85392%2C%20-96.64543%5D%2C%20%5B41.032509999999995%2C%20-111.94752%5D%2C%20%5B38.18476%2C%20-85.72358%5D%2C%20%5B39.1273%2C%20-94.49773%5D%2C%20%5B40.821187%2C%20-97.67766%5D%2C%20%5B33.810158%2C%20-117.993275%5D%2C%20%5B34.114211%2C%20-118.481873%5D%2C%20%5B43.129721999999994%2C%20-123.40652%5D%2C%20%5B40.76943%2C%20-73.06645999999999%5D%2C%20%5B42.49438%2C%20-83.29504%5D%2C%20%5B40.023252%2C%20-75.034314%5D%2C%20%5B30.446440000000003%2C%20-91.05773%5D%2C%20%5B37.327047%2C%20-121.937184%5D%2C%20%5B25.943451%2C%20-80.30708800000001%5D%2C%20%5B40.20205%2C%20-75.2554%5D%2C%20%5B25.80838%2C%20-80.26268%5D%2C%20%5B44.38666%2C%20-74.16048%5D%2C%20%5B32.74689%2C%20-97.31666%5D%2C%20%5B41.882459999999995%2C%20-87.91957%5D%2C%20%5B30.340490000000003%2C%20-97.6994%5D%2C%20%5B39.1736%2C%20-84.4908%5D%2C%20%5B37.50281%2C%20-122.33142%5D%2C%20%5B40.066001%2C%20-76.327124%5D%2C%20%5B42.93933%2C%20-84.02188000000001%5D%2C%20%5B33.9313%2C%20-118.28093999999999%5D%2C%20%5B41.845874%2C%20-87.641906%5D%2C%20%5B28.639674%2C%20-81.38772800000001%5D%2C%20%5B44.874829999999996%2C%20-93.05155%5D%2C%20%5B44.9509%2C%20-93.10008%5D%2C%20%5B36.545521%2C%20-119.367773%5D%2C%20%5B42.3169%2C%20-83.21521%5D%2C%20%5B40.72412%2C%20-111.94389%5D%2C%20%5B25.747957%2C%20-80.32764399999999%5D%2C%20%5B35.98072%2C%20-85.01028000000001%5D%2C%20%5B38.18991%2C%20-85.74901%5D%2C%20%5B38.88599%2C%20-104.71983%5D%2C%20%5B29.759240000000002%2C%20-95.14621%5D%2C%20%5B38.899390999999994%2C%20-77.21468399999999%5D%2C%20%5B44.99303%2C%20-93.45861%5D%2C%20%5B42.51331%2C%20-71.03197%5D%2C%20%5B39.015744%2C%20-77.09734%5D%2C%20%5B37.44263%2C%20-121.89017%5D%2C%20%5B35.831365999999996%2C%20-80.786553%5D%2C%20%5B40.688790000000004%2C%20-111.95164%5D%2C%20%5B38.428727%2C%20-122.715193%5D%2C%20%5B38.460260999999996%2C%20-121.494851%5D%2C%20%5B34.066714000000005%2C%20-117.235028%5D%2C%20%5B32.919493%2C%20-96.747486%5D%2C%20%5B34.0017%2C%20-118.17412%5D%2C%20%5B33.84641%2C%20-84.24709%5D%2C%20%5B38.943020000000004%2C%20-94.75697%5D%2C%20%5B33.881440000000005%2C%20-117.5781%5D%2C%20%5B39.98648%2C%20-75.40621999999999%5D%2C%20%5B37.927978%2C%20-122.32287%5D%2C%20%5B40.714240000000004%2C%20-74.28389%5D%2C%20%5B33.850003%2C%20-84.246822%5D%2C%20%5B28.020940000000003%2C%20-82.18706%5D%2C%20%5B39.321089%2C%20-77.28372399999999%5D%2C%20%5B40.776126%2C%20-74.041296%5D%2C%20%5B30.439009999999996%2C%20-91.18915%5D%2C%20%5B34.077808000000005%2C%20-117.62860900000001%5D%2C%20%5B41.75484%2C%20-87.62605%5D%2C%20%5B39.752883000000004%2C%20-121.97628%5D%2C%20%5B34.082133%2C%20-118.704535%5D%2C%20%5B33.08084%2C%20-117.29711999999999%5D%2C%20%5B45.253575%2C%20-121.711321%5D%2C%20%5B40.730078000000006%2C%20-74.125149%5D%2C%20%5B37.926459%2C%20-122.054726%5D%2C%20%5B40.73752%2C%20-73.85096%5D%2C%20%5B36.136896%2C%20-86.727285%5D%2C%20%5B38.641220000000004%2C%20-121.47345%5D%2C%20%5B38.5531%2C%20-121.37522%5D%2C%20%5B28.386158000000002%2C%20-81.244507%5D%2C%20%5B44.65161%2C%20-123.06136000000001%5D%2C%20%5B42.70644%2C%20-73.83075%5D%2C%20%5B28.084765%2C%20-82.505003%5D%2C%20%5B39.125696000000005%2C%20-121.575779%5D%2C%20%5B45.172259999999994%2C%20-93.52688%5D%2C%20%5B34.025763%2C%20-117.564021%5D%2C%20%5B33.82195%2C%20-118.20685%5D%2C%20%5B37.8986%2C%20-122.07078999999999%5D%2C%20%5B42.425709000000005%2C%20-122.85038999999999%5D%2C%20%5B37.25322%2C%20-121.78908999999999%5D%2C%20%5B39.295874%2C%20-76.50354200000001%5D%2C%20%5B28.559278000000003%2C%20-81.129634%5D%2C%20%5B43.606026%2C%20-92.949634%5D%2C%20%5B25.970860000000002%2C%20-80.30139399999999%5D%2C%20%5B39.02608%2C%20-76.44008000000001%5D%2C%20%5B30.471608000000003%2C%20-91.0891%5D%2C%20%5B44.42908%2C%20-121.912398%5D%2C%20%5B38.100153999999996%2C%20-121.26008999999999%5D%2C%20%5B34.13558%2C%20-117.995377%5D%2C%20%5B32.559235%2C%20-93.78421999999999%5D%2C%20%5B39.06346%2C%20-94.4997%5D%2C%20%5B37.98325%2C%20-122.315941%5D%2C%20%5B45.056020000000004%2C%20-93.1314%5D%2C%20%5B26.303693%2C%20-80.169285%5D%2C%20%5B39.60978%2C%20-105.1101%5D%2C%20%5B27.806359999999998%2C%20-82.74741999999999%5D%2C%20%5B39.10539%2C%20-94.75563000000001%5D%2C%20%5B38.02369%2C%20-121.97152%5D%2C%20%5B35.727292%2C%20-81.563497%5D%2C%20%5B38.8484%2C%20-76.95340999999999%5D%2C%20%5B34.029403%2C%20-117.12999199999999%5D%2C%20%5B41.28362%2C%20-72.93757%5D%2C%20%5B32.697254%2C%20-117.13722800000001%5D%2C%20%5B34.03751%2C%20-118.1699%5D%2C%20%5B42.78098%2C%20-105.51068000000001%5D%2C%20%5B43.03877%2C%20-76.14205%5D%2C%20%5B41.79733%2C%20-71.40356%5D%2C%20%5B43.184348%2C%20-77.59941500000001%5D%2C%20%5B44.63362%2C%20-122.865439%5D%2C%20%5B45.628827%2C%20-118.016434%5D%2C%20%5B37.77304%2C%20-122.40657%5D%2C%20%5B28.661053999999996%2C%20-80.867763%5D%2C%20%5B27.307378999999997%2C%20-82.530078%5D%2C%20%5B25.864883%2C%20-80.242452%5D%2C%20%5B39.278146%2C%20-76.725765%5D%2C%20%5B44.8382%2C%20-94.29064%5D%2C%20%5B37.78542%2C%20-122.17943000000001%5D%2C%20%5B45.309995%2C%20-122.93558300000001%5D%2C%20%5B40.71715%2C%20-73.83077%5D%2C%20%5B44.709959999999995%2C%20-122.23369%5D%2C%20%5B33.77871%2C%20-117.89506000000002%5D%2C%20%5B33.445840999999994%2C%20-84.68959100000001%5D%2C%20%5B32.924461%2C%20-96.76182299999999%5D%2C%20%5B28.030040000000003%2C%20-82.13958000000001%5D%2C%20%5B30.716482%2C%20-81.668689%5D%2C%20%5B25.633812%2C%20-80.360281%5D%2C%20%5B33.68789%2C%20-117.90455%5D%2C%20%5B33.752320000000005%2C%20-78.96254%5D%2C%20%5B44.9852%2C%20-93.24106%5D%2C%20%5B43.193003999999995%2C%20-77.576608%5D%2C%20%5B39.81286%2C%20-104.98305%5D%2C%20%5B41.602%2C%20-87.16649%5D%2C%20%5B30.210829999999998%2C%20-81.51371999999999%5D%2C%20%5B34.127751%2C%20-117.91803%5D%2C%20%5B31.767090000000003%2C%20-106.36891999999999%5D%2C%20%5B34.921728%2C%20-81.989089%5D%2C%20%5B44.854857%2C%20-93.128856%5D%2C%20%5B32.395044%2C%20-90.14534300000001%5D%2C%20%5B44.56725%2C%20-123.17925%5D%2C%20%5B30.232764000000003%2C%20-97.590795%5D%2C%20%5B39.182303000000005%2C%20-120.849443%5D%2C%20%5B33.825417%2C%20-118.228404%5D%2C%20%5B35.538406%2C%20-97.59384200000001%5D%2C%20%5B33.955909999999996%2C%20-118.10886%5D%2C%20%5B38.056426%2C%20-122.148154%5D%2C%20%5B30.223909999999997%2C%20-97.76334%5D%2C%20%5B25.806552%2C%20-80.231941%5D%2C%20%5B42.197291%2C%20-87.989575%5D%2C%20%5B33.84915%2C%20-117.850994%5D%2C%20%5B35.2488%2C%20-80.81584000000001%5D%2C%20%5B35.107846%2C%20-80.55471700000001%5D%2C%20%5B35.58014%2C%20-97.65618%5D%2C%20%5B35.93524%2C%20-78.85854%5D%2C%20%5B33.6783%2C%20-117.84671999999999%5D%2C%20%5B40.108823%2C%20-86.51243000000001%5D%2C%20%5B45.348440000000004%2C%20-122.64523%5D%2C%20%5B34.065425%2C%20-117.997922%5D%2C%20%5B39.131785%2C%20-104.863621%5D%2C%20%5B40.572860999999996%2C%20-76.412921%5D%2C%20%5B40.653135999999996%2C%20-73.863283%5D%2C%20%5B33.667411%2C%20-117.881251%5D%2C%20%5B36.540420000000005%2C%20-119.58858300000001%5D%2C%20%5B37.682556%2C%20-79.492144%5D%2C%20%5B34.03241%2C%20-118.22183000000001%5D%2C%20%5B39.78797%2C%20-86.16663%5D%2C%20%5B43.432961%2C%20-124.220932%5D%2C%20%5B40.359840999999996%2C%20-111.56633899999999%5D%2C%20%5B33.99558%2C%20-117.36243999999999%5D%2C%20%5B34.934703999999996%2C%20-119.41121100000001%5D%2C%20%5B33.784929999999996%2C%20-117.88378999999999%5D%2C%20%5B44.53867%2C%20-117.414354%5D%2C%20%5B40.0805%2C%20-76.34795%5D%2C%20%5B30.28936%2C%20-97.66455%5D%2C%20%5B38.589859999999994%2C%20-121.41527099999999%5D%2C%20%5B37.561617%2C%20-122.276377%5D%2C%20%5B34.72%2C%20-86.57923000000001%5D%2C%20%5B42.153564%2C%20-87.988268%5D%2C%20%5B40.81361%2C%20-74.01048%5D%2C%20%5B38.567240000000005%2C%20-90.43992%5D%2C%20%5B34.05835%2C%20-118.45438%5D%2C%20%5B38.845232%2C%20-94.828518%5D%2C%20%5B40.16176%2C%20-75.37986%5D%2C%20%5B32.914429999999996%2C%20-96.89766999999999%5D%2C%20%5B44.066829999999996%2C%20-122.80821%5D%2C%20%5B37.412599%2C%20-122.07936000000001%5D%2C%20%5B38.88192%2C%20-111.5812%5D%2C%20%5B27.446165999999998%2C%20-82.483786%5D%2C%20%5B31.89923%2C%20-106.3993%5D%2C%20%5B32.59872%2C%20-84.95459%5D%2C%20%5B40.01559%2C%20-75.244967%5D%2C%20%5B33.85398%2C%20-117.90298%5D%2C%20%5B41.584319%2C%20-73.770753%5D%2C%20%5B25.808224%2C%20-80.313148%5D%2C%20%5B39.354003000000006%2C%20-76.745799%5D%2C%20%5B39.12422%2C%20-94.81416999999999%5D%2C%20%5B30.498635999999998%2C%20-88.323329%5D%2C%20%5B35.20228%2C%20-80.72708%5D%2C%20%5B39.37318%2C%20-76.5678%5D%2C%20%5B39.609758%2C%20-77.801013%5D%2C%20%5B45.586909000000006%2C%20-122.085102%5D%2C%20%5B29.460364000000002%2C%20-98.516002%5D%2C%20%5B37.70281%2C%20-122.01736000000001%5D%2C%20%5B33.836009999999995%2C%20-118.28748%5D%2C%20%5B33.687231%2C%20-117.8722%5D%2C%20%5B34.498599%2C%20-117.800253%5D%2C%20%5B47.39582%2C%20-122.29168999999999%5D%2C%20%5B38.630601%2C%20-76.87418100000001%5D%2C%20%5B33.916858000000005%2C%20-81.22824200000001%5D%2C%20%5B33.25335%2C%20-117.24481499999999%5D%2C%20%5B41.97206%2C%20-88.11965%5D%2C%20%5B39.627924%2C%20-77.775035%5D%2C%20%5B38.576876%2C%20-121.516756%5D%2C%20%5B34.143356%2C%20-118.737172%5D%2C%20%5B35.81633%2C%20-86.40135%5D%2C%20%5B33.461766%2C%20-112.073618%5D%2C%20%5B43.049013%2C%20-76.142562%5D%2C%20%5B37.843503000000005%2C%20-122.254967%5D%2C%20%5B33.873721999999994%2C%20-118.231435%5D%2C%20%5B33.181090000000005%2C%20-117.33118999999999%5D%2C%20%5B40.644401%2C%20-111.930746%5D%2C%20%5B39.105073%2C%20-76.886883%5D%2C%20%5B36.837656%2C%20-121.683623%5D%2C%20%5B38.46103%2C%20-121.41266999999999%5D%2C%20%5B37.878816%2C%20-121.27860700000001%5D%2C%20%5B29.958879999999997%2C%20-89.99243%5D%2C%20%5B34.91088%2C%20-85.13073%5D%2C%20%5B40.70148%2C%20-73.52115%5D%2C%20%5B37.53584%2C%20-122.07437%5D%2C%20%5B34.116609999999994%2C%20-118.26895%5D%2C%20%5B40.282064%2C%20-111.731902%5D%2C%20%5B30.520171%2C%20-87.311532%5D%2C%20%5B40.820227%2C%20-73.83594599999999%5D%2C%20%5B39.624806%2C%20-86.1585%5D%2C%20%5B42.181721%2C%20-87.81897099999999%5D%2C%20%5B40.493017%2C%20-111.891401%5D%2C%20%5B45.827676000000004%2C%20-119.58564799999999%5D%2C%20%5B40.75777%2C%20-73.73823%5D%2C%20%5B25.920579999999998%2C%20-80.21030999999999%5D%2C%20%5B38.78553%2C%20-76.59731%5D%2C%20%5B38.738843%2C%20-104.747253%5D%2C%20%5B42.353638000000004%2C%20-71.053584%5D%2C%20%5B32.7789%2C%20-117.10199399999999%5D%2C%20%5B45.575441%2C%20-93.800623%5D%2C%20%5B34.120477%2C%20-117.698503%5D%2C%20%5B40.26556%2C%20-86.65937%5D%2C%20%5B34.127601%2C%20-117.918158%5D%2C%20%5B38.361959999999996%2C%20-122.0229%5D%2C%20%5B38.231153000000006%2C%20-122.112747%5D%2C%20%5B34.024858%2C%20-118.42835600000001%5D%2C%20%5B37.842987%2C%20-122.485482%5D%2C%20%5B41.6729%2C%20-91.44922%5D%2C%20%5B39.01794%2C%20-77.10347%5D%2C%20%5B38.620902%2C%20-90.093158%5D%2C%20%5B36.09827%2C%20-95.85953%5D%2C%20%5B34.02917%2C%20-118.39623999999999%5D%2C%20%5B35.046397%2C%20-85.307925%5D%2C%20%5B40.452886%2C%20-80.039374%5D%2C%20%5B33.94593%2C%20-118.17052%5D%2C%20%5B34.23274%2C%20-118.47299%5D%2C%20%5B36.178022999999996%2C%20-86.774402%5D%2C%20%5B43.120812%2C%20-83.55861%5D%2C%20%5B35.04627%2C%20-89.69440999999999%5D%2C%20%5B39.021545%2C%20-77.384539%5D%2C%20%5B34.104409999999994%2C%20-118.32247%5D%2C%20%5B40.78646%2C%20-73.79433%5D%2C%20%5B30.379279999999998%2C%20-84.12505300000001%5D%2C%20%5B25.75604%2C%20-80.32021800000001%5D%2C%20%5B28.369284000000004%2C%20-81.36089399999999%5D%2C%20%5B36.827814000000004%2C%20-79.397894%5D%2C%20%5B38.027163%2C%20-103.65602%5D%2C%20%5B32.6494%2C%20-97.32138%5D%2C%20%5B33.666411%2C%20-117.30334599999999%5D%2C%20%5B35.118159999999996%2C%20-80.93146%5D%2C%20%5B26.19129%2C%20-80.20883%5D%2C%20%5B45.36055%2C%20-122.82548999999999%5D%2C%20%5B42.107929%2C%20-80.073699%5D%2C%20%5B47.67083%2C%20-117.20513999999999%5D%2C%20%5B29.349476%2C%20-82.517751%5D%2C%20%5B42.47825%2C%20-123.352674%5D%2C%20%5B39.32868%2C%20-111.60126000000001%5D%2C%20%5B37.71522%2C%20-121.70896%5D%2C%20%5B30.449132000000002%2C%20-84.310277%5D%2C%20%5B38.476147%2C%20-121.424954%5D%2C%20%5B39.442194%2C%20-76.356042%5D%2C%20%5B30.449284999999996%2C%20-87.230997%5D%2C%20%5B32.85325%2C%20-96.56263%5D%2C%20%5B36.23741%2C%20-86.78581%5D%2C%20%5B40.035459%2C%20-76.287018%5D%2C%20%5B25.945498999999998%2C%20-80.176958%5D%2C%20%5B34.130476%2C%20-117.96058000000001%5D%2C%20%5B33.05088%2C%20-84.95985%5D%2C%20%5B33.689012%2C%20-117.919357%5D%2C%20%5B27.534609999999997%2C%20-82.51021%5D%2C%20%5B37.14435%2C%20-121.98468000000001%5D%2C%20%5B32.83984%2C%20-97.28577%5D%2C%20%5B36.876841%2C%20-76.49067%5D%2C%20%5B44.052547%2C%20-121.30718300000001%5D%2C%20%5B45.620779999999996%2C%20-123.40648600000002%5D%2C%20%5B41.87559%2C%20-87.66181999999999%5D%2C%20%5B38.863078%2C%20-77.348639%5D%2C%20%5B25.883587%2C%20-80.21260600000001%5D%2C%20%5B37.38093%2C%20-77.4533%5D%2C%20%5B39.9134%2C%20-104.99014%5D%2C%20%5B36.19109%2C%20-86.79889%5D%2C%20%5B29.714909999999996%2C%20-95.26631%5D%2C%20%5B32.70547%2C%20-97.06258000000001%5D%2C%20%5B32.61978%2C%20-83.5994%5D%2C%20%5B42.2276%2C%20-87.97713%5D%2C%20%5B25.784570000000002%2C%20-80.23617%5D%2C%20%5B32.89745%2C%20-117.21752%5D%2C%20%5B39.96843%2C%20-83.06555999999999%5D%2C%20%5B34.147062%2C%20-119.09665600000001%5D%2C%20%5B39.916059999999995%2C%20-105.09352%5D%2C%20%5B32.138659999999994%2C%20-110.89008000000001%5D%2C%20%5B39.281240000000004%2C%20-76.73009%5D%2C%20%5B38.062132%2C%20-122.533588%5D%2C%20%5B43.081874%2C%20-76.22282%5D%2C%20%5B27.80302%2C%20-82.66237%5D%2C%20%5B35.403240000000004%2C%20-97.49498%5D%2C%20%5B33.498969%2C%20-112.11303000000001%5D%2C%20%5B30.476059000000003%2C%20-87.28723000000001%5D%2C%20%5B27.951658000000002%2C%20-82.51130699999999%5D%2C%20%5B36.221309999999995%2C%20-80.31298000000001%5D%2C%20%5B37.63491%2C%20-122.0869%5D%2C%20%5B46.3063%2C%20-95.45907%5D%2C%20%5B36.156396%2C%20-86.631408%5D%2C%20%5B41.796620000000004%2C%20-71.92747%5D%2C%20%5B34.030376000000004%2C%20-117.684227%5D%2C%20%5B34.087394%2C%20-117.662948%5D%2C%20%5B27.290478000000004%2C%20-80.420211%5D%2C%20%5B47.849790000000006%2C%20-122.25585%5D%2C%20%5B33.783355%2C%20-117.882152%5D%2C%20%5B38.789038%2C%20-120.15425800000001%5D%2C%20%5B44.03417%2C%20-92.50565%5D%2C%20%5B40.94019%2C%20-74.00328%5D%2C%20%5B26.70611%2C%20-80.22933%5D%2C%20%5B37.57284%2C%20-77.47659%5D%2C%20%5B26.088288000000002%2C%20-80.16824100000001%5D%2C%20%5B37.01813%2C%20-76.3842%5D%2C%20%5B39.688091%2C%20-76.896227%5D%2C%20%5B26.025852%2C%20-80.166528%5D%2C%20%5B33.782464000000004%2C%20-117.31209299999999%5D%2C%20%5B39.75522%2C%20-75.49693%5D%2C%20%5B37.38093%2C%20-77.4533%5D%2C%20%5B40.64687%2C%20-74.57203%5D%2C%20%5B30.265197999999998%2C%20-82.74783199999999%5D%2C%20%5B34.070282%2C%20-117.864295%5D%2C%20%5B36.024845%2C%20-121.177664%5D%2C%20%5B34.431463%2C%20-92.515472%5D%2C%20%5B34.075077%2C%20-118.274297%5D%2C%20%5B33.905877000000004%2C%20-118.10506000000001%5D%2C%20%5B37.799690000000005%2C%20-80.28052%5D%2C%20%5B41.36844%2C%20-81.82149%5D%2C%20%5B33.604477%2C%20-117.69056100000002%5D%2C%20%5B34.018871999999995%2C%20-117.740637%5D%2C%20%5B39.95406%2C%20-75.06052%5D%2C%20%5B33.851290000000006%2C%20-84.37005%5D%2C%20%5B35.157426%2C%20-80.79176899999999%5D%2C%20%5B34.106546%2C%20-117.925379%5D%2C%20%5B33.51924%2C%20-80.43411%5D%2C%20%5B33.7106%2C%20-78.90966%5D%2C%20%5B38.809321999999995%2C%20-76.966234%5D%2C%20%5B40.036916%2C%20-83.124711%5D%2C%20%5B40.72012%2C%20-74.07722%5D%2C%20%5B29.77041%2C%20-95.45624000000001%5D%2C%20%5B33.916191%2C%20-118.22698000000001%5D%2C%20%5B33.426563%2C%20-117.149927%5D%2C%20%5B36.325854%2C%20-119.116955%5D%2C%20%5B34.240254%2C%20-117.429524%5D%2C%20%5B37.800554%2C%20-121.19204099999999%5D%2C%20%5B34.75015%2C%20-86.69736999999999%5D%2C%20%5B32.77061%2C%20-96.8154%5D%2C%20%5B36.992208000000005%2C%20-119.710498%5D%2C%20%5B39.193431%2C%20-121.341333%5D%2C%20%5B30.250590000000003%2C%20-81.57521%5D%2C%20%5B44.888009999999994%2C%20-95.65801%5D%2C%20%5B36.150715999999996%2C%20-78.721772%5D%2C%20%5B38.350085%2C%20-77.480467%5D%2C%20%5B30.435828000000004%2C%20-83.3335%5D%2C%20%5B28.022609999999997%2C%20-82.70962%5D%2C%20%5B29.978448999999998%2C%20-90.060086%5D%2C%20%5B34.087405%2C%20-117.65954599999999%5D%2C%20%5B30.343142999999998%2C%20-83.131585%5D%2C%20%5B33.904505%2C%20-117.45988700000001%5D%2C%20%5B43.321188%2C%20-123.058118%5D%2C%20%5B40.845502%2C%20-73.926536%5D%2C%20%5B34.143275%2C%20-118.74026599999999%5D%2C%20%5B33.91644%2C%20-118.32651399999999%5D%2C%20%5B25.626145%2C%20-80.41645%5D%2C%20%5B37.302116%2C%20-120.59691299999999%5D%2C%20%5B40.69654%2C%20-112.0305%5D%2C%20%5B40.529534999999996%2C%20-79.952277%5D%2C%20%5B42.45717%2C%20-83.09794000000001%5D%2C%20%5B44.03698%2C%20-92.55078%5D%2C%20%5B39.13354%2C%20-94.49887%5D%2C%20%5B34.081679%2C%20-117.73146799999999%5D%2C%20%5B48.076875%2C%20-123.766391%5D%2C%20%5B44.951609999999995%2C%20-93.14649%5D%2C%20%5B33.02021%2C%20-96.98425%5D%2C%20%5B25.924870000000002%2C%20-80.30417%5D%2C%20%5B27.398413%2C%20-82.451311%5D%2C%20%5B33.614681%2C%20-117.707783%5D%2C%20%5B34.107495%2C%20-117.302302%5D%2C%20%5B43.00168%2C%20-83.69914%5D%2C%20%5B35.81514%2C%20-78.60342%5D%2C%20%5B30.453272%2C%20-91.16197%5D%2C%20%5B38.94095%2C%20-94.59231%5D%2C%20%5B35.29164%2C%20-80.854419%5D%2C%20%5B40.585316999999996%2C%20-82.598167%5D%2C%20%5B39.864224%2C%20-75.34858299999999%5D%2C%20%5B34.21175%2C%20-118.22831000000001%5D%2C%20%5B38.70674%2C%20-90.24934%5D%2C%20%5B27.955945%2C%20-82.465835%5D%2C%20%5B45.470237%2C%20-122.678164%5D%2C%20%5B34.412884000000005%2C%20-119.556017%5D%2C%20%5B39.84029%2C%20-86.09047%5D%2C%20%5B34.006593%2C%20-117.98098300000001%5D%2C%20%5B40.97654%2C%20-100.29496400000001%5D%2C%20%5B42.40204%2C%20-82.97069%5D%2C%20%5B44.77779%2C%20-92.86435%5D%2C%20%5B30.570991999999997%2C%20-91.199764%5D%2C%20%5B45.533590000000004%2C%20-122.62536000000001%5D%2C%20%5B32.499966%2C%20-93.780289%5D%2C%20%5B33.806905%2C%20-118.15085400000001%5D%2C%20%5B32.94856%2C%20-97.03302%5D%2C%20%5B34.070316999999996%2C%20-118.00036100000001%5D%2C%20%5B34.064464%2C%20-118.00548899999998%5D%2C%20%5B34.852940000000004%2C%20-82.382816%5D%2C%20%5B32.250469%2C%20-110.99547700000001%5D%2C%20%5B42.367779999999996%2C%20-71.2698%5D%2C%20%5B32.964695%2C%20-117.09498700000002%5D%2C%20%5B33.509570000000004%2C%20-112.1863%5D%2C%20%5B32.667390000000005%2C%20-96.73196999999999%5D%2C%20%5B33.205290000000005%2C%20-96.63828000000001%5D%2C%20%5B36.197328999999996%2C%20-94.18081%5D%2C%20%5B44.116170000000004%2C%20-70.05566%5D%2C%20%5B34.021229999999996%2C%20-118.1961%5D%2C%20%5B27.586579999999998%2C%20-82.54037%5D%2C%20%5B41.695828999999996%2C%20-92.157365%5D%2C%20%5B34.043031%2C%20-118.21722%5D%2C%20%5B35.74115%2C%20-78.78553000000001%5D%2C%20%5B39.00509%2C%20-77.081575%5D%2C%20%5B38.418058%2C%20-80.059202%5D%2C%20%5B32.77718%2C%20-96.81213000000001%5D%2C%20%5B33.992540000000005%2C%20-117.90531000000001%5D%2C%20%5B39.10163%2C%20-77.57463%5D%2C%20%5B34.07163%2C%20-118.11023%5D%2C%20%5B38.881288%2C%20-77.397777%5D%2C%20%5B38.57874%2C%20-121.46472%5D%2C%20%5B32.294259999999994%2C%20-111.04368999999998%5D%2C%20%5B32.236047%2C%20-110.862031%5D%2C%20%5B39.106809999999996%2C%20-94.58524%5D%2C%20%5B34.161147%2C%20-118.83061299999999%5D%2C%20%5B32.999836%2C%20-117.08268100000001%5D%2C%20%5B28.255840999999997%2C%20-81.486295%5D%2C%20%5B39.02244%2C%20-94.50253000000001%5D%2C%20%5B33.902231%2C%20-118.37055%5D%2C%20%5B40.017794%2C%20-78.4017%5D%2C%20%5B33.204664%2C%20-84.281723%5D%2C%20%5B34.03717%2C%20-118.08882%5D%2C%20%5B38.35309%2C%20-81.62777%5D%2C%20%5B34.52219%2C%20-82.696242%5D%2C%20%5B39.94903%2C%20-82.94354%5D%2C%20%5B44.40463%2C%20-121.68753999999998%5D%2C%20%5B38.059633000000005%2C%20-77.505036%5D%2C%20%5B30.327709999999996%2C%20-81.52917%5D%2C%20%5B37.473553%2C%20-78.470874%5D%2C%20%5B40.914629999999995%2C%20-111.89147%5D%2C%20%5B37.774390000000004%2C%20-122.23132%5D%2C%20%5B40.866209999999995%2C%20-74.417427%5D%2C%20%5B43.17626%2C%20-77.56145%5D%2C%20%5B27.444056%2C%20-82.58556999999999%5D%2C%20%5B29.16855%2C%20-81.08292%5D%2C%20%5B45.59486%2C%20-122.68388999999999%5D%2C%20%5B41.87784%2C%20-87.64605%5D%2C%20%5B42.060074%2C%20-71.065618%5D%2C%20%5B36.150277%2C%20-119.504245%5D%2C%20%5B39.235535%2C%20-76.83967700000001%5D%2C%20%5B32.398309999999995%2C%20-111.12706999999999%5D%2C%20%5B40.634233%2C%20-74.210688%5D%2C%20%5B33.18475%2C%20-97.1056%5D%2C%20%5B30.45877%2C%20-81.64273100000001%5D%2C%20%5B34.00412%2C%20-117.40523999999999%5D%2C%20%5B45.536840000000005%2C%20-122.684453%5D%2C%20%5B41.691281%2C%20-88.38028100000001%5D%2C%20%5B41.50121%2C%20-81.48013%5D%2C%20%5B37.250370000000004%2C%20-93.26624%5D%2C%20%5B33.87878%2C%20-84.24964%5D%2C%20%5B34.407340999999995%2C%20-118.579838%5D%2C%20%5B38.391627%2C%20-121.929584%5D%2C%20%5B33.90999%2C%20-84.36346%5D%2C%20%5B43.68938%2C%20-92.09709000000001%5D%2C%20%5B39.812492%2C%20-76.994355%5D%2C%20%5B38.35992%2C%20-81.71631%5D%2C%20%5B37.685651%2C%20-112.135893%5D%2C%20%5B40.591093%2C%20-74.324211%5D%2C%20%5B45.800793%2C%20-119.998567%5D%2C%20%5B39.29234%2C%20-76.70166%5D%2C%20%5B25.685172%2C%20-80.419318%5D%2C%20%5B34.245321999999994%2C%20-79.753644%5D%2C%20%5B39.6798%2C%20-86.341698%5D%2C%20%5B34.01142%2C%20-81.04007%5D%2C%20%5B32.880179999999996%2C%20-96.80976%5D%2C%20%5B44.78778%2C%20-94.37578%5D%2C%20%5B39.783640000000005%2C%20-105.00322%5D%2C%20%5B38.922556%2C%20-78.12780500000001%5D%2C%20%5B38.28508%2C%20-122.30068%5D%2C%20%5B43.320332%2C%20-122.984707%5D%2C%20%5B34.762122%2C%20-92.34055%5D%2C%20%5B48.35148%2C%20-114.181068%5D%2C%20%5B40.294124%2C%20-78.885434%5D%2C%20%5B36.78924%2C%20-121.66758%5D%2C%20%5B37.73941%2C%20-121.59046000000001%5D%2C%20%5B34.03168%2C%20-118.41982%5D%2C%20%5B40.439461%2C%20-80.010327%5D%2C%20%5B33.880247999999995%2C%20-117.60861100000001%5D%2C%20%5B39.717578%2C%20-83.77546600000001%5D%2C%20%5B38.83566%2C%20-77.00783%5D%2C%20%5B38.866678%2C%20-121.303339%5D%2C%20%5B34.011528000000006%2C%20-80.489366%5D%2C%20%5B35.872917%2C%20-78.67949499999999%5D%2C%20%5B41.949661%2C%20-83.610478%5D%2C%20%5B37.749340000000004%2C%20-121.9138%5D%2C%20%5B34.86123%2C%20-82.25353%5D%2C%20%5B34.275527000000004%2C%20-118.471034%5D%2C%20%5B32.997377%2C%20-96.839343%5D%2C%20%5B35.622545%2C%20-117.72198200000001%5D%2C%20%5B44.93974%2C%20-93.39723000000001%5D%2C%20%5B34.068675%2C%20-118.04221000000001%5D%2C%20%5B39.317307%2C%20-104.88361100000002%5D%2C%20%5B32.773053999999995%2C%20-117.128275%5D%2C%20%5B33.439668%2C%20-86.72578399999999%5D%2C%20%5B37.371851%2C%20-120.67819399999999%5D%2C%20%5B37.33928%2C%20-80.00220999999999%5D%2C%20%5B40.703509999999994%2C%20-73.96003%5D%2C%20%5B37.193647%2C%20-121.69771100000001%5D%2C%20%5B37.559983%2C%20-122.034524%5D%2C%20%5B29.966946999999998%2C%20-90.031986%5D%2C%20%5B38.53823%2C%20-121.51318%5D%2C%20%5B32.26115%2C%20-110.995%5D%2C%20%5B42.47215%2C%20-83.11028%5D%2C%20%5B34.0481%2C%20-117.307%5D%2C%20%5B25.769714999999998%2C%20-80.33499599999999%5D%2C%20%5B38.124417%2C%20-120.891778%5D%2C%20%5B42.27835%2C%20-88.1549%5D%2C%20%5B38.628679%2C%20-121.38414399999999%5D%2C%20%5B32.24861%2C%20-83.74391999999999%5D%2C%20%5B25.90278%2C%20-80.32299%5D%2C%20%5B45.6128%2C%20-122.67823%5D%2C%20%5B25.671682999999998%2C%20-80.39206800000001%5D%2C%20%5B47.712740000000004%2C%20-116.940481%5D%2C%20%5B34.066503999999995%2C%20-117.230364%5D%2C%20%5B41.93608%2C%20-121.45053300000001%5D%2C%20%5B34.014509999999994%2C%20-117.81936999999999%5D%2C%20%5B41.75912%2C%20-87.86734%5D%2C%20%5B34.128808%2C%20-118.346897%5D%2C%20%5B34.065095%2C%20-117.305821%5D%2C%20%5B33.754216%2C%20-117.85068999999999%5D%2C%20%5B25.846972%2C%20-80.21169300000001%5D%2C%20%5B38.573254999999996%2C%20-121.583142%5D%2C%20%5B34.2735%2C%20-118.58289599999999%5D%2C%20%5B33.840368%2C%20-117.87618700000002%5D%2C%20%5B33.932320000000004%2C%20-118.34844%5D%2C%20%5B25.973133999999998%2C%20-80.194698%5D%2C%20%5B25.882486%2C%20-80.25147199999999%5D%2C%20%5B33.668943%2C%20-112.075363%5D%2C%20%5B39.657135%2C%20-106.831868%5D%2C%20%5B44.7786%2C%20-124.07046000000001%5D%2C%20%5B42.412290000000006%2C%20-83.0708%5D%2C%20%5B33.896546%2C%20-118.13400800000001%5D%2C%20%5B36.169722%2C%20-121.05916699999999%5D%2C%20%5B46.520705%2C%20-105.682093%5D%2C%20%5B35.845432%2C%20-78.680284%5D%2C%20%5B26.533881%2C%20-80.073605%5D%2C%20%5B34.441158%2C%20-119.81556599999999%5D%2C%20%5B33.8543%2C%20-117.79489%5D%2C%20%5B39.76835%2C%20-104.79885%5D%2C%20%5B28.543426%2C%20-81.31066700000001%5D%2C%20%5B33.208464%2C%20-87.56929699999999%5D%2C%20%5B44.89091%2C%20-93.40003%5D%2C%20%5B40.153779%2C%20-79.715725%5D%2C%20%5B36.318249%2C%20-86.837903%5D%2C%20%5B40.065501%2C%20-75.143113%5D%2C%20%5B41.73905%2C%20-111.83476999999999%5D%2C%20%5B36.08891%2C%20-79.76621%5D%2C%20%5B42.31395%2C%20-122.9668%5D%2C%20%5B30.412806%2C%20-91.067255%5D%2C%20%5B45.07581%2C%20-93.33803%5D%2C%20%5B34.06369%2C%20-117.81538%5D%2C%20%5B25.930365%2C%20-80.129102%5D%2C%20%5B40.819216%2C%20-73.930757%5D%2C%20%5B41.62643%2C%20-87.67695%5D%2C%20%5B42.69955%2C%20-73.90051%5D%2C%20%5B44.93988%2C%20-95.72831%5D%2C%20%5B45.34525%2C%20-118.12343999999999%5D%2C%20%5B29.863773%2C%20-95.333787%5D%2C%20%5B34.350212%2C%20-117.60909099999999%5D%2C%20%5B40.860828000000005%2C%20-76.584885%5D%2C%20%5B44.385295%2C%20-93.443381%5D%2C%20%5B41.79418%2C%20-83.69181%5D%2C%20%5B42.17635%2C%20-120.46552%5D%2C%20%5B33.87536%2C%20-84.27544%5D%2C%20%5B28.659340000000004%2C%20-81.38843%5D%2C%20%5B25.848444%2C%20-80.165695%5D%2C%20%5B44.952963000000004%2C%20-93.08281%5D%2C%20%5B28.170801%2C%20-81.768654%5D%2C%20%5B29.6903%2C%20-95.37839%5D%2C%20%5B30.622612%2C%20-81.638811%5D%2C%20%5B45.522911%2C%20-123.890378%5D%2C%20%5B34.113358000000005%2C%20-117.523665%5D%2C%20%5B38.81913%2C%20-76.91499%5D%2C%20%5B34.997567%2C%20-85.247935%5D%2C%20%5B33.453036%2C%20-86.818438%5D%2C%20%5B34.12737%2C%20-118.27367%5D%2C%20%5B44.63288%2C%20-93.29841%5D%2C%20%5B38.880753999999996%2C%20-77.03041400000001%5D%2C%20%5B30.250259999999997%2C%20-81.53482%5D%2C%20%5B42.936394%2C%20-83.576875%5D%2C%20%5B40.897690000000004%2C%20-73.79689%5D%2C%20%5B35.748189%2C%20-78.648854%5D%2C%20%5B34.500384999999994%2C%20-118.626309%5D%2C%20%5B33.956154%2C%20-118.248209%5D%2C%20%5B41.497778000000004%2C%20-122.46429199999999%5D%2C%20%5B37.40915%2C%20-121.87858999999999%5D%2C%20%5B39.30263%2C%20-76.95321%5D%2C%20%5B38.878495%2C%20-121.121843%5D%2C%20%5B29.783720000000002%2C%20-95.46021%5D%2C%20%5B41.93555%2C%20-86.36657%5D%2C%20%5B37.8317%2C%20-122.00425800000001%5D%2C%20%5B45.250597%2C%20-93.02435200000001%5D%2C%20%5B33.967216%2C%20-118.083477%5D%2C%20%5B38.231509%2C%20-78.355449%5D%2C%20%5B29.393072999999998%2C%20-98.64831%5D%2C%20%5B43.42243%2C%20-72.03839%5D%2C%20%5B41.935190000000006%2C%20-71.46691%5D%2C%20%5B37.77004%2C%20-121.32816000000001%5D%2C%20%5B34.03647%2C%20-118.22058%5D%2C%20%5B34.513686%2C%20-82.665802%5D%2C%20%5B39.5535%2C%20-107.33317%5D%2C%20%5B37.45212%2C%20-122.126903%5D%2C%20%5B40.700939%2C%20-111.90271200000001%5D%2C%20%5B30.532221999999997%2C%20-87.221172%5D%2C%20%5B25.684034%2C%20-80.45904%5D%2C%20%5B27.099459999999997%2C%20-82.1975%5D%2C%20%5B33.902437%2C%20-118.25747700000001%5D%2C%20%5B36.154154999999996%2C%20-86.779413%5D%2C%20%5B45.50613%2C%20-122.75185%5D%2C%20%5B35.20279%2C%20-80.760499%5D%2C%20%5B43.878013%2C%20-92.488516%5D%2C%20%5B43.664849%2C%20-94.733079%5D%2C%20%5B45.823609999999995%2C%20-119.86896000000002%5D%2C%20%5B38.754088%2C%20-123.51545700000001%5D%2C%20%5B44.89147%2C%20-122.99371000000001%5D%2C%20%5B34.431153%2C%20-112.257279%5D%2C%20%5B43.43143%2C%20-73.71256%5D%2C%20%5B34.699787%2C%20-82.48174300000001%5D%2C%20%5B35.700390000000006%2C%20-78.58079000000001%5D%2C%20%5B32.829856%2C%20-86.626543%5D%2C%20%5B37.566281%2C%20-122.041265%5D%2C%20%5B37.576273%2C%20-77.434862%5D%2C%20%5B42.54925%2C%20-70.93661999999999%5D%2C%20%5B46.12017%2C%20-123.24687%5D%2C%20%5B30.501834000000002%2C%20-84.241372%5D%2C%20%5B35.188759999999995%2C%20-80.875562%5D%2C%20%5B37.73235%2C%20-122.4141%5D%2C%20%5B34.068028000000005%2C%20-117.60353%5D%2C%20%5B25.934344%2C%20-80.295831%5D%2C%20%5B30.249909999999996%2C%20-81.59139%5D%2C%20%5B28.553977000000003%2C%20-81.44755500000001%5D%2C%20%5B43.65718%2C%20-123.86119599999999%5D%2C%20%5B41.262189%2C%20-122.15718100000001%5D%2C%20%5B28.61099%2C%20-81.3867%5D%2C%20%5B39.900221%2C%20-104.988178%5D%2C%20%5B35.14924%2C%20-80.83304%5D%2C%20%5B27.88359%2C%20-82.715367%5D%2C%20%5B36.12599%2C%20-86.73187%5D%2C%20%5B33.922208000000005%2C%20-117.42877299999999%5D%2C%20%5B39.343663%2C%20-76.744864%5D%2C%20%5B30.271528000000004%2C%20-97.732411%5D%2C%20%5B38.281518%2C%20-121.306459%5D%2C%20%5B39.4262%2C%20-77.48167%5D%2C%20%5B30.409724%2C%20-86.825813%5D%2C%20%5B28.552859%2C%20-81.382325%5D%2C%20%5B34.322344%2C%20-80.53724100000001%5D%2C%20%5B32.94463%2C%20-96.92866%5D%2C%20%5B39.430439%2C%20-84.187079%5D%2C%20%5B40.88921%2C%20-73.8152%5D%2C%20%5B45.693290000000005%2C%20-120.38393799999999%5D%2C%20%5B37.891729999999995%2C%20-122.0622%5D%2C%20%5B40.442465000000006%2C%20-79.762855%5D%2C%20%5B38.436015000000005%2C%20-81.76922900000001%5D%2C%20%5B40.847408%2C%20-73.934063%5D%2C%20%5B39.942845%2C%20-83.437751%5D%2C%20%5B31.29914%2C%20-89.30856%5D%2C%20%5B41.87385%2C%20-87.80816999999999%5D%2C%20%5B38.613890000000005%2C%20-90.19691%5D%2C%20%5B28.0365%2C%20-82.50345%5D%2C%20%5B44.710794%2C%20-93.032248%5D%2C%20%5B47.232101%2C%20-122.43804399999999%5D%2C%20%5B38.395416%2C%20-122.693377%5D%2C%20%5B36.116025%2C%20-86.810574%5D%2C%20%5B33.45642%2C%20-111.97651%5D%2C%20%5B39.469968%2C%20-74.528314%5D%2C%20%5B37.686588%2C%20-121.05746699999999%5D%2C%20%5B44.31483%2C%20-93.30824%5D%2C%20%5B44.10931%2C%20-121.29516000000001%5D%2C%20%5B38.641265000000004%2C%20-121.47162900000001%5D%2C%20%5B33.46223%2C%20-112.0477%5D%2C%20%5B34.08742%2C%20-117.66071000000001%5D%2C%20%5B41.347175%2C%20-74.205291%5D%2C%20%5B35.427766%2C%20-118.96671599999999%5D%2C%20%5B34.06357%2C%20-117.81771%5D%2C%20%5B38.65104%2C%20-122.59935%5D%2C%20%5B33.421017%2C%20-111.89139499999999%5D%2C%20%5B33.925835%2C%20-118.21251399999998%5D%2C%20%5B33.474022%2C%20-112.26616499999999%5D%2C%20%5B41.22237%2C%20-111.97048000000001%5D%2C%20%5B30.435990000000004%2C%20-85.42738%5D%2C%20%5B38.847237%2C%20-77.427595%5D%2C%20%5B45.500807%2C%20-122.675146%5D%2C%20%5B34.146714%2C%20-117.23495700000001%5D%2C%20%5B25.927552%2C%20-80.421729%5D%2C%20%5B44.15575%2C%20-95.7439%5D%2C%20%5B41.87169%2C%20-87.75471999999999%5D%2C%20%5B39.993179999999995%2C%20-76.842465%5D%2C%20%5B32.687135%2C%20-96.82278000000001%5D%2C%20%5B27.966619%2C%20-82.453457%5D%2C%20%5B42.663990999999996%2C%20-73.5798%5D%2C%20%5B44.942246000000004%2C%20-93.27485%5D%2C%20%5B42.14553%2C%20-83.24205%5D%2C%20%5B40.670602%2C%20-73.95767099999999%5D%2C%20%5B40.504458%2C%20-111.89098%5D%2C%20%5B34.863892%2C%20-82.429858%5D%2C%20%5B29.99871%2C%20-90.17716999999999%5D%2C%20%5B34.239167%2C%20-119.180833%5D%2C%20%5B25.626078%2C%20-80.418627%5D%2C%20%5B37.930040000000005%2C%20-121.0002%5D%2C%20%5B41.285540000000005%2C%20-72.92711%5D%2C%20%5B34.184087%2C%20-118.399851%5D%2C%20%5B40.009106%2C%20-75.580905%5D%2C%20%5B43.38585%2C%20-123.33778000000001%5D%2C%20%5B35.224096%2C%20-80.63476%5D%2C%20%5B45.369118%2C%20-122.134847%5D%2C%20%5B34.027452000000004%2C%20-118.274482%5D%2C%20%5B36.313086%2C%20-86.830776%5D%2C%20%5B33.852509999999995%2C%20-117.25553000000001%5D%2C%20%5B29.523016%2C%20-95.386509%5D%2C%20%5B44.397648%2C%20-69.131056%5D%2C%20%5B28.544659999999997%2C%20-81.25492%5D%2C%20%5B42.375549%2C%20-76.870761%5D%2C%20%5B32.884209999999996%2C%20-96.69716%5D%2C%20%5B28.518496999999996%2C%20-81.459036%5D%2C%20%5B28.49891%2C%20-81.28534%5D%2C%20%5B29.72597%2C%20-95.46067%5D%2C%20%5B45.456831%2C%20-118.958155%5D%2C%20%5B37.40074%2C%20-122.03648000000001%5D%2C%20%5B40.556540000000005%2C%20-74.31945%5D%2C%20%5B44.85886%2C%20-93.32881%5D%2C%20%5B26.546540999999998%2C%20-81.843026%5D%2C%20%5B33.46225%2C%20-112.41721000000001%5D%2C%20%5B42.48523%2C%20-83.42631%5D%2C%20%5B41.833999999999996%2C%20-87.77325%5D%2C%20%5B35.277359999999994%2C%20-80.798592%5D%2C%20%5B34.142897%2C%20-117.488358%5D%2C%20%5B38.880214%2C%20-77.238095%5D%2C%20%5B35.83461%2C%20-78.32244%5D%2C%20%5B34.130691%2C%20-117.94573100000001%5D%2C%20%5B34.75773%2C%20-85.00200000000001%5D%2C%20%5B34.143692%2C%20-118.18756100000002%5D%2C%20%5B42.4084%2C%20-83.08065%5D%2C%20%5B40.4746%2C%20-74.40699000000001%5D%2C%20%5B34.160146999999995%2C%20-118.46973200000001%5D%2C%20%5B38.301202%2C%20-122.706023%5D%2C%20%5B33.917142999999996%2C%20-118.030575%5D%2C%20%5B26.4482%2C%20-81.81761%5D%2C%20%5B32.773322%2C%20-97.06235699999999%5D%2C%20%5B33.62927%2C%20-78.96259%5D%2C%20%5B45.28353%2C%20-122.66208%5D%2C%20%5B34.03416%2C%20-118.17921000000001%5D%2C%20%5B34.05825%2C%20-118.244422%5D%2C%20%5B37.718284999999995%2C%20-77.44836600000001%5D%2C%20%5B41.87559%2C%20-87.66181999999999%5D%2C%20%5B28.0322%2C%20-82.7381%5D%2C%20%5B36.688084%2C%20-119.786097%5D%2C%20%5B35.194990000000004%2C%20-80.83686999999999%5D%2C%20%5B40.827771000000006%2C%20-73.494116%5D%2C%20%5B38.994599%2C%20-77.15775%5D%2C%20%5B32.675309999999996%2C%20-97.24048%5D%2C%20%5B40.09296%2C%20-82.86603000000001%5D%2C%20%5B36.753122%2C%20-119.69490900000001%5D%2C%20%5B35.0138%2C%20-85.53785%5D%2C%20%5B34.032552%2C%20-118.219946%5D%2C%20%5B34.007690000000004%2C%20-118.28098999999999%5D%2C%20%5B46.175340000000006%2C%20-123.86931000000001%5D%2C%20%5B25.883482%2C%20-80.215161%5D%2C%20%5B43.542691999999995%2C%20-112.06984399999999%5D%2C%20%5B30.301842999999998%2C%20-97.715325%5D%2C%20%5B41.030229999999996%2C%20-73.74158%5D%2C%20%5B45.150192%2C%20-122.793027%5D%2C%20%5B43.019596%2C%20-83.603999%5D%2C%20%5B33.040338%2C%20-117.28405900000001%5D%2C%20%5B32.133947%2C%20-110.968425%5D%2C%20%5B32.75992%2C%20-97.13479%5D%2C%20%5B34.50568%2C%20-80.99728%5D%2C%20%5B44.86107%2C%20-93.16702%5D%2C%20%5B25.87526%2C%20-80.209063%5D%2C%20%5B25.774043%2C%20-80.320647%5D%2C%20%5B41.00124%2C%20-121.44656%5D%2C%20%5B33.98808%2C%20-117.90122%5D%2C%20%5B40.214220000000005%2C%20-75.542496%5D%2C%20%5B38.751999999999995%2C%20-89.90657%5D%2C%20%5B45.320932%2C%20-123.075103%5D%2C%20%5B26.585508%2C%20-81.79539%5D%2C%20%5B40.389359000000006%2C%20-122.280819%5D%2C%20%5B37.642905%2C%20-121.887258%5D%2C%20%5B32.163109999999996%2C%20-110.9175%5D%2C%20%5B39.072511%2C%20-94.488467%5D%2C%20%5B36.177963%2C%20-79.509169%5D%2C%20%5B34.74067%2C%20-81.03492%5D%2C%20%5B40.864959999999996%2C%20-74.42179%5D%2C%20%5B37.866056%2C%20-121.21910700000001%5D%2C%20%5B25.775641%2C%20-80.353592%5D%2C%20%5B38.228187%2C%20-122.11911599999999%5D%2C%20%5B40.942269%2C%20-124.10092900000001%5D%2C%20%5B46.498428999999994%2C%20-95.331029%5D%2C%20%5B47.488772%2C%20-122.26492900000001%5D%2C%20%5B40.027205%2C%20-76.327187%5D%2C%20%5B25.890179%2C%20-80.188488%5D%2C%20%5B39.23122%2C%20-80.29668000000001%5D%2C%20%5B32.71119%2C%20-96.68019%5D%2C%20%5B33.806273%2C%20-118.146301%5D%2C%20%5B38.138009999999994%2C%20-85.68647%5D%2C%20%5B35.75343%2C%20-80.34841999999999%5D%2C%20%5B32.75298%2C%20-97.06302%5D%2C%20%5B33.555023999999996%2C%20-117.67276799999999%5D%2C%20%5B38.81942%2C%20-77.13056999999999%5D%2C%20%5B38.428404%2C%20-121.39766000000002%5D%2C%20%5B29.722313%2C%20-95.377255%5D%2C%20%5B34.968145%2C%20-85.191365%5D%2C%20%5B42.927609999999994%2C%20-85.70575%5D%2C%20%5B46.753177%2C%20-92.103546%5D%2C%20%5B32.28696%2C%20-110.941783%5D%2C%20%5B33.928022999999996%2C%20-118.23704099999999%5D%2C%20%5B38.87934%2C%20-75.81808000000001%5D%2C%20%5B28.060229%2C%20-82.76101700000001%5D%2C%20%5B34.557978000000006%2C%20-118.132558%5D%2C%20%5B37.499309999999994%2C%20-122.12823999999999%5D%2C%20%5B45.32708%2C%20-92.9947%5D%2C%20%5B32.924963%2C%20-96.764155%5D%2C%20%5B41.384691%2C%20-73.06828%5D%2C%20%5B32.7674%2C%20-97.31135%5D%2C%20%5B26.68865%2C%20-80.066825%5D%2C%20%5B36.972111%2C%20-120.073494%5D%2C%20%5B33.892725%2C%20-118.283033%5D%2C%20%5B29.421847999999997%2C%20-98.480726%5D%2C%20%5B28.488834000000004%2C%20-81.429064%5D%2C%20%5B29.5972%2C%20-98.59949399999999%5D%2C%20%5B38.494044%2C%20-121.443954%5D%2C%20%5B37.319559999999996%2C%20-77.394215%5D%2C%20%5B40.608540000000005%2C%20-122.36186000000001%5D%2C%20%5B28.339794%2C%20-81.387989%5D%2C%20%5B25.932015%2C%20-80.212651%5D%2C%20%5B33.713062%2C%20-116.161626%5D%2C%20%5B34.153197%2C%20-118.367554%5D%2C%20%5B38.570570000000004%2C%20-121.51483%5D%2C%20%5B45.538855%2C%20-118.45816200000002%5D%2C%20%5B34.077659000000004%2C%20-117.998176%5D%2C%20%5B33.98298%2C%20-118.39456000000001%5D%2C%20%5B42.391888%2C%20-71.038623%5D%2C%20%5B38.760624%2C%20-90.540104%5D%2C%20%5B43.89148%2C%20-93.81635%5D%2C%20%5B27.954442999999998%2C%20-82.50639%5D%2C%20%5B44.861990000000006%2C%20-93.14485%5D%2C%20%5B40.80693%2C%20-73.9245%5D%2C%20%5B33.901949%2C%20-118.27783600000001%5D%2C%20%5B37.73235%2C%20-122.4141%5D%2C%20%5B38.561869%2C%20-121.487108%5D%2C%20%5B36.832240999999996%2C%20-76.294416%5D%2C%20%5B33.87375%2C%20-118.2216%5D%2C%20%5B26.70637%2C%20-80.08228000000001%5D%2C%20%5B33.864472%2C%20-118.32652399999999%5D%2C%20%5B32.751996999999996%2C%20-97.3199%5D%2C%20%5B45.53565%2C%20-122.68576000000002%5D%2C%20%5B45.728541%2C%20-120.655847%5D%2C%20%5B34.130834%2C%20-117.30533%5D%2C%20%5B33.734140000000004%2C%20-84.23092%5D%2C%20%5B32.499969%2C%20-93.735985%5D%2C%20%5B37.74364%2C%20-122.19918999999999%5D%2C%20%5B36.940784%2C%20-121.768257%5D%2C%20%5B42.40477%2C%20-83.14644%5D%2C%20%5B41.872479999999996%2C%20-87.64574%5D%2C%20%5B39.3654%2C%20-76.74768%5D%2C%20%5B29.766937%2C%20-95.346063%5D%2C%20%5B33.827789%2C%20-117.363102%5D%2C%20%5B41.633309999999994%2C%20-87.57836%5D%2C%20%5B25.600407999999998%2C%20-80.41659200000001%5D%2C%20%5B35.287622999999996%2C%20-80.760202%5D%2C%20%5B42.10865%2C%20-70.76708%5D%2C%20%5B36.247198%2C%20-86.641376%5D%2C%20%5B33.72723%2C%20-117.83476999999999%5D%2C%20%5B40.022611%2C%20-75.036417%5D%2C%20%5B25.887494%2C%20-80.166154%5D%2C%20%5B43.070648999999996%2C%20-88.517616%5D%2C%20%5B38.43707%2C%20-87.09184%5D%2C%20%5B36.05888%2C%20-79.67536%5D%2C%20%5B35.26017%2C%20-80.77638%5D%2C%20%5B41.87506%2C%20-87.673425%5D%2C%20%5B39.050270000000005%2C%20-94.471231%5D%2C%20%5B40.441779%2C%20-79.826837%5D%2C%20%5B29.756859000000002%2C%20-81.28645999999999%5D%2C%20%5B45.344253%2C%20-122.63048799999999%5D%2C%20%5B29.941129999999998%2C%20-95.41264%5D%2C%20%5B33.760659999999994%2C%20-84.4845%5D%2C%20%5B32.753816%2C%20-117.20001299999998%5D%2C%20%5B38.858523999999996%2C%20-123.038409%5D%2C%20%5B35.213341%2C%20-80.833933%5D%2C%20%5B34.047627%2C%20-117.30764599999999%5D%2C%20%5B33.346986%2C%20-117.1588%5D%2C%20%5B34.064463%2C%20-117.260731%5D%2C%20%5B37.57285%2C%20-122.31631000000002%5D%2C%20%5B33.77688%2C%20-117.83118%5D%2C%20%5B34.048171%2C%20-117.550129%5D%2C%20%5B40.777806%2C%20-74.057539%5D%2C%20%5B27.325208%2C%20-82.44751600000001%5D%2C%20%5B33.79273%2C%20-118.10248%5D%2C%20%5B40.84373%2C%20-73.89568%5D%2C%20%5B25.760875%2C%20-80.419195%5D%2C%20%5B33.986345%2C%20-117.346376%5D%2C%20%5B47.99035%2C%20-122.18257%5D%2C%20%5B40.02057%2C%20-82.99504%5D%2C%20%5B42.21893%2C%20-120.09828999999999%5D%2C%20%5B39.93909%2C%20-82.84814%5D%2C%20%5B37.76424%2C%20-122.21704%5D%2C%20%5B40.91537%2C%20-74.13327%5D%2C%20%5B39.00508%2C%20-94.694348%5D%2C%20%5B44.778458%2C%20-93.217084%5D%2C%20%5B32.775087%2C%20-96.810379%5D%2C%20%5B42.25427%2C%20-88.00086999999999%5D%2C%20%5B30.136777000000002%2C%20-81.775953%5D%2C%20%5B35.796732%2C%20-78.505748%5D%2C%20%5B26.188277%2C%20-80.169503%5D%2C%20%5B44.873782%2C%20-93.163087%5D%2C%20%5B42.750483%2C%20-95.551261%5D%2C%20%5B29.755640000000003%2C%20-95.55819%5D%2C%20%5B27.388581%2C%20-82.456313%5D%2C%20%5B33.97085%2C%20-118.0813%5D%2C%20%5B34.02499%2C%20-118.20476000000001%5D%2C%20%5B33.88467%2C%20-118.35241%5D%5D%2C%0A%20%20%20%20%20%20%20%20%20%20%20%20%20%20%20%20%7B%0A%20%20%20%20%20%20%20%20%20%20%20%20%20%20%20%20%20%20%20%20minOpacity%3A%200.5%2C%0A%20%20%20%20%20%20%20%20%20%20%20%20%20%20%20%20%20%20%20%20maxZoom%3A%2018%2C%0A%20%20%20%20%20%20%20%20%20%20%20%20%20%20%20%20%20%20%20%20max%3A%201.0%2C%0A%20%20%20%20%20%20%20%20%20%20%20%20%20%20%20%20%20%20%20%20radius%3A%2025%2C%0A%20%20%20%20%20%20%20%20%20%20%20%20%20%20%20%20%20%20%20%20blur%3A%2015%2C%0A%20%20%20%20%20%20%20%20%20%20%20%20%20%20%20%20%20%20%20%20gradient%3A%20null%0A%20%20%20%20%20%20%20%20%20%20%20%20%20%20%20%20%20%20%20%20%7D%29%0A%20%20%20%20%20%20%20%20%20%20%20%20%20%20%20%20.addTo%28map_c43ebe538ec740669f0da0affd5a20d8%29%3B%0A%20%20%20%20%20%20%20%20%0A%3C/script%3E onload=\"this.contentDocument.open();this.contentDocument.write(    decodeURIComponent(this.getAttribute('data-html')));this.contentDocument.close();\" allowfullscreen webkitallowfullscreen mozallowfullscreen></iframe></div></div>"
            ],
            "text/plain": [
              "<folium.folium.Map at 0x7f6d5747ad10>"
            ]
          },
          "metadata": {},
          "execution_count": 24
        }
      ]
    },
    {
      "cell_type": "code",
      "metadata": {
        "colab": {
          "base_uri": "https://localhost:8080/",
          "height": 467
        },
        "id": "P4HCBmQ7LU_X",
        "outputId": "86e19a44-862b-4745-e91b-71f12a0933d8"
      },
      "source": [
        "fig = px.choropleth(scope = \"usa\", color = accidents_per_state.values, locations = accidents_per_state.index,\n",
        "                    locationmode = 'USA-states', color_continuous_scale = \"BuGn\",\n",
        "                    labels = {'color': 'Number of Accidents', 'locations': 'State'}, title = \"Total Number of Accidents from February 2016 to December 2020\")\n",
        "\n",
        "fig.show(\"png\")"
      ],
      "execution_count": 25,
      "outputs": [
        {
          "output_type": "display_data",
          "data": {
            "image/png": "[encoded data removed]"
          },
          "metadata": {}
        }
      ]
    },
    {
      "cell_type": "code",
      "metadata": {
        "colab": {
          "base_uri": "https://localhost:8080/",
          "height": 467
        },
        "id": "lsadRxZ_TyRS",
        "outputId": "f114cc3f-b93c-4973-f563-328703be16ef"
      },
      "source": [
        "fig = px.bar(x = accidents_per_state.index, y = accidents_per_state.values, labels = {\"x\": \"State\", \"y\": \"Number of Accidents\"}, \n",
        "             title = \"Total Number of Accidents from February 2016 to December 2020\", color = accidents_per_state.index)\n",
        "fig.update_layout(xaxis={'categoryorder':'category ascending'})\n",
        "fig.show(\"png\")"
      ],
      "execution_count": 26,
      "outputs": [
        {
          "output_type": "display_data",
          "data": {
            "image/png": "[encoded data removed]"
          },
          "metadata": {}
        }
      ]
    },
    {
      "cell_type": "markdown",
      "metadata": {
        "id": "R4Lcxz4fznN_"
      },
      "source": [
        "***"
      ]
    },
    {
      "cell_type": "markdown",
      "metadata": {
        "id": "5zX1E7TX068n"
      },
      "source": [
        "### Let's now look at seasonal trends.\n",
        "\n",
        "Since the data starts at February 2016 (not January 2016), we need to remove the 2016 and just start fresh on January 2017 through December 2020. That way we have the same number of occurrences of months."
      ]
    },
    {
      "cell_type": "code",
      "metadata": {
        "id": "2Rcfo12Uz9cA"
      },
      "source": [
        "df_without_2016 = df[df['Start_Time'].dt.year != 2016]\n",
        "df_without_2016['Month'] = df['Start_Time'].dt.month"
      ],
      "execution_count": 27,
      "outputs": []
    },
    {
      "cell_type": "code",
      "metadata": {
        "colab": {
          "base_uri": "https://localhost:8080/",
          "height": 421
        },
        "id": "4aNWNQx98KYS",
        "outputId": "d71bb72d-4834-4c28-c298-5eb4be4268ad"
      },
      "source": [
        "grouped_by_month_without_2016 = df_without_2016[['ID', 'Month']].groupby('Month').count().reset_index()\n",
        "grouped_by_month_without_2016.rename(columns = {'ID':'Number of Accidents'}, inplace = True)\n",
        "\n",
        "import calendar\n",
        "grouped_by_month_without_2016['Month'] = grouped_by_month_without_2016['Month'].apply(lambda x: calendar.month_abbr[x])\n",
        "\n",
        "grouped_by_month_without_2016"
      ],
      "execution_count": 28,
      "outputs": [
        {
          "output_type": "execute_result",
          "data": {
            "text/html": [
              "<div>\n",
              "<style scoped>\n",
              "    .dataframe tbody tr th:only-of-type {\n",
              "        vertical-align: middle;\n",
              "    }\n",
              "\n",
              "    .dataframe tbody tr th {\n",
              "        vertical-align: top;\n",
              "    }\n",
              "\n",
              "    .dataframe thead th {\n",
              "        text-align: right;\n",
              "    }\n",
              "</style>\n",
              "<table border=\"1\" class=\"dataframe\">\n",
              "  <thead>\n",
              "    <tr style=\"text-align: right;\">\n",
              "      <th></th>\n",
              "      <th>Month</th>\n",
              "      <th>Number of Accidents</th>\n",
              "    </tr>\n",
              "  </thead>\n",
              "  <tbody>\n",
              "    <tr>\n",
              "      <th>0</th>\n",
              "      <td>Jan</td>\n",
              "      <td>88540</td>\n",
              "    </tr>\n",
              "    <tr>\n",
              "      <th>1</th>\n",
              "      <td>Feb</td>\n",
              "      <td>81859</td>\n",
              "    </tr>\n",
              "    <tr>\n",
              "      <th>2</th>\n",
              "      <td>Mar</td>\n",
              "      <td>94344</td>\n",
              "    </tr>\n",
              "    <tr>\n",
              "      <th>3</th>\n",
              "      <td>Apr</td>\n",
              "      <td>100978</td>\n",
              "    </tr>\n",
              "    <tr>\n",
              "      <th>4</th>\n",
              "      <td>May</td>\n",
              "      <td>100820</td>\n",
              "    </tr>\n",
              "    <tr>\n",
              "      <th>5</th>\n",
              "      <td>Jun</td>\n",
              "      <td>102953</td>\n",
              "    </tr>\n",
              "    <tr>\n",
              "      <th>6</th>\n",
              "      <td>Jul</td>\n",
              "      <td>38652</td>\n",
              "    </tr>\n",
              "    <tr>\n",
              "      <th>7</th>\n",
              "      <td>Aug</td>\n",
              "      <td>45019</td>\n",
              "    </tr>\n",
              "    <tr>\n",
              "      <th>8</th>\n",
              "      <td>Sep</td>\n",
              "      <td>107807</td>\n",
              "    </tr>\n",
              "    <tr>\n",
              "      <th>9</th>\n",
              "      <td>Oct</td>\n",
              "      <td>163631</td>\n",
              "    </tr>\n",
              "    <tr>\n",
              "      <th>10</th>\n",
              "      <td>Nov</td>\n",
              "      <td>203560</td>\n",
              "    </tr>\n",
              "    <tr>\n",
              "      <th>11</th>\n",
              "      <td>Dec</td>\n",
              "      <td>258576</td>\n",
              "    </tr>\n",
              "  </tbody>\n",
              "</table>\n",
              "</div>"
            ],
            "text/plain": [
              "   Month  Number of Accidents\n",
              "0    Jan                88540\n",
              "1    Feb                81859\n",
              "2    Mar                94344\n",
              "3    Apr               100978\n",
              "4    May               100820\n",
              "5    Jun               102953\n",
              "6    Jul                38652\n",
              "7    Aug                45019\n",
              "8    Sep               107807\n",
              "9    Oct               163631\n",
              "10   Nov               203560\n",
              "11   Dec               258576"
            ]
          },
          "metadata": {},
          "execution_count": 28
        }
      ]
    },
    {
      "cell_type": "code",
      "metadata": {
        "colab": {
          "base_uri": "https://localhost:8080/",
          "height": 467
        },
        "id": "E-VDmkfn-eDh",
        "outputId": "c7e775f1-7dd5-4f53-c64d-945fcd0332b1"
      },
      "source": [
        "fig = px.bar(grouped_by_month_without_2016, x = 'Month', y = 'Number of Accidents', color = 'Month', title = 'Number of Accidents per Month from January 2017 to December 2020')\n",
        "fig.show(\"png\")"
      ],
      "execution_count": 29,
      "outputs": [
        {
          "output_type": "display_data",
          "data": {
            "image/png": "[encoded data removed]"
          },
          "metadata": {}
        }
      ]
    },
    {
      "cell_type": "markdown",
      "metadata": {
        "id": "VhxuoCwILaV0"
      },
      "source": [
        "The number of accidents appears to increase towards the holidays."
      ]
    },
    {
      "cell_type": "markdown",
      "metadata": {
        "id": "wrFTjojWOmca"
      },
      "source": [
        "### Let's look at accidents per capita for each state."
      ]
    },
    {
      "cell_type": "markdown",
      "metadata": {
        "id": "VOdT9e4BPtQC"
      },
      "source": [
        "There is no information concerning the numbers of drivers in this dataset so we will get another dataset and perform a join."
      ]
    },
    {
      "cell_type": "code",
      "metadata": {
        "colab": {
          "base_uri": "https://localhost:8080/"
        },
        "id": "V1exnGWIIKZy",
        "outputId": "b74ef33e-f8d5-4ca0-eaeb-343155edc6b5"
      },
      "source": [
        "# this gives the population of all the states in the US plus the District of Columbia\n",
        "# this information is just for 2019\n",
        "\n",
        "download_url2 = 'https://www.kaggle.com/peretzcohen/2019-census-us-population-data-by-state'\n",
        "\n",
        "od.download(download_url2)"
      ],
      "execution_count": 30,
      "outputs": [
        {
          "output_type": "stream",
          "name": "stdout",
          "text": [
            "Please provide your Kaggle credentials to download this dataset. Learn more: http://bit.ly/kaggle-creds\n",
            "Your Kaggle username: swagster9000\n",
            "Your Kaggle Key: ··········\n",
            "Downloading 2019-census-us-population-data-by-state.zip to ./2019-census-us-population-data-by-state\n"
          ]
        },
        {
          "output_type": "stream",
          "name": "stderr",
          "text": [
            "100%|██████████| 1.43k/1.43k [00:00<00:00, 900kB/s]"
          ]
        },
        {
          "output_type": "stream",
          "name": "stdout",
          "text": [
            "\n"
          ]
        },
        {
          "output_type": "stream",
          "name": "stderr",
          "text": [
            "\n"
          ]
        }
      ]
    },
    {
      "cell_type": "code",
      "metadata": {
        "id": "bbahUrRHOxBZ"
      },
      "source": [
        "data_filename2 = './2019-census-us-population-data-by-state/2019_Census_US_Population_Data_By_State_Lat_Long.csv'"
      ],
      "execution_count": 31,
      "outputs": []
    },
    {
      "cell_type": "code",
      "metadata": {
        "colab": {
          "base_uri": "https://localhost:8080/",
          "height": 204
        },
        "id": "VCPvslcMYpiu",
        "outputId": "a4b065b7-6390-4e3f-ea00-be92436e8b59"
      },
      "source": [
        "df2 = pd.read_csv(data_filename2)\n",
        "df2.head()"
      ],
      "execution_count": 32,
      "outputs": [
        {
          "output_type": "execute_result",
          "data": {
            "text/html": [
              "<div>\n",
              "<style scoped>\n",
              "    .dataframe tbody tr th:only-of-type {\n",
              "        vertical-align: middle;\n",
              "    }\n",
              "\n",
              "    .dataframe tbody tr th {\n",
              "        vertical-align: top;\n",
              "    }\n",
              "\n",
              "    .dataframe thead th {\n",
              "        text-align: right;\n",
              "    }\n",
              "</style>\n",
              "<table border=\"1\" class=\"dataframe\">\n",
              "  <thead>\n",
              "    <tr style=\"text-align: right;\">\n",
              "      <th></th>\n",
              "      <th>STATE</th>\n",
              "      <th>POPESTIMATE2019</th>\n",
              "      <th>lat</th>\n",
              "      <th>long</th>\n",
              "    </tr>\n",
              "  </thead>\n",
              "  <tbody>\n",
              "    <tr>\n",
              "      <th>0</th>\n",
              "      <td>Alabama</td>\n",
              "      <td>4903185</td>\n",
              "      <td>32.377716</td>\n",
              "      <td>-86.300568</td>\n",
              "    </tr>\n",
              "    <tr>\n",
              "      <th>1</th>\n",
              "      <td>Alaska</td>\n",
              "      <td>731545</td>\n",
              "      <td>58.301598</td>\n",
              "      <td>-134.420212</td>\n",
              "    </tr>\n",
              "    <tr>\n",
              "      <th>2</th>\n",
              "      <td>Arizona</td>\n",
              "      <td>7278717</td>\n",
              "      <td>33.448143</td>\n",
              "      <td>-112.096962</td>\n",
              "    </tr>\n",
              "    <tr>\n",
              "      <th>3</th>\n",
              "      <td>Arkansas</td>\n",
              "      <td>3017804</td>\n",
              "      <td>34.746613</td>\n",
              "      <td>-92.288986</td>\n",
              "    </tr>\n",
              "    <tr>\n",
              "      <th>4</th>\n",
              "      <td>California</td>\n",
              "      <td>39512223</td>\n",
              "      <td>38.576668</td>\n",
              "      <td>-121.493629</td>\n",
              "    </tr>\n",
              "  </tbody>\n",
              "</table>\n",
              "</div>"
            ],
            "text/plain": [
              "        STATE  POPESTIMATE2019        lat        long\n",
              "0     Alabama          4903185  32.377716  -86.300568\n",
              "1      Alaska           731545  58.301598 -134.420212\n",
              "2     Arizona          7278717  33.448143 -112.096962\n",
              "3    Arkansas          3017804  34.746613  -92.288986\n",
              "4  California         39512223  38.576668 -121.493629"
            ]
          },
          "metadata": {},
          "execution_count": 32
        }
      ]
    },
    {
      "cell_type": "markdown",
      "metadata": {
        "id": "n_KsJdXLZHGh"
      },
      "source": [
        "We don't need the latitude and longitude of the capital."
      ]
    },
    {
      "cell_type": "code",
      "metadata": {
        "colab": {
          "base_uri": "https://localhost:8080/",
          "height": 204
        },
        "id": "48-T1WcQYszF",
        "outputId": "a7549916-f700-4554-ffcb-9dc5f7b7258a"
      },
      "source": [
        "df2.drop(columns = ['lat', 'long'], inplace = True)\n",
        "df2.head()"
      ],
      "execution_count": 33,
      "outputs": [
        {
          "output_type": "execute_result",
          "data": {
            "text/html": [
              "<div>\n",
              "<style scoped>\n",
              "    .dataframe tbody tr th:only-of-type {\n",
              "        vertical-align: middle;\n",
              "    }\n",
              "\n",
              "    .dataframe tbody tr th {\n",
              "        vertical-align: top;\n",
              "    }\n",
              "\n",
              "    .dataframe thead th {\n",
              "        text-align: right;\n",
              "    }\n",
              "</style>\n",
              "<table border=\"1\" class=\"dataframe\">\n",
              "  <thead>\n",
              "    <tr style=\"text-align: right;\">\n",
              "      <th></th>\n",
              "      <th>STATE</th>\n",
              "      <th>POPESTIMATE2019</th>\n",
              "    </tr>\n",
              "  </thead>\n",
              "  <tbody>\n",
              "    <tr>\n",
              "      <th>0</th>\n",
              "      <td>Alabama</td>\n",
              "      <td>4903185</td>\n",
              "    </tr>\n",
              "    <tr>\n",
              "      <th>1</th>\n",
              "      <td>Alaska</td>\n",
              "      <td>731545</td>\n",
              "    </tr>\n",
              "    <tr>\n",
              "      <th>2</th>\n",
              "      <td>Arizona</td>\n",
              "      <td>7278717</td>\n",
              "    </tr>\n",
              "    <tr>\n",
              "      <th>3</th>\n",
              "      <td>Arkansas</td>\n",
              "      <td>3017804</td>\n",
              "    </tr>\n",
              "    <tr>\n",
              "      <th>4</th>\n",
              "      <td>California</td>\n",
              "      <td>39512223</td>\n",
              "    </tr>\n",
              "  </tbody>\n",
              "</table>\n",
              "</div>"
            ],
            "text/plain": [
              "        STATE  POPESTIMATE2019\n",
              "0     Alabama          4903185\n",
              "1      Alaska           731545\n",
              "2     Arizona          7278717\n",
              "3    Arkansas          3017804\n",
              "4  California         39512223"
            ]
          },
          "metadata": {},
          "execution_count": 33
        }
      ]
    },
    {
      "cell_type": "code",
      "metadata": {
        "id": "-jqjCbk5ae7F"
      },
      "source": [
        "# mapping the US states to their respective abbreviations\n",
        "\n",
        "us_state_to_abbrev = {\n",
        "    \"Alabama\": \"AL\",\n",
        "    \"Alaska\": \"AK\",\n",
        "    \"Arizona\": \"AZ\",\n",
        "    \"Arkansas\": \"AR\",\n",
        "    \"California\": \"CA\",\n",
        "    \"Colorado\": \"CO\",\n",
        "    \"Connecticut\": \"CT\",\n",
        "    \"Delaware\": \"DE\",\n",
        "    \"Florida\": \"FL\",\n",
        "    \"Georgia\": \"GA\",\n",
        "    \"Hawaii\": \"HI\",\n",
        "    \"Idaho\": \"ID\",\n",
        "    \"Illinois\": \"IL\",\n",
        "    \"Indiana\": \"IN\",\n",
        "    \"Iowa\": \"IA\",\n",
        "    \"Kansas\": \"KS\",\n",
        "    \"Kentucky\": \"KY\",\n",
        "    \"Louisiana\": \"LA\",\n",
        "    \"Maine\": \"ME\",\n",
        "    \"Maryland\": \"MD\",\n",
        "    \"Massachusetts\": \"MA\",\n",
        "    \"Michigan\": \"MI\",\n",
        "    \"Minnesota\": \"MN\",\n",
        "    \"Mississippi\": \"MS\",\n",
        "    \"Missouri\": \"MO\",\n",
        "    \"Montana\": \"MT\",\n",
        "    \"Nebraska\": \"NE\",\n",
        "    \"Nevada\": \"NV\",\n",
        "    \"New Hampshire\": \"NH\",\n",
        "    \"New Jersey\": \"NJ\",\n",
        "    \"New Mexico\": \"NM\",\n",
        "    \"New York\": \"NY\",\n",
        "    \"North Carolina\": \"NC\",\n",
        "    \"North Dakota\": \"ND\",\n",
        "    \"Ohio\": \"OH\",\n",
        "    \"Oklahoma\": \"OK\",\n",
        "    \"Oregon\": \"OR\",\n",
        "    \"Pennsylvania\": \"PA\",\n",
        "    \"Rhode Island\": \"RI\",\n",
        "    \"South Carolina\": \"SC\",\n",
        "    \"South Dakota\": \"SD\",\n",
        "    \"Tennessee\": \"TN\",\n",
        "    \"Texas\": \"TX\",\n",
        "    \"Utah\": \"UT\",\n",
        "    \"Vermont\": \"VT\",\n",
        "    \"Virginia\": \"VA\",\n",
        "    \"Washington\": \"WA\",\n",
        "    \"West Virginia\": \"WV\",\n",
        "    \"Wisconsin\": \"WI\",\n",
        "    \"Wyoming\": \"WY\",\n",
        "    \"District of Columbia\": \"DC\",\n",
        "    \"American Samoa\": \"AS\",\n",
        "    \"Guam\": \"GU\",\n",
        "    \"Northern Mariana Islands\": \"MP\",\n",
        "    \"Puerto Rico\": \"PR\",\n",
        "    \"United States Minor Outlying Islands\": \"UM\",\n",
        "    \"U.S. Virgin Islands\": \"VI\",\n",
        "}\n",
        "\n",
        "df2['STATE_CODE'] = df2['STATE'].map(us_state_to_abbrev).fillna(df2['STATE'])\n",
        "df2.drop(columns = ['STATE'], inplace = True)\n",
        "\n",
        "df2 = df2[['STATE_CODE', 'POPESTIMATE2019']] # just rearranging the order of the columns"
      ],
      "execution_count": 34,
      "outputs": []
    },
    {
      "cell_type": "code",
      "metadata": {
        "colab": {
          "base_uri": "https://localhost:8080/",
          "height": 204
        },
        "id": "EPsOuj73ax-c",
        "outputId": "0285903b-7335-4b8b-8ca4-6f18bdf5492d"
      },
      "source": [
        "df2.head()"
      ],
      "execution_count": 35,
      "outputs": [
        {
          "output_type": "execute_result",
          "data": {
            "text/html": [
              "<div>\n",
              "<style scoped>\n",
              "    .dataframe tbody tr th:only-of-type {\n",
              "        vertical-align: middle;\n",
              "    }\n",
              "\n",
              "    .dataframe tbody tr th {\n",
              "        vertical-align: top;\n",
              "    }\n",
              "\n",
              "    .dataframe thead th {\n",
              "        text-align: right;\n",
              "    }\n",
              "</style>\n",
              "<table border=\"1\" class=\"dataframe\">\n",
              "  <thead>\n",
              "    <tr style=\"text-align: right;\">\n",
              "      <th></th>\n",
              "      <th>STATE_CODE</th>\n",
              "      <th>POPESTIMATE2019</th>\n",
              "    </tr>\n",
              "  </thead>\n",
              "  <tbody>\n",
              "    <tr>\n",
              "      <th>0</th>\n",
              "      <td>AL</td>\n",
              "      <td>4903185</td>\n",
              "    </tr>\n",
              "    <tr>\n",
              "      <th>1</th>\n",
              "      <td>AK</td>\n",
              "      <td>731545</td>\n",
              "    </tr>\n",
              "    <tr>\n",
              "      <th>2</th>\n",
              "      <td>AZ</td>\n",
              "      <td>7278717</td>\n",
              "    </tr>\n",
              "    <tr>\n",
              "      <th>3</th>\n",
              "      <td>AR</td>\n",
              "      <td>3017804</td>\n",
              "    </tr>\n",
              "    <tr>\n",
              "      <th>4</th>\n",
              "      <td>CA</td>\n",
              "      <td>39512223</td>\n",
              "    </tr>\n",
              "  </tbody>\n",
              "</table>\n",
              "</div>"
            ],
            "text/plain": [
              "  STATE_CODE  POPESTIMATE2019\n",
              "0         AL          4903185\n",
              "1         AK           731545\n",
              "2         AZ          7278717\n",
              "3         AR          3017804\n",
              "4         CA         39512223"
            ]
          },
          "metadata": {},
          "execution_count": 35
        }
      ]
    },
    {
      "cell_type": "code",
      "metadata": {
        "colab": {
          "base_uri": "https://localhost:8080/",
          "height": 428
        },
        "id": "U0pFT1KBt69r",
        "outputId": "2aa87c71-5a35-48bc-b6a8-4c92cd0181be"
      },
      "source": [
        "merged_df = pd.merge(left = df, right = df2, how = \"left\", left_on = ['State'], right_on = ['STATE_CODE'])\n",
        "merged_df.drop(columns = ['STATE_CODE'], inplace = True)\n",
        "\n",
        "merged_df.head()"
      ],
      "execution_count": 36,
      "outputs": [
        {
          "output_type": "execute_result",
          "data": {
            "text/html": [
              "<div>\n",
              "<style scoped>\n",
              "    .dataframe tbody tr th:only-of-type {\n",
              "        vertical-align: middle;\n",
              "    }\n",
              "\n",
              "    .dataframe tbody tr th {\n",
              "        vertical-align: top;\n",
              "    }\n",
              "\n",
              "    .dataframe thead th {\n",
              "        text-align: right;\n",
              "    }\n",
              "</style>\n",
              "<table border=\"1\" class=\"dataframe\">\n",
              "  <thead>\n",
              "    <tr style=\"text-align: right;\">\n",
              "      <th></th>\n",
              "      <th>ID</th>\n",
              "      <th>Severity</th>\n",
              "      <th>Start_Time</th>\n",
              "      <th>End_Time</th>\n",
              "      <th>Start_Lat</th>\n",
              "      <th>Start_Lng</th>\n",
              "      <th>End_Lat</th>\n",
              "      <th>End_Lng</th>\n",
              "      <th>Distance(mi)</th>\n",
              "      <th>Description</th>\n",
              "      <th>Number</th>\n",
              "      <th>Street</th>\n",
              "      <th>Side</th>\n",
              "      <th>City</th>\n",
              "      <th>County</th>\n",
              "      <th>State</th>\n",
              "      <th>Zipcode</th>\n",
              "      <th>Country</th>\n",
              "      <th>Timezone</th>\n",
              "      <th>Airport_Code</th>\n",
              "      <th>Weather_Timestamp</th>\n",
              "      <th>Temperature(F)</th>\n",
              "      <th>Wind_Chill(F)</th>\n",
              "      <th>Humidity(%)</th>\n",
              "      <th>Pressure(in)</th>\n",
              "      <th>Visibility(mi)</th>\n",
              "      <th>Wind_Direction</th>\n",
              "      <th>Wind_Speed(mph)</th>\n",
              "      <th>Precipitation(in)</th>\n",
              "      <th>Weather_Condition</th>\n",
              "      <th>Amenity</th>\n",
              "      <th>Bump</th>\n",
              "      <th>Crossing</th>\n",
              "      <th>Give_Way</th>\n",
              "      <th>Junction</th>\n",
              "      <th>No_Exit</th>\n",
              "      <th>Railway</th>\n",
              "      <th>Roundabout</th>\n",
              "      <th>Station</th>\n",
              "      <th>Stop</th>\n",
              "      <th>Traffic_Calming</th>\n",
              "      <th>Traffic_Signal</th>\n",
              "      <th>Turning_Loop</th>\n",
              "      <th>Sunrise_Sunset</th>\n",
              "      <th>Civil_Twilight</th>\n",
              "      <th>Nautical_Twilight</th>\n",
              "      <th>Astronomical_Twilight</th>\n",
              "      <th>POPESTIMATE2019</th>\n",
              "    </tr>\n",
              "  </thead>\n",
              "  <tbody>\n",
              "    <tr>\n",
              "      <th>0</th>\n",
              "      <td>A-2716600</td>\n",
              "      <td>3</td>\n",
              "      <td>2016-02-08 00:37:08</td>\n",
              "      <td>2016-02-08 06:37:08</td>\n",
              "      <td>40.10891</td>\n",
              "      <td>-83.09286</td>\n",
              "      <td>40.11206</td>\n",
              "      <td>-83.03187</td>\n",
              "      <td>3.230</td>\n",
              "      <td>Between Sawmill Rd/Exit 20 and OH-315/Olentang...</td>\n",
              "      <td>NaN</td>\n",
              "      <td>Outerbelt E</td>\n",
              "      <td>R</td>\n",
              "      <td>Dublin</td>\n",
              "      <td>Franklin</td>\n",
              "      <td>OH</td>\n",
              "      <td>43017</td>\n",
              "      <td>US</td>\n",
              "      <td>US/Eastern</td>\n",
              "      <td>KOSU</td>\n",
              "      <td>2016-02-08 00:53:00</td>\n",
              "      <td>42.1</td>\n",
              "      <td>36.1</td>\n",
              "      <td>58.0</td>\n",
              "      <td>29.76</td>\n",
              "      <td>10.0</td>\n",
              "      <td>SW</td>\n",
              "      <td>10.4</td>\n",
              "      <td>0.00</td>\n",
              "      <td>Light Rain</td>\n",
              "      <td>False</td>\n",
              "      <td>False</td>\n",
              "      <td>False</td>\n",
              "      <td>False</td>\n",
              "      <td>False</td>\n",
              "      <td>False</td>\n",
              "      <td>False</td>\n",
              "      <td>False</td>\n",
              "      <td>False</td>\n",
              "      <td>False</td>\n",
              "      <td>False</td>\n",
              "      <td>False</td>\n",
              "      <td>False</td>\n",
              "      <td>Night</td>\n",
              "      <td>Night</td>\n",
              "      <td>Night</td>\n",
              "      <td>Night</td>\n",
              "      <td>11689100</td>\n",
              "    </tr>\n",
              "    <tr>\n",
              "      <th>1</th>\n",
              "      <td>A-2716601</td>\n",
              "      <td>2</td>\n",
              "      <td>2016-02-08 05:56:20</td>\n",
              "      <td>2016-02-08 11:56:20</td>\n",
              "      <td>39.86542</td>\n",
              "      <td>-84.06280</td>\n",
              "      <td>39.86501</td>\n",
              "      <td>-84.04873</td>\n",
              "      <td>0.747</td>\n",
              "      <td>At OH-4/OH-235/Exit 41 - Accident.</td>\n",
              "      <td>NaN</td>\n",
              "      <td>I-70 E</td>\n",
              "      <td>R</td>\n",
              "      <td>Dayton</td>\n",
              "      <td>Montgomery</td>\n",
              "      <td>OH</td>\n",
              "      <td>45424</td>\n",
              "      <td>US</td>\n",
              "      <td>US/Eastern</td>\n",
              "      <td>KFFO</td>\n",
              "      <td>2016-02-08 05:58:00</td>\n",
              "      <td>36.9</td>\n",
              "      <td>NaN</td>\n",
              "      <td>91.0</td>\n",
              "      <td>29.68</td>\n",
              "      <td>10.0</td>\n",
              "      <td>Calm</td>\n",
              "      <td>NaN</td>\n",
              "      <td>0.02</td>\n",
              "      <td>Light Rain</td>\n",
              "      <td>False</td>\n",
              "      <td>False</td>\n",
              "      <td>False</td>\n",
              "      <td>False</td>\n",
              "      <td>False</td>\n",
              "      <td>False</td>\n",
              "      <td>False</td>\n",
              "      <td>False</td>\n",
              "      <td>False</td>\n",
              "      <td>False</td>\n",
              "      <td>False</td>\n",
              "      <td>False</td>\n",
              "      <td>False</td>\n",
              "      <td>Night</td>\n",
              "      <td>Night</td>\n",
              "      <td>Night</td>\n",
              "      <td>Night</td>\n",
              "      <td>11689100</td>\n",
              "    </tr>\n",
              "    <tr>\n",
              "      <th>2</th>\n",
              "      <td>A-2716602</td>\n",
              "      <td>2</td>\n",
              "      <td>2016-02-08 06:15:39</td>\n",
              "      <td>2016-02-08 12:15:39</td>\n",
              "      <td>39.10266</td>\n",
              "      <td>-84.52468</td>\n",
              "      <td>39.10209</td>\n",
              "      <td>-84.52396</td>\n",
              "      <td>0.055</td>\n",
              "      <td>At I-71/US-50/Exit 1 - Accident.</td>\n",
              "      <td>NaN</td>\n",
              "      <td>I-75 S</td>\n",
              "      <td>R</td>\n",
              "      <td>Cincinnati</td>\n",
              "      <td>Hamilton</td>\n",
              "      <td>OH</td>\n",
              "      <td>45203</td>\n",
              "      <td>US</td>\n",
              "      <td>US/Eastern</td>\n",
              "      <td>KLUK</td>\n",
              "      <td>2016-02-08 05:53:00</td>\n",
              "      <td>36.0</td>\n",
              "      <td>NaN</td>\n",
              "      <td>97.0</td>\n",
              "      <td>29.70</td>\n",
              "      <td>10.0</td>\n",
              "      <td>Calm</td>\n",
              "      <td>NaN</td>\n",
              "      <td>0.02</td>\n",
              "      <td>Overcast</td>\n",
              "      <td>False</td>\n",
              "      <td>False</td>\n",
              "      <td>False</td>\n",
              "      <td>False</td>\n",
              "      <td>True</td>\n",
              "      <td>False</td>\n",
              "      <td>False</td>\n",
              "      <td>False</td>\n",
              "      <td>False</td>\n",
              "      <td>False</td>\n",
              "      <td>False</td>\n",
              "      <td>False</td>\n",
              "      <td>False</td>\n",
              "      <td>Night</td>\n",
              "      <td>Night</td>\n",
              "      <td>Night</td>\n",
              "      <td>Day</td>\n",
              "      <td>11689100</td>\n",
              "    </tr>\n",
              "    <tr>\n",
              "      <th>3</th>\n",
              "      <td>A-2716603</td>\n",
              "      <td>2</td>\n",
              "      <td>2016-02-08 06:15:39</td>\n",
              "      <td>2016-02-08 12:15:39</td>\n",
              "      <td>39.10148</td>\n",
              "      <td>-84.52341</td>\n",
              "      <td>39.09841</td>\n",
              "      <td>-84.52241</td>\n",
              "      <td>0.219</td>\n",
              "      <td>At I-71/US-50/Exit 1 - Accident.</td>\n",
              "      <td>NaN</td>\n",
              "      <td>US-50 E</td>\n",
              "      <td>R</td>\n",
              "      <td>Cincinnati</td>\n",
              "      <td>Hamilton</td>\n",
              "      <td>OH</td>\n",
              "      <td>45202</td>\n",
              "      <td>US</td>\n",
              "      <td>US/Eastern</td>\n",
              "      <td>KLUK</td>\n",
              "      <td>2016-02-08 05:53:00</td>\n",
              "      <td>36.0</td>\n",
              "      <td>NaN</td>\n",
              "      <td>97.0</td>\n",
              "      <td>29.70</td>\n",
              "      <td>10.0</td>\n",
              "      <td>Calm</td>\n",
              "      <td>NaN</td>\n",
              "      <td>0.02</td>\n",
              "      <td>Overcast</td>\n",
              "      <td>False</td>\n",
              "      <td>False</td>\n",
              "      <td>False</td>\n",
              "      <td>False</td>\n",
              "      <td>True</td>\n",
              "      <td>False</td>\n",
              "      <td>False</td>\n",
              "      <td>False</td>\n",
              "      <td>False</td>\n",
              "      <td>False</td>\n",
              "      <td>False</td>\n",
              "      <td>False</td>\n",
              "      <td>False</td>\n",
              "      <td>Night</td>\n",
              "      <td>Night</td>\n",
              "      <td>Night</td>\n",
              "      <td>Day</td>\n",
              "      <td>11689100</td>\n",
              "    </tr>\n",
              "    <tr>\n",
              "      <th>4</th>\n",
              "      <td>A-2716604</td>\n",
              "      <td>2</td>\n",
              "      <td>2016-02-08 06:51:45</td>\n",
              "      <td>2016-02-08 12:51:45</td>\n",
              "      <td>41.06213</td>\n",
              "      <td>-81.53784</td>\n",
              "      <td>41.06217</td>\n",
              "      <td>-81.53547</td>\n",
              "      <td>0.123</td>\n",
              "      <td>At Dart Ave/Exit 21 - Accident.</td>\n",
              "      <td>NaN</td>\n",
              "      <td>I-77 N</td>\n",
              "      <td>R</td>\n",
              "      <td>Akron</td>\n",
              "      <td>Summit</td>\n",
              "      <td>OH</td>\n",
              "      <td>44311</td>\n",
              "      <td>US</td>\n",
              "      <td>US/Eastern</td>\n",
              "      <td>KAKR</td>\n",
              "      <td>2016-02-08 06:54:00</td>\n",
              "      <td>39.0</td>\n",
              "      <td>NaN</td>\n",
              "      <td>55.0</td>\n",
              "      <td>29.65</td>\n",
              "      <td>10.0</td>\n",
              "      <td>Calm</td>\n",
              "      <td>NaN</td>\n",
              "      <td>NaN</td>\n",
              "      <td>Overcast</td>\n",
              "      <td>False</td>\n",
              "      <td>False</td>\n",
              "      <td>False</td>\n",
              "      <td>False</td>\n",
              "      <td>False</td>\n",
              "      <td>False</td>\n",
              "      <td>False</td>\n",
              "      <td>False</td>\n",
              "      <td>False</td>\n",
              "      <td>False</td>\n",
              "      <td>False</td>\n",
              "      <td>False</td>\n",
              "      <td>False</td>\n",
              "      <td>Night</td>\n",
              "      <td>Night</td>\n",
              "      <td>Day</td>\n",
              "      <td>Day</td>\n",
              "      <td>11689100</td>\n",
              "    </tr>\n",
              "  </tbody>\n",
              "</table>\n",
              "</div>"
            ],
            "text/plain": [
              "          ID  Severity  ... Astronomical_Twilight POPESTIMATE2019\n",
              "0  A-2716600         3  ...                 Night        11689100\n",
              "1  A-2716601         2  ...                 Night        11689100\n",
              "2  A-2716602         2  ...                   Day        11689100\n",
              "3  A-2716603         2  ...                   Day        11689100\n",
              "4  A-2716604         2  ...                   Day        11689100\n",
              "\n",
              "[5 rows x 48 columns]"
            ]
          },
          "metadata": {},
          "execution_count": 36
        }
      ]
    },
    {
      "cell_type": "code",
      "metadata": {
        "colab": {
          "base_uri": "https://localhost:8080/",
          "height": 204
        },
        "id": "etq1_irjuVPj",
        "outputId": "cfdbecb2-3ccb-464c-b3c4-093760dc5bed"
      },
      "source": [
        "merged_df_2019 = merged_df[merged_df['Start_Time'].dt.year == 2019]\n",
        "\n",
        "total_accidents_per_state_2019 = merged_df_2019['State'].value_counts().rename_axis('State').reset_index(name = 'Total Accidents in 2019')\n",
        "\n",
        "total_accidents_per_state_2019.head()"
      ],
      "execution_count": 37,
      "outputs": [
        {
          "output_type": "execute_result",
          "data": {
            "text/html": [
              "<div>\n",
              "<style scoped>\n",
              "    .dataframe tbody tr th:only-of-type {\n",
              "        vertical-align: middle;\n",
              "    }\n",
              "\n",
              "    .dataframe tbody tr th {\n",
              "        vertical-align: top;\n",
              "    }\n",
              "\n",
              "    .dataframe thead th {\n",
              "        text-align: right;\n",
              "    }\n",
              "</style>\n",
              "<table border=\"1\" class=\"dataframe\">\n",
              "  <thead>\n",
              "    <tr style=\"text-align: right;\">\n",
              "      <th></th>\n",
              "      <th>State</th>\n",
              "      <th>Total Accidents in 2019</th>\n",
              "    </tr>\n",
              "  </thead>\n",
              "  <tbody>\n",
              "    <tr>\n",
              "      <th>0</th>\n",
              "      <td>CA</td>\n",
              "      <td>108309</td>\n",
              "    </tr>\n",
              "    <tr>\n",
              "      <th>1</th>\n",
              "      <td>OR</td>\n",
              "      <td>35121</td>\n",
              "    </tr>\n",
              "    <tr>\n",
              "      <th>2</th>\n",
              "      <td>UT</td>\n",
              "      <td>15914</td>\n",
              "    </tr>\n",
              "    <tr>\n",
              "      <th>3</th>\n",
              "      <td>MN</td>\n",
              "      <td>11329</td>\n",
              "    </tr>\n",
              "    <tr>\n",
              "      <th>4</th>\n",
              "      <td>FL</td>\n",
              "      <td>9972</td>\n",
              "    </tr>\n",
              "  </tbody>\n",
              "</table>\n",
              "</div>"
            ],
            "text/plain": [
              "  State  Total Accidents in 2019\n",
              "0    CA                   108309\n",
              "1    OR                    35121\n",
              "2    UT                    15914\n",
              "3    MN                    11329\n",
              "4    FL                     9972"
            ]
          },
          "metadata": {},
          "execution_count": 37
        }
      ]
    },
    {
      "cell_type": "code",
      "metadata": {
        "colab": {
          "base_uri": "https://localhost:8080/",
          "height": 204
        },
        "id": "McWFIkFx1D_k",
        "outputId": "53bced27-677e-4a41-9666-4aad0fae437d"
      },
      "source": [
        "df2.head()"
      ],
      "execution_count": 38,
      "outputs": [
        {
          "output_type": "execute_result",
          "data": {
            "text/html": [
              "<div>\n",
              "<style scoped>\n",
              "    .dataframe tbody tr th:only-of-type {\n",
              "        vertical-align: middle;\n",
              "    }\n",
              "\n",
              "    .dataframe tbody tr th {\n",
              "        vertical-align: top;\n",
              "    }\n",
              "\n",
              "    .dataframe thead th {\n",
              "        text-align: right;\n",
              "    }\n",
              "</style>\n",
              "<table border=\"1\" class=\"dataframe\">\n",
              "  <thead>\n",
              "    <tr style=\"text-align: right;\">\n",
              "      <th></th>\n",
              "      <th>STATE_CODE</th>\n",
              "      <th>POPESTIMATE2019</th>\n",
              "    </tr>\n",
              "  </thead>\n",
              "  <tbody>\n",
              "    <tr>\n",
              "      <th>0</th>\n",
              "      <td>AL</td>\n",
              "      <td>4903185</td>\n",
              "    </tr>\n",
              "    <tr>\n",
              "      <th>1</th>\n",
              "      <td>AK</td>\n",
              "      <td>731545</td>\n",
              "    </tr>\n",
              "    <tr>\n",
              "      <th>2</th>\n",
              "      <td>AZ</td>\n",
              "      <td>7278717</td>\n",
              "    </tr>\n",
              "    <tr>\n",
              "      <th>3</th>\n",
              "      <td>AR</td>\n",
              "      <td>3017804</td>\n",
              "    </tr>\n",
              "    <tr>\n",
              "      <th>4</th>\n",
              "      <td>CA</td>\n",
              "      <td>39512223</td>\n",
              "    </tr>\n",
              "  </tbody>\n",
              "</table>\n",
              "</div>"
            ],
            "text/plain": [
              "  STATE_CODE  POPESTIMATE2019\n",
              "0         AL          4903185\n",
              "1         AK           731545\n",
              "2         AZ          7278717\n",
              "3         AR          3017804\n",
              "4         CA         39512223"
            ]
          },
          "metadata": {},
          "execution_count": 38
        }
      ]
    },
    {
      "cell_type": "code",
      "metadata": {
        "colab": {
          "base_uri": "https://localhost:8080/",
          "height": 204
        },
        "id": "p8uweZN80ass",
        "outputId": "3a17983d-83fc-4322-9720-8b9dad857e80"
      },
      "source": [
        "total_accidents_per_state_2019_merged_POPESTIMATE2019 = pd.merge(left = total_accidents_per_state_2019, right = df2, how = \"left\", left_on = ['State'], right_on = ['STATE_CODE'])\n",
        "total_accidents_per_state_2019_merged_POPESTIMATE2019.drop(columns = ['STATE_CODE'], inplace = True)\n",
        "total_accidents_per_state_2019_merged_POPESTIMATE2019.head()"
      ],
      "execution_count": 39,
      "outputs": [
        {
          "output_type": "execute_result",
          "data": {
            "text/html": [
              "<div>\n",
              "<style scoped>\n",
              "    .dataframe tbody tr th:only-of-type {\n",
              "        vertical-align: middle;\n",
              "    }\n",
              "\n",
              "    .dataframe tbody tr th {\n",
              "        vertical-align: top;\n",
              "    }\n",
              "\n",
              "    .dataframe thead th {\n",
              "        text-align: right;\n",
              "    }\n",
              "</style>\n",
              "<table border=\"1\" class=\"dataframe\">\n",
              "  <thead>\n",
              "    <tr style=\"text-align: right;\">\n",
              "      <th></th>\n",
              "      <th>State</th>\n",
              "      <th>Total Accidents in 2019</th>\n",
              "      <th>POPESTIMATE2019</th>\n",
              "    </tr>\n",
              "  </thead>\n",
              "  <tbody>\n",
              "    <tr>\n",
              "      <th>0</th>\n",
              "      <td>CA</td>\n",
              "      <td>108309</td>\n",
              "      <td>39512223</td>\n",
              "    </tr>\n",
              "    <tr>\n",
              "      <th>1</th>\n",
              "      <td>OR</td>\n",
              "      <td>35121</td>\n",
              "      <td>4217737</td>\n",
              "    </tr>\n",
              "    <tr>\n",
              "      <th>2</th>\n",
              "      <td>UT</td>\n",
              "      <td>15914</td>\n",
              "      <td>3205958</td>\n",
              "    </tr>\n",
              "    <tr>\n",
              "      <th>3</th>\n",
              "      <td>MN</td>\n",
              "      <td>11329</td>\n",
              "      <td>5639632</td>\n",
              "    </tr>\n",
              "    <tr>\n",
              "      <th>4</th>\n",
              "      <td>FL</td>\n",
              "      <td>9972</td>\n",
              "      <td>21477737</td>\n",
              "    </tr>\n",
              "  </tbody>\n",
              "</table>\n",
              "</div>"
            ],
            "text/plain": [
              "  State  Total Accidents in 2019  POPESTIMATE2019\n",
              "0    CA                   108309         39512223\n",
              "1    OR                    35121          4217737\n",
              "2    UT                    15914          3205958\n",
              "3    MN                    11329          5639632\n",
              "4    FL                     9972         21477737"
            ]
          },
          "metadata": {},
          "execution_count": 39
        }
      ]
    },
    {
      "cell_type": "code",
      "metadata": {
        "colab": {
          "base_uri": "https://localhost:8080/",
          "height": 1000
        },
        "id": "-LpgwhmT1N9M",
        "outputId": "1a265fd3-8ce3-477e-9887-14e32d91b793"
      },
      "source": [
        "total_accidents_per_state_2019_merged_POPESTIMATE2019['Accidents per Capita'] = total_accidents_per_state_2019_merged_POPESTIMATE2019['Total Accidents in 2019'] / total_accidents_per_state_2019_merged_POPESTIMATE2019['POPESTIMATE2019']\n",
        "total_accidents_per_state_2019_merged_POPESTIMATE2019.sort_values(by = ['Accidents per Capita'], ascending = False)"
      ],
      "execution_count": 40,
      "outputs": [
        {
          "output_type": "execute_result",
          "data": {
            "text/html": [
              "<div>\n",
              "<style scoped>\n",
              "    .dataframe tbody tr th:only-of-type {\n",
              "        vertical-align: middle;\n",
              "    }\n",
              "\n",
              "    .dataframe tbody tr th {\n",
              "        vertical-align: top;\n",
              "    }\n",
              "\n",
              "    .dataframe thead th {\n",
              "        text-align: right;\n",
              "    }\n",
              "</style>\n",
              "<table border=\"1\" class=\"dataframe\">\n",
              "  <thead>\n",
              "    <tr style=\"text-align: right;\">\n",
              "      <th></th>\n",
              "      <th>State</th>\n",
              "      <th>Total Accidents in 2019</th>\n",
              "      <th>POPESTIMATE2019</th>\n",
              "      <th>Accidents per Capita</th>\n",
              "    </tr>\n",
              "  </thead>\n",
              "  <tbody>\n",
              "    <tr>\n",
              "      <th>1</th>\n",
              "      <td>OR</td>\n",
              "      <td>35121</td>\n",
              "      <td>4217737</td>\n",
              "      <td>0.008327</td>\n",
              "    </tr>\n",
              "    <tr>\n",
              "      <th>2</th>\n",
              "      <td>UT</td>\n",
              "      <td>15914</td>\n",
              "      <td>3205958</td>\n",
              "      <td>0.004964</td>\n",
              "    </tr>\n",
              "    <tr>\n",
              "      <th>0</th>\n",
              "      <td>CA</td>\n",
              "      <td>108309</td>\n",
              "      <td>39512223</td>\n",
              "      <td>0.002741</td>\n",
              "    </tr>\n",
              "    <tr>\n",
              "      <th>3</th>\n",
              "      <td>MN</td>\n",
              "      <td>11329</td>\n",
              "      <td>5639632</td>\n",
              "      <td>0.002009</td>\n",
              "    </tr>\n",
              "    <tr>\n",
              "      <th>8</th>\n",
              "      <td>CO</td>\n",
              "      <td>6088</td>\n",
              "      <td>5758736</td>\n",
              "      <td>0.001057</td>\n",
              "    </tr>\n",
              "    <tr>\n",
              "      <th>26</th>\n",
              "      <td>NH</td>\n",
              "      <td>996</td>\n",
              "      <td>1359711</td>\n",
              "      <td>0.000733</td>\n",
              "    </tr>\n",
              "    <tr>\n",
              "      <th>29</th>\n",
              "      <td>RI</td>\n",
              "      <td>764</td>\n",
              "      <td>1059361</td>\n",
              "      <td>0.000721</td>\n",
              "    </tr>\n",
              "    <tr>\n",
              "      <th>14</th>\n",
              "      <td>MD</td>\n",
              "      <td>3654</td>\n",
              "      <td>6045680</td>\n",
              "      <td>0.000604</td>\n",
              "    </tr>\n",
              "    <tr>\n",
              "      <th>11</th>\n",
              "      <td>WA</td>\n",
              "      <td>4455</td>\n",
              "      <td>7614893</td>\n",
              "      <td>0.000585</td>\n",
              "    </tr>\n",
              "    <tr>\n",
              "      <th>39</th>\n",
              "      <td>DC</td>\n",
              "      <td>367</td>\n",
              "      <td>705749</td>\n",
              "      <td>0.000520</td>\n",
              "    </tr>\n",
              "    <tr>\n",
              "      <th>7</th>\n",
              "      <td>IL</td>\n",
              "      <td>6447</td>\n",
              "      <td>12671821</td>\n",
              "      <td>0.000509</td>\n",
              "    </tr>\n",
              "    <tr>\n",
              "      <th>9</th>\n",
              "      <td>GA</td>\n",
              "      <td>5386</td>\n",
              "      <td>10617423</td>\n",
              "      <td>0.000507</td>\n",
              "    </tr>\n",
              "    <tr>\n",
              "      <th>10</th>\n",
              "      <td>MI</td>\n",
              "      <td>5032</td>\n",
              "      <td>9986857</td>\n",
              "      <td>0.000504</td>\n",
              "    </tr>\n",
              "    <tr>\n",
              "      <th>12</th>\n",
              "      <td>VA</td>\n",
              "      <td>4246</td>\n",
              "      <td>8535519</td>\n",
              "      <td>0.000497</td>\n",
              "    </tr>\n",
              "    <tr>\n",
              "      <th>4</th>\n",
              "      <td>FL</td>\n",
              "      <td>9972</td>\n",
              "      <td>21477737</td>\n",
              "      <td>0.000464</td>\n",
              "    </tr>\n",
              "    <tr>\n",
              "      <th>31</th>\n",
              "      <td>ME</td>\n",
              "      <td>613</td>\n",
              "      <td>1344212</td>\n",
              "      <td>0.000456</td>\n",
              "    </tr>\n",
              "    <tr>\n",
              "      <th>21</th>\n",
              "      <td>CT</td>\n",
              "      <td>1588</td>\n",
              "      <td>3565287</td>\n",
              "      <td>0.000445</td>\n",
              "    </tr>\n",
              "    <tr>\n",
              "      <th>13</th>\n",
              "      <td>NJ</td>\n",
              "      <td>3744</td>\n",
              "      <td>8882190</td>\n",
              "      <td>0.000422</td>\n",
              "    </tr>\n",
              "    <tr>\n",
              "      <th>15</th>\n",
              "      <td>AZ</td>\n",
              "      <td>2715</td>\n",
              "      <td>7278717</td>\n",
              "      <td>0.000373</td>\n",
              "    </tr>\n",
              "    <tr>\n",
              "      <th>5</th>\n",
              "      <td>NY</td>\n",
              "      <td>6925</td>\n",
              "      <td>19453561</td>\n",
              "      <td>0.000356</td>\n",
              "    </tr>\n",
              "    <tr>\n",
              "      <th>33</th>\n",
              "      <td>ID</td>\n",
              "      <td>526</td>\n",
              "      <td>1787065</td>\n",
              "      <td>0.000294</td>\n",
              "    </tr>\n",
              "    <tr>\n",
              "      <th>27</th>\n",
              "      <td>AR</td>\n",
              "      <td>853</td>\n",
              "      <td>3017804</td>\n",
              "      <td>0.000283</td>\n",
              "    </tr>\n",
              "    <tr>\n",
              "      <th>18</th>\n",
              "      <td>MO</td>\n",
              "      <td>1691</td>\n",
              "      <td>6137428</td>\n",
              "      <td>0.000276</td>\n",
              "    </tr>\n",
              "    <tr>\n",
              "      <th>17</th>\n",
              "      <td>IN</td>\n",
              "      <td>1803</td>\n",
              "      <td>6732219</td>\n",
              "      <td>0.000268</td>\n",
              "    </tr>\n",
              "    <tr>\n",
              "      <th>16</th>\n",
              "      <td>NC</td>\n",
              "      <td>2644</td>\n",
              "      <td>10488084</td>\n",
              "      <td>0.000252</td>\n",
              "    </tr>\n",
              "    <tr>\n",
              "      <th>22</th>\n",
              "      <td>WI</td>\n",
              "      <td>1444</td>\n",
              "      <td>5822434</td>\n",
              "      <td>0.000248</td>\n",
              "    </tr>\n",
              "    <tr>\n",
              "      <th>19</th>\n",
              "      <td>TN</td>\n",
              "      <td>1671</td>\n",
              "      <td>6829174</td>\n",
              "      <td>0.000245</td>\n",
              "    </tr>\n",
              "    <tr>\n",
              "      <th>41</th>\n",
              "      <td>DE</td>\n",
              "      <td>237</td>\n",
              "      <td>973764</td>\n",
              "      <td>0.000243</td>\n",
              "    </tr>\n",
              "    <tr>\n",
              "      <th>23</th>\n",
              "      <td>SC</td>\n",
              "      <td>1245</td>\n",
              "      <td>5148714</td>\n",
              "      <td>0.000242</td>\n",
              "    </tr>\n",
              "    <tr>\n",
              "      <th>37</th>\n",
              "      <td>WV</td>\n",
              "      <td>425</td>\n",
              "      <td>1792147</td>\n",
              "      <td>0.000237</td>\n",
              "    </tr>\n",
              "    <tr>\n",
              "      <th>6</th>\n",
              "      <td>TX</td>\n",
              "      <td>6737</td>\n",
              "      <td>28995881</td>\n",
              "      <td>0.000232</td>\n",
              "    </tr>\n",
              "    <tr>\n",
              "      <th>24</th>\n",
              "      <td>AL</td>\n",
              "      <td>1091</td>\n",
              "      <td>4903185</td>\n",
              "      <td>0.000223</td>\n",
              "    </tr>\n",
              "    <tr>\n",
              "      <th>38</th>\n",
              "      <td>NE</td>\n",
              "      <td>398</td>\n",
              "      <td>1934408</td>\n",
              "      <td>0.000206</td>\n",
              "    </tr>\n",
              "    <tr>\n",
              "      <th>45</th>\n",
              "      <td>VT</td>\n",
              "      <td>123</td>\n",
              "      <td>623989</td>\n",
              "      <td>0.000197</td>\n",
              "    </tr>\n",
              "    <tr>\n",
              "      <th>34</th>\n",
              "      <td>KS</td>\n",
              "      <td>523</td>\n",
              "      <td>2913314</td>\n",
              "      <td>0.000180</td>\n",
              "    </tr>\n",
              "    <tr>\n",
              "      <th>28</th>\n",
              "      <td>LA</td>\n",
              "      <td>813</td>\n",
              "      <td>4648794</td>\n",
              "      <td>0.000175</td>\n",
              "    </tr>\n",
              "    <tr>\n",
              "      <th>35</th>\n",
              "      <td>IA</td>\n",
              "      <td>509</td>\n",
              "      <td>3155070</td>\n",
              "      <td>0.000161</td>\n",
              "    </tr>\n",
              "    <tr>\n",
              "      <th>36</th>\n",
              "      <td>MS</td>\n",
              "      <td>463</td>\n",
              "      <td>2976149</td>\n",
              "      <td>0.000156</td>\n",
              "    </tr>\n",
              "    <tr>\n",
              "      <th>44</th>\n",
              "      <td>MT</td>\n",
              "      <td>155</td>\n",
              "      <td>1068778</td>\n",
              "      <td>0.000145</td>\n",
              "    </tr>\n",
              "    <tr>\n",
              "      <th>46</th>\n",
              "      <td>WY</td>\n",
              "      <td>82</td>\n",
              "      <td>578759</td>\n",
              "      <td>0.000142</td>\n",
              "    </tr>\n",
              "    <tr>\n",
              "      <th>32</th>\n",
              "      <td>KY</td>\n",
              "      <td>588</td>\n",
              "      <td>4467673</td>\n",
              "      <td>0.000132</td>\n",
              "    </tr>\n",
              "    <tr>\n",
              "      <th>20</th>\n",
              "      <td>PA</td>\n",
              "      <td>1670</td>\n",
              "      <td>12801989</td>\n",
              "      <td>0.000130</td>\n",
              "    </tr>\n",
              "    <tr>\n",
              "      <th>42</th>\n",
              "      <td>NM</td>\n",
              "      <td>232</td>\n",
              "      <td>2096829</td>\n",
              "      <td>0.000111</td>\n",
              "    </tr>\n",
              "    <tr>\n",
              "      <th>30</th>\n",
              "      <td>MA</td>\n",
              "      <td>701</td>\n",
              "      <td>6892503</td>\n",
              "      <td>0.000102</td>\n",
              "    </tr>\n",
              "    <tr>\n",
              "      <th>40</th>\n",
              "      <td>NV</td>\n",
              "      <td>284</td>\n",
              "      <td>3080156</td>\n",
              "      <td>0.000092</td>\n",
              "    </tr>\n",
              "    <tr>\n",
              "      <th>25</th>\n",
              "      <td>OH</td>\n",
              "      <td>1004</td>\n",
              "      <td>11689100</td>\n",
              "      <td>0.000086</td>\n",
              "    </tr>\n",
              "    <tr>\n",
              "      <th>43</th>\n",
              "      <td>OK</td>\n",
              "      <td>157</td>\n",
              "      <td>3956971</td>\n",
              "      <td>0.000040</td>\n",
              "    </tr>\n",
              "    <tr>\n",
              "      <th>47</th>\n",
              "      <td>SD</td>\n",
              "      <td>26</td>\n",
              "      <td>884659</td>\n",
              "      <td>0.000029</td>\n",
              "    </tr>\n",
              "    <tr>\n",
              "      <th>48</th>\n",
              "      <td>ND</td>\n",
              "      <td>12</td>\n",
              "      <td>762062</td>\n",
              "      <td>0.000016</td>\n",
              "    </tr>\n",
              "  </tbody>\n",
              "</table>\n",
              "</div>"
            ],
            "text/plain": [
              "   State  Total Accidents in 2019  POPESTIMATE2019  Accidents per Capita\n",
              "1     OR                    35121          4217737              0.008327\n",
              "2     UT                    15914          3205958              0.004964\n",
              "0     CA                   108309         39512223              0.002741\n",
              "3     MN                    11329          5639632              0.002009\n",
              "8     CO                     6088          5758736              0.001057\n",
              "26    NH                      996          1359711              0.000733\n",
              "29    RI                      764          1059361              0.000721\n",
              "14    MD                     3654          6045680              0.000604\n",
              "11    WA                     4455          7614893              0.000585\n",
              "39    DC                      367           705749              0.000520\n",
              "7     IL                     6447         12671821              0.000509\n",
              "9     GA                     5386         10617423              0.000507\n",
              "10    MI                     5032          9986857              0.000504\n",
              "12    VA                     4246          8535519              0.000497\n",
              "4     FL                     9972         21477737              0.000464\n",
              "31    ME                      613          1344212              0.000456\n",
              "21    CT                     1588          3565287              0.000445\n",
              "13    NJ                     3744          8882190              0.000422\n",
              "15    AZ                     2715          7278717              0.000373\n",
              "5     NY                     6925         19453561              0.000356\n",
              "33    ID                      526          1787065              0.000294\n",
              "27    AR                      853          3017804              0.000283\n",
              "18    MO                     1691          6137428              0.000276\n",
              "17    IN                     1803          6732219              0.000268\n",
              "16    NC                     2644         10488084              0.000252\n",
              "22    WI                     1444          5822434              0.000248\n",
              "19    TN                     1671          6829174              0.000245\n",
              "41    DE                      237           973764              0.000243\n",
              "23    SC                     1245          5148714              0.000242\n",
              "37    WV                      425          1792147              0.000237\n",
              "6     TX                     6737         28995881              0.000232\n",
              "24    AL                     1091          4903185              0.000223\n",
              "38    NE                      398          1934408              0.000206\n",
              "45    VT                      123           623989              0.000197\n",
              "34    KS                      523          2913314              0.000180\n",
              "28    LA                      813          4648794              0.000175\n",
              "35    IA                      509          3155070              0.000161\n",
              "36    MS                      463          2976149              0.000156\n",
              "44    MT                      155          1068778              0.000145\n",
              "46    WY                       82           578759              0.000142\n",
              "32    KY                      588          4467673              0.000132\n",
              "20    PA                     1670         12801989              0.000130\n",
              "42    NM                      232          2096829              0.000111\n",
              "30    MA                      701          6892503              0.000102\n",
              "40    NV                      284          3080156              0.000092\n",
              "25    OH                     1004         11689100              0.000086\n",
              "43    OK                      157          3956971              0.000040\n",
              "47    SD                       26           884659              0.000029\n",
              "48    ND                       12           762062              0.000016"
            ]
          },
          "metadata": {},
          "execution_count": 40
        }
      ]
    },
    {
      "cell_type": "markdown",
      "metadata": {
        "id": "6n9IJDbg7fcC"
      },
      "source": [
        "It appears that the 5 states with the highest number of accidents per capita are from greatest to least:\n",
        "\n",
        "1. Oregon\n",
        "\n",
        "2. Utah\n",
        "\n",
        "3. California\n",
        "\n",
        "4. Minnesota\n",
        "\n",
        "5. Colorado"
      ]
    },
    {
      "cell_type": "markdown",
      "metadata": {
        "id": "HS7XLXJsS74-"
      },
      "source": [
        "### Let's visualize these results."
      ]
    },
    {
      "cell_type": "code",
      "metadata": {
        "colab": {
          "base_uri": "https://localhost:8080/",
          "height": 467
        },
        "id": "XlGYXYwh16Af",
        "outputId": "d7490f67-bc8d-4c21-9e38-7af425cff03d"
      },
      "source": [
        "# now plot\n",
        "fig = px.choropleth(scope = \"usa\", color = total_accidents_per_state_2019_merged_POPESTIMATE2019['Accidents per Capita'], locations = total_accidents_per_state_2019_merged_POPESTIMATE2019['State'],\n",
        "                    locationmode = 'USA-states', color_continuous_scale = \"PuBu\",\n",
        "                    labels = {'color': 'Accidents per Capita', 'locations': 'State'}, title = \"Accidents per Capita by State in 2019\")\n",
        "fig.show(\"png\")"
      ],
      "execution_count": 42,
      "outputs": [
        {
          "output_type": "display_data",
          "data": {
            "image/png": "[encoded data removed]"
          },
          "metadata": {}
        }
      ]
    },
    {
      "cell_type": "code",
      "metadata": {
        "colab": {
          "base_uri": "https://localhost:8080/",
          "height": 467
        },
        "id": "XtSVpWYD4jyW",
        "outputId": "1e77b6e4-4af8-4519-bafc-9c85ffbf3b5b"
      },
      "source": [
        "fig = px.bar(x = total_accidents_per_state_2019_merged_POPESTIMATE2019['State'], y = total_accidents_per_state_2019_merged_POPESTIMATE2019['Accidents per Capita'], labels = {\"x\": \"State\", \"y\": \"Accidents per capita\"}, \n",
        "             title = \"Accidents per Capita by State for 2019\", color = total_accidents_per_state_2019_merged_POPESTIMATE2019['State'])\n",
        "fig.update_layout(xaxis={'categoryorder':'category ascending'})\n",
        "\n",
        "fig.show(\"png\")"
      ],
      "execution_count": 43,
      "outputs": [
        {
          "output_type": "display_data",
          "data": {
            "image/png": "[encoded data removed]"
          },
          "metadata": {}
        }
      ]
    },
    {
      "cell_type": "markdown",
      "metadata": {
        "id": "KqGzkxZG8Q4w"
      },
      "source": [
        "***"
      ]
    },
    {
      "cell_type": "markdown",
      "metadata": {
        "id": "5S0ODbzf9yVY"
      },
      "source": [
        "### Let's look at how the total number of accidents have changed over the year."
      ]
    },
    {
      "cell_type": "markdown",
      "metadata": {
        "id": "EbHiJ_2M97fn"
      },
      "source": [
        "Let's start with the dataframe not containing 2016 (since it starts at February 2016 and not January)."
      ]
    },
    {
      "cell_type": "code",
      "metadata": {
        "colab": {
          "base_uri": "https://localhost:8080/",
          "height": 547
        },
        "id": "PxBLzKah9NqD",
        "outputId": "7b8d06c3-475a-49f5-993b-01d643391a48"
      },
      "source": [
        "df_without_2016.head()"
      ],
      "execution_count": 44,
      "outputs": [
        {
          "output_type": "execute_result",
          "data": {
            "text/html": [
              "<div>\n",
              "<style scoped>\n",
              "    .dataframe tbody tr th:only-of-type {\n",
              "        vertical-align: middle;\n",
              "    }\n",
              "\n",
              "    .dataframe tbody tr th {\n",
              "        vertical-align: top;\n",
              "    }\n",
              "\n",
              "    .dataframe thead th {\n",
              "        text-align: right;\n",
              "    }\n",
              "</style>\n",
              "<table border=\"1\" class=\"dataframe\">\n",
              "  <thead>\n",
              "    <tr style=\"text-align: right;\">\n",
              "      <th></th>\n",
              "      <th>ID</th>\n",
              "      <th>Severity</th>\n",
              "      <th>Start_Time</th>\n",
              "      <th>End_Time</th>\n",
              "      <th>Start_Lat</th>\n",
              "      <th>Start_Lng</th>\n",
              "      <th>End_Lat</th>\n",
              "      <th>End_Lng</th>\n",
              "      <th>Distance(mi)</th>\n",
              "      <th>Description</th>\n",
              "      <th>Number</th>\n",
              "      <th>Street</th>\n",
              "      <th>Side</th>\n",
              "      <th>City</th>\n",
              "      <th>County</th>\n",
              "      <th>State</th>\n",
              "      <th>Zipcode</th>\n",
              "      <th>Country</th>\n",
              "      <th>Timezone</th>\n",
              "      <th>Airport_Code</th>\n",
              "      <th>Weather_Timestamp</th>\n",
              "      <th>Temperature(F)</th>\n",
              "      <th>Wind_Chill(F)</th>\n",
              "      <th>Humidity(%)</th>\n",
              "      <th>Pressure(in)</th>\n",
              "      <th>Visibility(mi)</th>\n",
              "      <th>Wind_Direction</th>\n",
              "      <th>Wind_Speed(mph)</th>\n",
              "      <th>Precipitation(in)</th>\n",
              "      <th>Weather_Condition</th>\n",
              "      <th>Amenity</th>\n",
              "      <th>Bump</th>\n",
              "      <th>Crossing</th>\n",
              "      <th>Give_Way</th>\n",
              "      <th>Junction</th>\n",
              "      <th>No_Exit</th>\n",
              "      <th>Railway</th>\n",
              "      <th>Roundabout</th>\n",
              "      <th>Station</th>\n",
              "      <th>Stop</th>\n",
              "      <th>Traffic_Calming</th>\n",
              "      <th>Traffic_Signal</th>\n",
              "      <th>Turning_Loop</th>\n",
              "      <th>Sunrise_Sunset</th>\n",
              "      <th>Civil_Twilight</th>\n",
              "      <th>Nautical_Twilight</th>\n",
              "      <th>Astronomical_Twilight</th>\n",
              "      <th>Month</th>\n",
              "    </tr>\n",
              "  </thead>\n",
              "  <tbody>\n",
              "    <tr>\n",
              "      <th>15249</th>\n",
              "      <td>A-2731849</td>\n",
              "      <td>2</td>\n",
              "      <td>2017-01-01 00:44:41</td>\n",
              "      <td>2017-01-01 06:57:41</td>\n",
              "      <td>41.65280</td>\n",
              "      <td>-93.69785</td>\n",
              "      <td>41.649353</td>\n",
              "      <td>-93.697770</td>\n",
              "      <td>0.238</td>\n",
              "      <td>Between I-35/I-80 and US-6/Douglas Ave - Accid...</td>\n",
              "      <td>NaN</td>\n",
              "      <td>Merle Hay Rd</td>\n",
              "      <td>R</td>\n",
              "      <td>Johnston</td>\n",
              "      <td>Polk</td>\n",
              "      <td>IA</td>\n",
              "      <td>50131</td>\n",
              "      <td>US</td>\n",
              "      <td>US/Central</td>\n",
              "      <td>KIKV</td>\n",
              "      <td>2017-01-01 00:35:00</td>\n",
              "      <td>23.0</td>\n",
              "      <td>14.7</td>\n",
              "      <td>80.0</td>\n",
              "      <td>29.97</td>\n",
              "      <td>10.0</td>\n",
              "      <td>SW</td>\n",
              "      <td>6.9</td>\n",
              "      <td>NaN</td>\n",
              "      <td>Clear</td>\n",
              "      <td>False</td>\n",
              "      <td>False</td>\n",
              "      <td>False</td>\n",
              "      <td>False</td>\n",
              "      <td>False</td>\n",
              "      <td>False</td>\n",
              "      <td>False</td>\n",
              "      <td>False</td>\n",
              "      <td>False</td>\n",
              "      <td>False</td>\n",
              "      <td>False</td>\n",
              "      <td>True</td>\n",
              "      <td>False</td>\n",
              "      <td>Night</td>\n",
              "      <td>Night</td>\n",
              "      <td>Night</td>\n",
              "      <td>Night</td>\n",
              "      <td>1</td>\n",
              "    </tr>\n",
              "    <tr>\n",
              "      <th>15250</th>\n",
              "      <td>A-2731850</td>\n",
              "      <td>2</td>\n",
              "      <td>2017-01-01 01:07:05</td>\n",
              "      <td>2017-01-01 07:07:05</td>\n",
              "      <td>30.02012</td>\n",
              "      <td>-95.82565</td>\n",
              "      <td>30.019387</td>\n",
              "      <td>-95.823781</td>\n",
              "      <td>0.123</td>\n",
              "      <td>Between Beginning of US-290 Freeway and Katy H...</td>\n",
              "      <td>NaN</td>\n",
              "      <td>US-290 W</td>\n",
              "      <td>R</td>\n",
              "      <td>Hockley</td>\n",
              "      <td>Harris</td>\n",
              "      <td>TX</td>\n",
              "      <td>77447</td>\n",
              "      <td>US</td>\n",
              "      <td>US/Central</td>\n",
              "      <td>KTME</td>\n",
              "      <td>2017-01-01 01:15:00</td>\n",
              "      <td>64.4</td>\n",
              "      <td>NaN</td>\n",
              "      <td>100.0</td>\n",
              "      <td>29.86</td>\n",
              "      <td>1.2</td>\n",
              "      <td>Calm</td>\n",
              "      <td>NaN</td>\n",
              "      <td>NaN</td>\n",
              "      <td>Overcast</td>\n",
              "      <td>False</td>\n",
              "      <td>False</td>\n",
              "      <td>False</td>\n",
              "      <td>False</td>\n",
              "      <td>True</td>\n",
              "      <td>False</td>\n",
              "      <td>False</td>\n",
              "      <td>False</td>\n",
              "      <td>False</td>\n",
              "      <td>False</td>\n",
              "      <td>False</td>\n",
              "      <td>False</td>\n",
              "      <td>False</td>\n",
              "      <td>Night</td>\n",
              "      <td>Night</td>\n",
              "      <td>Night</td>\n",
              "      <td>Night</td>\n",
              "      <td>1</td>\n",
              "    </tr>\n",
              "    <tr>\n",
              "      <th>15251</th>\n",
              "      <td>A-2731851</td>\n",
              "      <td>2</td>\n",
              "      <td>2017-01-01 01:07:05</td>\n",
              "      <td>2017-01-01 07:07:05</td>\n",
              "      <td>30.02509</td>\n",
              "      <td>-95.83735</td>\n",
              "      <td>30.020120</td>\n",
              "      <td>-95.825650</td>\n",
              "      <td>0.780</td>\n",
              "      <td>At Badtke Rd - Accident.</td>\n",
              "      <td>NaN</td>\n",
              "      <td>US-290 E</td>\n",
              "      <td>R</td>\n",
              "      <td>Hockley</td>\n",
              "      <td>Harris</td>\n",
              "      <td>TX</td>\n",
              "      <td>77447</td>\n",
              "      <td>US</td>\n",
              "      <td>US/Central</td>\n",
              "      <td>KTME</td>\n",
              "      <td>2017-01-01 01:15:00</td>\n",
              "      <td>64.4</td>\n",
              "      <td>NaN</td>\n",
              "      <td>100.0</td>\n",
              "      <td>29.86</td>\n",
              "      <td>1.2</td>\n",
              "      <td>Calm</td>\n",
              "      <td>NaN</td>\n",
              "      <td>NaN</td>\n",
              "      <td>Overcast</td>\n",
              "      <td>False</td>\n",
              "      <td>False</td>\n",
              "      <td>False</td>\n",
              "      <td>False</td>\n",
              "      <td>True</td>\n",
              "      <td>False</td>\n",
              "      <td>False</td>\n",
              "      <td>False</td>\n",
              "      <td>False</td>\n",
              "      <td>False</td>\n",
              "      <td>False</td>\n",
              "      <td>False</td>\n",
              "      <td>False</td>\n",
              "      <td>Night</td>\n",
              "      <td>Night</td>\n",
              "      <td>Night</td>\n",
              "      <td>Night</td>\n",
              "      <td>1</td>\n",
              "    </tr>\n",
              "    <tr>\n",
              "      <th>15252</th>\n",
              "      <td>A-2731852</td>\n",
              "      <td>3</td>\n",
              "      <td>2017-01-01 01:58:51</td>\n",
              "      <td>2017-01-01 07:58:51</td>\n",
              "      <td>32.78833</td>\n",
              "      <td>-97.05835</td>\n",
              "      <td>32.809220</td>\n",
              "      <td>-97.054290</td>\n",
              "      <td>1.462</td>\n",
              "      <td>Between Post and Paddock Rd and Riverside Pky ...</td>\n",
              "      <td>NaN</td>\n",
              "      <td>TX-360 N</td>\n",
              "      <td>R</td>\n",
              "      <td>Grand Prairie</td>\n",
              "      <td>Tarrant</td>\n",
              "      <td>TX</td>\n",
              "      <td>75050</td>\n",
              "      <td>US</td>\n",
              "      <td>US/Central</td>\n",
              "      <td>KGPM</td>\n",
              "      <td>2017-01-01 01:55:00</td>\n",
              "      <td>48.9</td>\n",
              "      <td>NaN</td>\n",
              "      <td>54.0</td>\n",
              "      <td>29.86</td>\n",
              "      <td>10.0</td>\n",
              "      <td>Calm</td>\n",
              "      <td>NaN</td>\n",
              "      <td>NaN</td>\n",
              "      <td>Clear</td>\n",
              "      <td>False</td>\n",
              "      <td>False</td>\n",
              "      <td>False</td>\n",
              "      <td>False</td>\n",
              "      <td>False</td>\n",
              "      <td>False</td>\n",
              "      <td>False</td>\n",
              "      <td>False</td>\n",
              "      <td>False</td>\n",
              "      <td>False</td>\n",
              "      <td>False</td>\n",
              "      <td>False</td>\n",
              "      <td>False</td>\n",
              "      <td>Night</td>\n",
              "      <td>Night</td>\n",
              "      <td>Night</td>\n",
              "      <td>Night</td>\n",
              "      <td>1</td>\n",
              "    </tr>\n",
              "    <tr>\n",
              "      <th>15253</th>\n",
              "      <td>A-2731853</td>\n",
              "      <td>3</td>\n",
              "      <td>2017-01-01 02:00:10</td>\n",
              "      <td>2017-01-01 08:00:10</td>\n",
              "      <td>32.76268</td>\n",
              "      <td>-96.77526</td>\n",
              "      <td>32.724300</td>\n",
              "      <td>-96.762260</td>\n",
              "      <td>2.757</td>\n",
              "      <td>Between Lamar St/Exit 283 and Overton Rd/Exit ...</td>\n",
              "      <td>NaN</td>\n",
              "      <td>I-45 S</td>\n",
              "      <td>R</td>\n",
              "      <td>Dallas</td>\n",
              "      <td>Dallas</td>\n",
              "      <td>TX</td>\n",
              "      <td>75215</td>\n",
              "      <td>US</td>\n",
              "      <td>US/Central</td>\n",
              "      <td>KDAL</td>\n",
              "      <td>2017-01-01 01:53:00</td>\n",
              "      <td>48.9</td>\n",
              "      <td>NaN</td>\n",
              "      <td>64.0</td>\n",
              "      <td>29.84</td>\n",
              "      <td>10.0</td>\n",
              "      <td>WNW</td>\n",
              "      <td>5.8</td>\n",
              "      <td>NaN</td>\n",
              "      <td>Scattered Clouds</td>\n",
              "      <td>False</td>\n",
              "      <td>False</td>\n",
              "      <td>False</td>\n",
              "      <td>False</td>\n",
              "      <td>False</td>\n",
              "      <td>False</td>\n",
              "      <td>False</td>\n",
              "      <td>False</td>\n",
              "      <td>False</td>\n",
              "      <td>False</td>\n",
              "      <td>False</td>\n",
              "      <td>False</td>\n",
              "      <td>False</td>\n",
              "      <td>Night</td>\n",
              "      <td>Night</td>\n",
              "      <td>Night</td>\n",
              "      <td>Night</td>\n",
              "      <td>1</td>\n",
              "    </tr>\n",
              "  </tbody>\n",
              "</table>\n",
              "</div>"
            ],
            "text/plain": [
              "              ID  Severity  ... Astronomical_Twilight Month\n",
              "15249  A-2731849         2  ...                 Night     1\n",
              "15250  A-2731850         2  ...                 Night     1\n",
              "15251  A-2731851         2  ...                 Night     1\n",
              "15252  A-2731852         3  ...                 Night     1\n",
              "15253  A-2731853         3  ...                 Night     1\n",
              "\n",
              "[5 rows x 48 columns]"
            ]
          },
          "metadata": {},
          "execution_count": 44
        }
      ]
    },
    {
      "cell_type": "code",
      "metadata": {
        "id": "IAMZA7KR-HGD"
      },
      "source": [
        "# create a year column\n",
        "\n",
        "df_without_2016['Year'] = df['Start_Time'].dt.year"
      ],
      "execution_count": 45,
      "outputs": []
    },
    {
      "cell_type": "code",
      "metadata": {
        "colab": {
          "base_uri": "https://localhost:8080/",
          "height": 173
        },
        "id": "jnAHq5qG--Fw",
        "outputId": "bd5f2985-8784-4e2b-c79a-063f55729376"
      },
      "source": [
        "df_without_2016['Year'].value_counts()\n",
        "\n",
        "total_accidents_per_year_without_2016 = df_without_2016['Year'].value_counts().rename_axis('Year').reset_index(name = 'Number of Accidents')\n",
        "total_accidents_per_year_without_2016.sort_values(by = ['Year'], ascending = False, inplace = True)\n",
        "\n",
        "total_accidents_per_year_without_2016"
      ],
      "execution_count": 46,
      "outputs": [
        {
          "output_type": "execute_result",
          "data": {
            "text/html": [
              "<div>\n",
              "<style scoped>\n",
              "    .dataframe tbody tr th:only-of-type {\n",
              "        vertical-align: middle;\n",
              "    }\n",
              "\n",
              "    .dataframe tbody tr th {\n",
              "        vertical-align: top;\n",
              "    }\n",
              "\n",
              "    .dataframe thead th {\n",
              "        text-align: right;\n",
              "    }\n",
              "</style>\n",
              "<table border=\"1\" class=\"dataframe\">\n",
              "  <thead>\n",
              "    <tr style=\"text-align: right;\">\n",
              "      <th></th>\n",
              "      <th>Year</th>\n",
              "      <th>Number of Accidents</th>\n",
              "    </tr>\n",
              "  </thead>\n",
              "  <tbody>\n",
              "    <tr>\n",
              "      <th>0</th>\n",
              "      <td>2020</td>\n",
              "      <td>787932</td>\n",
              "    </tr>\n",
              "    <tr>\n",
              "      <th>1</th>\n",
              "      <td>2019</td>\n",
              "      <td>261772</td>\n",
              "    </tr>\n",
              "    <tr>\n",
              "      <th>3</th>\n",
              "      <td>2018</td>\n",
              "      <td>166936</td>\n",
              "    </tr>\n",
              "    <tr>\n",
              "      <th>2</th>\n",
              "      <td>2017</td>\n",
              "      <td>170099</td>\n",
              "    </tr>\n",
              "  </tbody>\n",
              "</table>\n",
              "</div>"
            ],
            "text/plain": [
              "   Year  Number of Accidents\n",
              "0  2020               787932\n",
              "1  2019               261772\n",
              "3  2018               166936\n",
              "2  2017               170099"
            ]
          },
          "metadata": {},
          "execution_count": 46
        }
      ]
    },
    {
      "cell_type": "code",
      "metadata": {
        "colab": {
          "base_uri": "https://localhost:8080/",
          "height": 467
        },
        "id": "E8LHtjWvAPDf",
        "outputId": "ce51579d-ca80-4582-e4e6-d29b4ea13bcd"
      },
      "source": [
        "fig = px.line(total_accidents_per_year_without_2016, x = \"Year\", y = \"Number of Accidents\",\n",
        "              title = \"Number of Accidents per Year from 2017 to 2020\", \n",
        "              color_discrete_sequence = ['#e83c33'])\n",
        "\n",
        "fig.update_traces(textposition = \"top left\", mode = \"lines+markers\")\n",
        "fig.update_xaxes(tickvals=[2017, 2018, 2019, 2020])\n",
        "\n",
        "fig.show(\"png\")"
      ],
      "execution_count": 63,
      "outputs": [
        {
          "output_type": "display_data",
          "data": {
            "image/png": "[encoded data removed]"
          },
          "metadata": {}
        }
      ]
    },
    {
      "cell_type": "markdown",
      "metadata": {
        "id": "ErOJT31dTR4M"
      },
      "source": [
        "A sharp increase in the number of accidents occurs in 2020."
      ]
    },
    {
      "cell_type": "markdown",
      "metadata": {
        "id": "iIgi4q4HKEDz"
      },
      "source": [
        "***"
      ]
    },
    {
      "cell_type": "markdown",
      "metadata": {
        "id": "zAB4i41pKInz"
      },
      "source": [
        "Create a distribution plot of the start times of the accidents for each hour of the day."
      ]
    },
    {
      "cell_type": "code",
      "metadata": {
        "id": "xM74X7bfPc8v",
        "colab": {
          "base_uri": "https://localhost:8080/",
          "height": 417
        },
        "outputId": "8fab76b9-a6c4-4f69-ad45-632d69c74066"
      },
      "source": [
        "fig = px.histogram(x = df['Start_Time'].dt.hour, nbins = 24, histnorm = 'probability density', title = 'Probability Density for the Start Times of the Accidents per Hour from February 2016 to December 2020',\n",
        "                   labels = {'value': 'Hour'})\n",
        "fig.update_layout(bargap=0.2, showlegend = False)\n",
        "fig.update_xaxes(tickvals = list(range(24)))\n",
        "fig.update_yaxes(title_text = 'Probability Density')\n",
        "\n",
        "fig.show(\"png\", width = 1000, height = 400)"
      ],
      "execution_count": 59,
      "outputs": [
        {
          "output_type": "display_data",
          "data": {
            "image/png": "[encoded data removed]"
          },
          "metadata": {}
        }
      ]
    },
    {
      "cell_type": "markdown",
      "metadata": {
        "id": "xPceC749dkba"
      },
      "source": [
        "Create a distribution plot of the start times of the accidents for each day of the week."
      ]
    },
    {
      "cell_type": "code",
      "metadata": {
        "id": "7pKeT6BsWVYr",
        "colab": {
          "base_uri": "https://localhost:8080/",
          "height": 417
        },
        "outputId": "3a37afa9-b19a-4542-ffec-b9cb9a2952a6"
      },
      "source": [
        "fig = px.histogram(x = df['Start_Time'].dt.day_name(), nbins = 7,\n",
        "                   histnorm = 'probability density', title = 'Probability Density for the Start Times of the Accidents from February 2016 to December 2020')\n",
        "fig.update_layout(bargap=0.2, showlegend = False)\n",
        "fig.update_yaxes(title_text = 'Probability Density')\n",
        "fig.update_xaxes(title_text = 'Day of Week')\n",
        "\n",
        "fig.show(\"png\", width = 1000, height = 400)"
      ],
      "execution_count": 64,
      "outputs": [
        {
          "output_type": "display_data",
          "data": {
            "image/png": "[encoded data removed]"
          },
          "metadata": {}
        }
      ]
    }
  ]
}